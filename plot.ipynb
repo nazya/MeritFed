{
 "cells": [
  {
   "cell_type": "code",
   "execution_count": 72,
   "id": "3fca1b86-9a95-4781-b008-f1a0d5f1af51",
   "metadata": {},
   "outputs": [],
   "source": [
    "import os\n",
    "import numpy as np\n",
    "import pandas as pd\n",
    "\n",
    "import mlflow\n",
    "from mlflow import MlflowClient\n",
    "from mlflow.entities import ViewType\n",
    "\n",
    "import matplotlib.pyplot as plt\n",
    "import matplotlib.colors as mcolors\n",
    "# %matplotlib widget\n",
    "%matplotlib inline"
   ]
  },
  {
   "cell_type": "code",
   "execution_count": 38,
   "id": "68b96805-056a-4c0d-bd64-0f2a7aef84fd",
   "metadata": {},
   "outputs": [],
   "source": [
    "tracking_uri = os.path.expanduser('~/mlruns/')\n",
    "mlflow.set_tracking_uri(tracking_uri)\n",
    "experiment_name = os.path.basename(os.getcwd())"
   ]
  },
  {
   "cell_type": "code",
   "execution_count": 46,
   "id": "b6c33436-fa57-4d56-9ac0-e31dfda167f7",
   "metadata": {
    "tags": []
   },
   "outputs": [],
   "source": [
    "experiment_name = 'MeritFed-M'"
   ]
  },
  {
   "cell_type": "code",
   "execution_count": 132,
   "id": "bae2c3ea-71d5-4c24-8552-e620f660832a",
   "metadata": {
    "tags": []
   },
   "outputs": [],
   "source": [
    "e = client.get_experiment_by_name(experiment_name)\n",
    "\n",
    "# query = \"params.Title = ''\"\n",
    "runs = mlflow.search_runs(experiment_names=[experiment_name],\n",
    "# runs = mlflow.search_runs(experiment_ids=e.experiment_id,\n",
    "                          # # filter_string=query,\n",
    "                          # filter_string='',\n",
    "                          output_format='list',\n",
    "                          run_view_type=ViewType.ACTIVE_ONLY)\n"
   ]
  },
  {
   "cell_type": "code",
   "execution_count": 65,
   "id": "3ff69eef-250e-4c53-a4d0-3951d2a033db",
   "metadata": {
    "tags": []
   },
   "outputs": [
    {
     "data": {
      "text/plain": [
       "0     0.968916\n",
       "1     0.928987\n",
       "2     0.969169\n",
       "3     0.943139\n",
       "4     0.967400\n",
       "5     0.921152\n",
       "6     0.967652\n",
       "7     0.943139\n",
       "8     0.956280\n",
       "9     0.955775\n",
       "10    0.902957\n",
       "11    0.943139\n",
       "12    0.945773\n",
       "13    0.898940\n",
       "14    0.946019\n",
       "15    0.919645\n",
       "16    0.962534\n",
       "17    0.915948\n",
       "18    0.962287\n",
       "19    0.919645\n",
       "20    0.971407\n",
       "21    0.921124\n",
       "22    0.971654\n",
       "23    0.919645\n",
       "Name: metrics.accuracy, dtype: float64"
      ]
     },
     "execution_count": 65,
     "metadata": {},
     "output_type": "execute_result"
    }
   ],
   "source": [
    "runs.dropna()\n",
    "runs['metrics.accuracy'] "
   ]
  },
  {
   "cell_type": "code",
   "execution_count": 119,
   "id": "ba05a942-6f99-4699-8b55-503d608c72c9",
   "metadata": {
    "tags": []
   },
   "outputs": [],
   "source": []
  },
  {
   "cell_type": "code",
   "execution_count": 133,
   "id": "76b5df56-5fba-4a8f-a6a6-067acbba05db",
   "metadata": {
    "tags": []
   },
   "outputs": [
    {
     "data": {
      "application/vnd.jupyter.widget-view+json": {
       "model_id": "eee69bf903c64fb8abfc16909cfb3521",
       "version_major": 2,
       "version_minor": 0
      },
      "text/plain": [
       "Downloading artifacts:   0%|          | 0/1 [00:00<?, ?it/s]"
      ]
     },
     "metadata": {},
     "output_type": "display_data"
    },
    {
     "data": {
      "application/vnd.jupyter.widget-view+json": {
       "model_id": "9bab93ffdc534e1d90cedbfc92a5f1ad",
       "version_major": 2,
       "version_minor": 0
      },
      "text/plain": [
       "Downloading artifacts:   0%|          | 0/1 [00:00<?, ?it/s]"
      ]
     },
     "metadata": {},
     "output_type": "display_data"
    },
    {
     "data": {
      "application/vnd.jupyter.widget-view+json": {
       "model_id": "2890d3e6fa5c4ef3a044cd1c850572ac",
       "version_major": 2,
       "version_minor": 0
      },
      "text/plain": [
       "Downloading artifacts:   0%|          | 0/1 [00:00<?, ?it/s]"
      ]
     },
     "metadata": {},
     "output_type": "display_data"
    },
    {
     "data": {
      "application/vnd.jupyter.widget-view+json": {
       "model_id": "2d3a6e6ce19f483d9743b6ef06c4507a",
       "version_major": 2,
       "version_minor": 0
      },
      "text/plain": [
       "Downloading artifacts:   0%|          | 0/1 [00:00<?, ?it/s]"
      ]
     },
     "metadata": {},
     "output_type": "display_data"
    },
    {
     "data": {
      "application/vnd.jupyter.widget-view+json": {
       "model_id": "7616dc75f7d74595adc6d247470f4b9a",
       "version_major": 2,
       "version_minor": 0
      },
      "text/plain": [
       "Downloading artifacts:   0%|          | 0/1 [00:00<?, ?it/s]"
      ]
     },
     "metadata": {},
     "output_type": "display_data"
    },
    {
     "data": {
      "application/vnd.jupyter.widget-view+json": {
       "model_id": "b4c91d0fd06c4d01aaed706affb23960",
       "version_major": 2,
       "version_minor": 0
      },
      "text/plain": [
       "Downloading artifacts:   0%|          | 0/1 [00:00<?, ?it/s]"
      ]
     },
     "metadata": {},
     "output_type": "display_data"
    },
    {
     "data": {
      "application/vnd.jupyter.widget-view+json": {
       "model_id": "807516bc6ec94d2c9f89f6f512c0d51f",
       "version_major": 2,
       "version_minor": 0
      },
      "text/plain": [
       "Downloading artifacts:   0%|          | 0/1 [00:00<?, ?it/s]"
      ]
     },
     "metadata": {},
     "output_type": "display_data"
    },
    {
     "data": {
      "application/vnd.jupyter.widget-view+json": {
       "model_id": "793f0166c0cf47ea81e0396b44b32b30",
       "version_major": 2,
       "version_minor": 0
      },
      "text/plain": [
       "Downloading artifacts:   0%|          | 0/1 [00:00<?, ?it/s]"
      ]
     },
     "metadata": {},
     "output_type": "display_data"
    },
    {
     "data": {
      "application/vnd.jupyter.widget-view+json": {
       "model_id": "8fc6f48f7ea0465eb5c48032a60b91c3",
       "version_major": 2,
       "version_minor": 0
      },
      "text/plain": [
       "Downloading artifacts:   0%|          | 0/1 [00:00<?, ?it/s]"
      ]
     },
     "metadata": {},
     "output_type": "display_data"
    },
    {
     "data": {
      "application/vnd.jupyter.widget-view+json": {
       "model_id": "9fba38708bb1479182547c58e1804e01",
       "version_major": 2,
       "version_minor": 0
      },
      "text/plain": [
       "Downloading artifacts:   0%|          | 0/1 [00:00<?, ?it/s]"
      ]
     },
     "metadata": {},
     "output_type": "display_data"
    },
    {
     "data": {
      "application/vnd.jupyter.widget-view+json": {
       "model_id": "81286cf12e284b4fa8f803a754ad92e1",
       "version_major": 2,
       "version_minor": 0
      },
      "text/plain": [
       "Downloading artifacts:   0%|          | 0/1 [00:00<?, ?it/s]"
      ]
     },
     "metadata": {},
     "output_type": "display_data"
    },
    {
     "data": {
      "application/vnd.jupyter.widget-view+json": {
       "model_id": "2ca6c351c07f4d2ebfe46165f12edfcd",
       "version_major": 2,
       "version_minor": 0
      },
      "text/plain": [
       "Downloading artifacts:   0%|          | 0/1 [00:00<?, ?it/s]"
      ]
     },
     "metadata": {},
     "output_type": "display_data"
    },
    {
     "data": {
      "application/vnd.jupyter.widget-view+json": {
       "model_id": "b0ee4fba202143a19168ca9e95607074",
       "version_major": 2,
       "version_minor": 0
      },
      "text/plain": [
       "Downloading artifacts:   0%|          | 0/1 [00:00<?, ?it/s]"
      ]
     },
     "metadata": {},
     "output_type": "display_data"
    },
    {
     "data": {
      "application/vnd.jupyter.widget-view+json": {
       "model_id": "f44a2e7552274ad4bc09e89747123124",
       "version_major": 2,
       "version_minor": 0
      },
      "text/plain": [
       "Downloading artifacts:   0%|          | 0/1 [00:00<?, ?it/s]"
      ]
     },
     "metadata": {},
     "output_type": "display_data"
    },
    {
     "data": {
      "application/vnd.jupyter.widget-view+json": {
       "model_id": "1a86a36e3ee24d4fa3380cb2b569cc8f",
       "version_major": 2,
       "version_minor": 0
      },
      "text/plain": [
       "Downloading artifacts:   0%|          | 0/1 [00:00<?, ?it/s]"
      ]
     },
     "metadata": {},
     "output_type": "display_data"
    },
    {
     "data": {
      "application/vnd.jupyter.widget-view+json": {
       "model_id": "6fc32960263341d2b85c0c78a31fc5b9",
       "version_major": 2,
       "version_minor": 0
      },
      "text/plain": [
       "Downloading artifacts:   0%|          | 0/1 [00:00<?, ?it/s]"
      ]
     },
     "metadata": {},
     "output_type": "display_data"
    },
    {
     "data": {
      "application/vnd.jupyter.widget-view+json": {
       "model_id": "b2c23012d4c443578933cdb296a57a65",
       "version_major": 2,
       "version_minor": 0
      },
      "text/plain": [
       "Downloading artifacts:   0%|          | 0/1 [00:00<?, ?it/s]"
      ]
     },
     "metadata": {},
     "output_type": "display_data"
    },
    {
     "data": {
      "application/vnd.jupyter.widget-view+json": {
       "model_id": "6e2f3a68a2584a51a8b6d57fed9976d5",
       "version_major": 2,
       "version_minor": 0
      },
      "text/plain": [
       "Downloading artifacts:   0%|          | 0/1 [00:00<?, ?it/s]"
      ]
     },
     "metadata": {},
     "output_type": "display_data"
    },
    {
     "data": {
      "application/vnd.jupyter.widget-view+json": {
       "model_id": "d048e77ec2fc44ac8aca69f233951ac6",
       "version_major": 2,
       "version_minor": 0
      },
      "text/plain": [
       "Downloading artifacts:   0%|          | 0/1 [00:00<?, ?it/s]"
      ]
     },
     "metadata": {},
     "output_type": "display_data"
    },
    {
     "data": {
      "application/vnd.jupyter.widget-view+json": {
       "model_id": "cb53ce4dadb84d068a7d3d9ef8c7311d",
       "version_major": 2,
       "version_minor": 0
      },
      "text/plain": [
       "Downloading artifacts:   0%|          | 0/1 [00:00<?, ?it/s]"
      ]
     },
     "metadata": {},
     "output_type": "display_data"
    },
    {
     "data": {
      "application/vnd.jupyter.widget-view+json": {
       "model_id": "06f6660fc3544392856ccf94e7abc010",
       "version_major": 2,
       "version_minor": 0
      },
      "text/plain": [
       "Downloading artifacts:   0%|          | 0/1 [00:00<?, ?it/s]"
      ]
     },
     "metadata": {},
     "output_type": "display_data"
    },
    {
     "data": {
      "application/vnd.jupyter.widget-view+json": {
       "model_id": "f2c6e9d56171481194113be7d71cf01f",
       "version_major": 2,
       "version_minor": 0
      },
      "text/plain": [
       "Downloading artifacts:   0%|          | 0/1 [00:00<?, ?it/s]"
      ]
     },
     "metadata": {},
     "output_type": "display_data"
    },
    {
     "data": {
      "application/vnd.jupyter.widget-view+json": {
       "model_id": "ca16d23a6c2e42ffa074d10a1137daae",
       "version_major": 2,
       "version_minor": 0
      },
      "text/plain": [
       "Downloading artifacts:   0%|          | 0/1 [00:00<?, ?it/s]"
      ]
     },
     "metadata": {},
     "output_type": "display_data"
    },
    {
     "data": {
      "application/vnd.jupyter.widget-view+json": {
       "model_id": "a8b2b4f432ba443da7c3e4ce59f7578a",
       "version_major": 2,
       "version_minor": 0
      },
      "text/plain": [
       "Downloading artifacts:   0%|          | 0/1 [00:00<?, ?it/s]"
      ]
     },
     "metadata": {},
     "output_type": "display_data"
    },
    {
     "data": {
      "text/html": [
       "<div>\n",
       "<style scoped>\n",
       "    .dataframe tbody tr th:only-of-type {\n",
       "        vertical-align: middle;\n",
       "    }\n",
       "\n",
       "    .dataframe tbody tr th {\n",
       "        vertical-align: top;\n",
       "    }\n",
       "\n",
       "    .dataframe thead th {\n",
       "        text-align: right;\n",
       "    }\n",
       "</style>\n",
       "<table border=\"1\" class=\"dataframe\">\n",
       "  <thead>\n",
       "    <tr style=\"text-align: right;\">\n",
       "      <th></th>\n",
       "      <th>key</th>\n",
       "      <th>step</th>\n",
       "      <th>timestamp</th>\n",
       "      <th>value</th>\n",
       "      <th>n_iters</th>\n",
       "      <th>n_peers</th>\n",
       "      <th>seed</th>\n",
       "      <th>model</th>\n",
       "      <th>loss</th>\n",
       "      <th>dataset</th>\n",
       "      <th>n_samples</th>\n",
       "      <th>h_ratio</th>\n",
       "      <th>mu_normal</th>\n",
       "      <th>optimizer</th>\n",
       "      <th>batch_size</th>\n",
       "      <th>lr</th>\n",
       "      <th>true_weights</th>\n",
       "      <th>md_n_iters_</th>\n",
       "      <th>md_full_</th>\n",
       "      <th>md_lr_</th>\n",
       "    </tr>\n",
       "  </thead>\n",
       "  <tbody>\n",
       "    <tr>\n",
       "      <th>0</th>\n",
       "      <td>loss</td>\n",
       "      <td>0</td>\n",
       "      <td>1697377690742</td>\n",
       "      <td>1.604056</td>\n",
       "      <td>5000</td>\n",
       "      <td>20</td>\n",
       "      <td>0</td>\n",
       "      <td>{'name': 'Linear', 'id': 0}</td>\n",
       "      <td>{'name': 'CrossEntropy', 'id': 1}</td>\n",
       "      <td>{'name': 'MNIST', 'id': 1}</td>\n",
       "      <td>200</td>\n",
       "      <td>0.99</td>\n",
       "      <td>None</td>\n",
       "      <td>{'name': 'MeritFed', 'id': 1}</td>\n",
       "      <td>20</td>\n",
       "      <td>0.01</td>\n",
       "      <td>None</td>\n",
       "      <td>20</td>\n",
       "      <td>False</td>\n",
       "      <td>0.05</td>\n",
       "    </tr>\n",
       "    <tr>\n",
       "      <th>1</th>\n",
       "      <td>loss</td>\n",
       "      <td>50</td>\n",
       "      <td>1697377693038</td>\n",
       "      <td>0.896400</td>\n",
       "      <td>5000</td>\n",
       "      <td>20</td>\n",
       "      <td>0</td>\n",
       "      <td>{'name': 'Linear', 'id': 0}</td>\n",
       "      <td>{'name': 'CrossEntropy', 'id': 1}</td>\n",
       "      <td>{'name': 'MNIST', 'id': 1}</td>\n",
       "      <td>200</td>\n",
       "      <td>0.99</td>\n",
       "      <td>None</td>\n",
       "      <td>{'name': 'MeritFed', 'id': 1}</td>\n",
       "      <td>20</td>\n",
       "      <td>0.01</td>\n",
       "      <td>None</td>\n",
       "      <td>20</td>\n",
       "      <td>False</td>\n",
       "      <td>0.05</td>\n",
       "    </tr>\n",
       "    <tr>\n",
       "      <th>2</th>\n",
       "      <td>loss</td>\n",
       "      <td>101</td>\n",
       "      <td>1697377693797</td>\n",
       "      <td>0.614043</td>\n",
       "      <td>5000</td>\n",
       "      <td>20</td>\n",
       "      <td>0</td>\n",
       "      <td>{'name': 'Linear', 'id': 0}</td>\n",
       "      <td>{'name': 'CrossEntropy', 'id': 1}</td>\n",
       "      <td>{'name': 'MNIST', 'id': 1}</td>\n",
       "      <td>200</td>\n",
       "      <td>0.99</td>\n",
       "      <td>None</td>\n",
       "      <td>{'name': 'MeritFed', 'id': 1}</td>\n",
       "      <td>20</td>\n",
       "      <td>0.01</td>\n",
       "      <td>None</td>\n",
       "      <td>20</td>\n",
       "      <td>False</td>\n",
       "      <td>0.05</td>\n",
       "    </tr>\n",
       "    <tr>\n",
       "      <th>3</th>\n",
       "      <td>loss</td>\n",
       "      <td>151</td>\n",
       "      <td>1697377694550</td>\n",
       "      <td>0.491564</td>\n",
       "      <td>5000</td>\n",
       "      <td>20</td>\n",
       "      <td>0</td>\n",
       "      <td>{'name': 'Linear', 'id': 0}</td>\n",
       "      <td>{'name': 'CrossEntropy', 'id': 1}</td>\n",
       "      <td>{'name': 'MNIST', 'id': 1}</td>\n",
       "      <td>200</td>\n",
       "      <td>0.99</td>\n",
       "      <td>None</td>\n",
       "      <td>{'name': 'MeritFed', 'id': 1}</td>\n",
       "      <td>20</td>\n",
       "      <td>0.01</td>\n",
       "      <td>None</td>\n",
       "      <td>20</td>\n",
       "      <td>False</td>\n",
       "      <td>0.05</td>\n",
       "    </tr>\n",
       "    <tr>\n",
       "      <th>4</th>\n",
       "      <td>loss</td>\n",
       "      <td>202</td>\n",
       "      <td>1697377695303</td>\n",
       "      <td>0.423449</td>\n",
       "      <td>5000</td>\n",
       "      <td>20</td>\n",
       "      <td>0</td>\n",
       "      <td>{'name': 'Linear', 'id': 0}</td>\n",
       "      <td>{'name': 'CrossEntropy', 'id': 1}</td>\n",
       "      <td>{'name': 'MNIST', 'id': 1}</td>\n",
       "      <td>200</td>\n",
       "      <td>0.99</td>\n",
       "      <td>None</td>\n",
       "      <td>{'name': 'MeritFed', 'id': 1}</td>\n",
       "      <td>20</td>\n",
       "      <td>0.01</td>\n",
       "      <td>None</td>\n",
       "      <td>20</td>\n",
       "      <td>False</td>\n",
       "      <td>0.05</td>\n",
       "    </tr>\n",
       "    <tr>\n",
       "      <th>...</th>\n",
       "      <td>...</td>\n",
       "      <td>...</td>\n",
       "      <td>...</td>\n",
       "      <td>...</td>\n",
       "      <td>...</td>\n",
       "      <td>...</td>\n",
       "      <td>...</td>\n",
       "      <td>...</td>\n",
       "      <td>...</td>\n",
       "      <td>...</td>\n",
       "      <td>...</td>\n",
       "      <td>...</td>\n",
       "      <td>...</td>\n",
       "      <td>...</td>\n",
       "      <td>...</td>\n",
       "      <td>...</td>\n",
       "      <td>...</td>\n",
       "      <td>...</td>\n",
       "      <td>...</td>\n",
       "      <td>...</td>\n",
       "    </tr>\n",
       "    <tr>\n",
       "      <th>2295</th>\n",
       "      <td>loss</td>\n",
       "      <td>4797</td>\n",
       "      <td>1697373868338</td>\n",
       "      <td>0.094498</td>\n",
       "      <td>5000</td>\n",
       "      <td>20</td>\n",
       "      <td>0</td>\n",
       "      <td>{'name': 'Linear', 'id': 0}</td>\n",
       "      <td>{'name': 'CrossEntropy', 'id': 1}</td>\n",
       "      <td>{'name': 'MNIST', 'id': 1}</td>\n",
       "      <td>100</td>\n",
       "      <td>0.99</td>\n",
       "      <td>None</td>\n",
       "      <td>{'name': 'MeritFed', 'id': 1}</td>\n",
       "      <td>10</td>\n",
       "      <td>0.01</td>\n",
       "      <td>None</td>\n",
       "      <td>20</td>\n",
       "      <td>True</td>\n",
       "      <td>0.05</td>\n",
       "    </tr>\n",
       "    <tr>\n",
       "      <th>2296</th>\n",
       "      <td>loss</td>\n",
       "      <td>4848</td>\n",
       "      <td>1697373868984</td>\n",
       "      <td>0.094360</td>\n",
       "      <td>5000</td>\n",
       "      <td>20</td>\n",
       "      <td>0</td>\n",
       "      <td>{'name': 'Linear', 'id': 0}</td>\n",
       "      <td>{'name': 'CrossEntropy', 'id': 1}</td>\n",
       "      <td>{'name': 'MNIST', 'id': 1}</td>\n",
       "      <td>100</td>\n",
       "      <td>0.99</td>\n",
       "      <td>None</td>\n",
       "      <td>{'name': 'MeritFed', 'id': 1}</td>\n",
       "      <td>10</td>\n",
       "      <td>0.01</td>\n",
       "      <td>None</td>\n",
       "      <td>20</td>\n",
       "      <td>True</td>\n",
       "      <td>0.05</td>\n",
       "    </tr>\n",
       "    <tr>\n",
       "      <th>2297</th>\n",
       "      <td>loss</td>\n",
       "      <td>4898</td>\n",
       "      <td>1697373869607</td>\n",
       "      <td>0.094004</td>\n",
       "      <td>5000</td>\n",
       "      <td>20</td>\n",
       "      <td>0</td>\n",
       "      <td>{'name': 'Linear', 'id': 0}</td>\n",
       "      <td>{'name': 'CrossEntropy', 'id': 1}</td>\n",
       "      <td>{'name': 'MNIST', 'id': 1}</td>\n",
       "      <td>100</td>\n",
       "      <td>0.99</td>\n",
       "      <td>None</td>\n",
       "      <td>{'name': 'MeritFed', 'id': 1}</td>\n",
       "      <td>10</td>\n",
       "      <td>0.01</td>\n",
       "      <td>None</td>\n",
       "      <td>20</td>\n",
       "      <td>True</td>\n",
       "      <td>0.05</td>\n",
       "    </tr>\n",
       "    <tr>\n",
       "      <th>2298</th>\n",
       "      <td>loss</td>\n",
       "      <td>4949</td>\n",
       "      <td>1697373870234</td>\n",
       "      <td>0.093789</td>\n",
       "      <td>5000</td>\n",
       "      <td>20</td>\n",
       "      <td>0</td>\n",
       "      <td>{'name': 'Linear', 'id': 0}</td>\n",
       "      <td>{'name': 'CrossEntropy', 'id': 1}</td>\n",
       "      <td>{'name': 'MNIST', 'id': 1}</td>\n",
       "      <td>100</td>\n",
       "      <td>0.99</td>\n",
       "      <td>None</td>\n",
       "      <td>{'name': 'MeritFed', 'id': 1}</td>\n",
       "      <td>10</td>\n",
       "      <td>0.01</td>\n",
       "      <td>None</td>\n",
       "      <td>20</td>\n",
       "      <td>True</td>\n",
       "      <td>0.05</td>\n",
       "    </tr>\n",
       "    <tr>\n",
       "      <th>2299</th>\n",
       "      <td>loss</td>\n",
       "      <td>4999</td>\n",
       "      <td>1697373870878</td>\n",
       "      <td>0.093529</td>\n",
       "      <td>5000</td>\n",
       "      <td>20</td>\n",
       "      <td>0</td>\n",
       "      <td>{'name': 'Linear', 'id': 0}</td>\n",
       "      <td>{'name': 'CrossEntropy', 'id': 1}</td>\n",
       "      <td>{'name': 'MNIST', 'id': 1}</td>\n",
       "      <td>100</td>\n",
       "      <td>0.99</td>\n",
       "      <td>None</td>\n",
       "      <td>{'name': 'MeritFed', 'id': 1}</td>\n",
       "      <td>10</td>\n",
       "      <td>0.01</td>\n",
       "      <td>None</td>\n",
       "      <td>20</td>\n",
       "      <td>True</td>\n",
       "      <td>0.05</td>\n",
       "    </tr>\n",
       "  </tbody>\n",
       "</table>\n",
       "<p>2300 rows × 20 columns</p>\n",
       "</div>"
      ],
      "text/plain": [
       "       key  step      timestamp     value  n_iters  n_peers  seed  \\\n",
       "0     loss     0  1697377690742  1.604056     5000       20     0   \n",
       "1     loss    50  1697377693038  0.896400     5000       20     0   \n",
       "2     loss   101  1697377693797  0.614043     5000       20     0   \n",
       "3     loss   151  1697377694550  0.491564     5000       20     0   \n",
       "4     loss   202  1697377695303  0.423449     5000       20     0   \n",
       "...    ...   ...            ...       ...      ...      ...   ...   \n",
       "2295  loss  4797  1697373868338  0.094498     5000       20     0   \n",
       "2296  loss  4848  1697373868984  0.094360     5000       20     0   \n",
       "2297  loss  4898  1697373869607  0.094004     5000       20     0   \n",
       "2298  loss  4949  1697373870234  0.093789     5000       20     0   \n",
       "2299  loss  4999  1697373870878  0.093529     5000       20     0   \n",
       "\n",
       "                            model                               loss  \\\n",
       "0     {'name': 'Linear', 'id': 0}  {'name': 'CrossEntropy', 'id': 1}   \n",
       "1     {'name': 'Linear', 'id': 0}  {'name': 'CrossEntropy', 'id': 1}   \n",
       "2     {'name': 'Linear', 'id': 0}  {'name': 'CrossEntropy', 'id': 1}   \n",
       "3     {'name': 'Linear', 'id': 0}  {'name': 'CrossEntropy', 'id': 1}   \n",
       "4     {'name': 'Linear', 'id': 0}  {'name': 'CrossEntropy', 'id': 1}   \n",
       "...                           ...                                ...   \n",
       "2295  {'name': 'Linear', 'id': 0}  {'name': 'CrossEntropy', 'id': 1}   \n",
       "2296  {'name': 'Linear', 'id': 0}  {'name': 'CrossEntropy', 'id': 1}   \n",
       "2297  {'name': 'Linear', 'id': 0}  {'name': 'CrossEntropy', 'id': 1}   \n",
       "2298  {'name': 'Linear', 'id': 0}  {'name': 'CrossEntropy', 'id': 1}   \n",
       "2299  {'name': 'Linear', 'id': 0}  {'name': 'CrossEntropy', 'id': 1}   \n",
       "\n",
       "                         dataset  n_samples  h_ratio mu_normal  \\\n",
       "0     {'name': 'MNIST', 'id': 1}        200     0.99      None   \n",
       "1     {'name': 'MNIST', 'id': 1}        200     0.99      None   \n",
       "2     {'name': 'MNIST', 'id': 1}        200     0.99      None   \n",
       "3     {'name': 'MNIST', 'id': 1}        200     0.99      None   \n",
       "4     {'name': 'MNIST', 'id': 1}        200     0.99      None   \n",
       "...                          ...        ...      ...       ...   \n",
       "2295  {'name': 'MNIST', 'id': 1}        100     0.99      None   \n",
       "2296  {'name': 'MNIST', 'id': 1}        100     0.99      None   \n",
       "2297  {'name': 'MNIST', 'id': 1}        100     0.99      None   \n",
       "2298  {'name': 'MNIST', 'id': 1}        100     0.99      None   \n",
       "2299  {'name': 'MNIST', 'id': 1}        100     0.99      None   \n",
       "\n",
       "                          optimizer  batch_size    lr true_weights  \\\n",
       "0     {'name': 'MeritFed', 'id': 1}          20  0.01         None   \n",
       "1     {'name': 'MeritFed', 'id': 1}          20  0.01         None   \n",
       "2     {'name': 'MeritFed', 'id': 1}          20  0.01         None   \n",
       "3     {'name': 'MeritFed', 'id': 1}          20  0.01         None   \n",
       "4     {'name': 'MeritFed', 'id': 1}          20  0.01         None   \n",
       "...                             ...         ...   ...          ...   \n",
       "2295  {'name': 'MeritFed', 'id': 1}          10  0.01         None   \n",
       "2296  {'name': 'MeritFed', 'id': 1}          10  0.01         None   \n",
       "2297  {'name': 'MeritFed', 'id': 1}          10  0.01         None   \n",
       "2298  {'name': 'MeritFed', 'id': 1}          10  0.01         None   \n",
       "2299  {'name': 'MeritFed', 'id': 1}          10  0.01         None   \n",
       "\n",
       "     md_n_iters_ md_full_ md_lr_  \n",
       "0             20    False   0.05  \n",
       "1             20    False   0.05  \n",
       "2             20    False   0.05  \n",
       "3             20    False   0.05  \n",
       "4             20    False   0.05  \n",
       "...          ...      ...    ...  \n",
       "2295          20     True   0.05  \n",
       "2296          20     True   0.05  \n",
       "2297          20     True   0.05  \n",
       "2298          20     True   0.05  \n",
       "2299          20     True   0.05  \n",
       "\n",
       "[2300 rows x 20 columns]"
      ]
     },
     "execution_count": 133,
     "metadata": {},
     "output_type": "execute_result"
    }
   ],
   "source": [
    "metric_key = 'loss'\n",
    "df = list()\n",
    "for r in runs:\n",
    "    r_id=r.info.run_id\n",
    "    config = mlflow.artifacts.load_dict(r.info.artifact_uri+'/config.json')\n",
    "    history = client.get_metric_history(run_id=r_id, key=metric_key)\n",
    "    history = [dict(e, **config) for e in history]\n",
    "    # history = [dict(e, **{'run_id': r_id}) for e in history]\n",
    "    # history.add(\n",
    "    df.append(pd.DataFrame.from_dict(history))\n",
    "df = pd.concat(df).reset_index(drop=True)\n",
    "df.head(-100)"
   ]
  },
  {
   "cell_type": "code",
   "execution_count": 130,
   "id": "7ea781d2-bb36-4f37-ac4e-e97aede2a2ab",
   "metadata": {
    "tags": []
   },
   "outputs": [
    {
     "ename": "AttributeError",
     "evalue": "module 'seaborn' has no attribute 'show'",
     "output_type": "error",
     "traceback": [
      "\u001b[0;31m---------------------------------------------------------------------------\u001b[0m",
      "\u001b[0;31mAttributeError\u001b[0m                            Traceback (most recent call last)",
      "Cell \u001b[0;32mIn[130], line 3\u001b[0m\n\u001b[1;32m      1\u001b[0m \u001b[38;5;28;01mimport\u001b[39;00m \u001b[38;5;21;01mseaborn\u001b[39;00m \u001b[38;5;28;01mas\u001b[39;00m \u001b[38;5;21;01msns\u001b[39;00m\n\u001b[1;32m      2\u001b[0m sns\u001b[38;5;241m.\u001b[39mlineplot(data\u001b[38;5;241m=\u001b[39mdf, x\u001b[38;5;241m=\u001b[39m\u001b[38;5;124m'\u001b[39m\u001b[38;5;124mstep\u001b[39m\u001b[38;5;124m'\u001b[39m, y\u001b[38;5;241m=\u001b[39m\u001b[38;5;124m'\u001b[39m\u001b[38;5;124mvalue\u001b[39m\u001b[38;5;124m'\u001b[39m, palette\u001b[38;5;241m=\u001b[39m\u001b[38;5;124m\"\u001b[39m\u001b[38;5;124mmagma\u001b[39m\u001b[38;5;124m\"\u001b[39m, hue\u001b[38;5;241m=\u001b[39m\u001b[38;5;124m'\u001b[39m\u001b[38;5;124mrun_id\u001b[39m\u001b[38;5;124m'\u001b[39m)\n\u001b[0;32m----> 3\u001b[0m sns\u001b[38;5;241m.\u001b[39mshow()\n\u001b[1;32m      4\u001b[0m sns\u001b[38;5;241m.\u001b[39mlineplot(data\u001b[38;5;241m=\u001b[39mdf, x\u001b[38;5;241m=\u001b[39m\u001b[38;5;124m'\u001b[39m\u001b[38;5;124mtimestamp\u001b[39m\u001b[38;5;124m'\u001b[39m, y\u001b[38;5;241m=\u001b[39m\u001b[38;5;124m'\u001b[39m\u001b[38;5;124mvalue\u001b[39m\u001b[38;5;124m'\u001b[39m, palette\u001b[38;5;241m=\u001b[39m\u001b[38;5;124m\"\u001b[39m\u001b[38;5;124mmagma\u001b[39m\u001b[38;5;124m\"\u001b[39m, hue\u001b[38;5;241m=\u001b[39m\u001b[38;5;124m'\u001b[39m\u001b[38;5;124mrun_id\u001b[39m\u001b[38;5;124m'\u001b[39m)\n",
      "\u001b[0;31mAttributeError\u001b[0m: module 'seaborn' has no attribute 'show'"
     ]
    },
    {
     "data": {
      "image/png": "[encoded data removed]",
      "text/plain": [
       "<Figure size 640x480 with 1 Axes>"
      ]
     },
     "metadata": {},
     "output_type": "display_data"
    }
   ],
   "source": [
    "import seaborn as sns\n",
    "sns.lineplot(data=df, x='step', y='value', palette=\"magma\", hue='run_id')\n",
    "sns.lineplot(data=df, x='timestamp', y='value', palette=\"magma\", hue='run_id')"
   ]
  },
  {
   "cell_type": "code",
   "execution_count": null,
   "id": "fe08c4ac-f0ba-4392-82c8-6be4b3a45704",
   "metadata": {},
   "outputs": [],
   "source": [
    "def plot1(worker_steps, reg, adv_strength, mode):\n",
    "    df = train_exp_df if mode == \"train\" else valid_exp_df\n",
    "    plot_df = df[(df[\"worker_steps\"] == worker_steps) & \n",
    "                 (df[\"reg\"] == reg) & \n",
    "                 (df[\"adv_strength\"] == adv_strength)]\n",
    "    for metric in metrics:\n",
    "        plt.figure()\n",
    "        sns.lineplot(data=plot_df,\n",
    "            x=\"E\", y=metric, hue=\"adv_reg\", palette=\"magma\", hue_norm=LogNorm(), style=\"attack\", style_order=[\"NA\", \"LF\", \"ALIE\"])\n",
    "        plt.title(f\"Adversarial MNIST, {mode}, {metric}, {worker_steps} steps, reg = {reg}\")\n",
    "        plt.xlabel(\"Epochs\")\n",
    "        plt.ylabel(metric)\n",
    "        # plt.yscale(\"log\")\n",
    "        plt.savefig(f\"outputs/adv_{metric}_wstep{worker_steps}_reg{reg}_{mode}.pdf\")"
   ]
  },
  {
   "cell_type": "code",
   "execution_count": 11,
   "id": "aeee6a92-3416-40af-bef3-274fe9492669",
   "metadata": {},
   "outputs": [],
   "source": [
    "# del mcolors.TABLEAU_COLORS['tab:pink']\n",
    "colors = list(mcolors.TABLEAU_COLORS.keys())\n",
    "markers = ['o', '<', '>', 'v', 's', 'D', '*']"
   ]
  },
  {
   "cell_type": "code",
   "execution_count": null,
   "id": "5a56a521-938a-4ed2-98fc-e7b0a7d73748",
   "metadata": {},
   "outputs": [],
   "source": []
  },
  {
   "cell_type": "code",
   "execution_count": 17,
   "id": "89cc3257-5de3-4800-bb6d-4cc32191fa15",
   "metadata": {},
   "outputs": [
    {
     "data": {
      "image/png": "[encoded data removed]",
      "text/plain": [
       "<Figure size 640x480 with 1 Axes>"
      ]
     },
     "metadata": {},
     "output_type": "display_data"
    }
   ],
   "source": [
    "label_key = 'optimizer'\n",
    "metric_key = 'loss'\n",
    "client = MlflowClient(tracking_uri=tracking_uri)\n",
    "e = client.get_experiment_by_name(experiment_name)\n",
    "\n",
    "# query = \"params.Title = ''\"\n",
    "runs = client.search_runs(experiment_ids=[e.experiment_id],\n",
    "                          # filter_string=query,\n",
    "                          filter_string='',\n",
    "                          run_view_type=ViewType.ACTIVE_ONLY)\n",
    "\n",
    "optimizer_names = ['SGD']\n",
    "for r in runs:\n",
    "    config = mlflow.artifacts.load_dict(r.info.artifact_uri+'/config.json')\n",
    "\n",
    "    # if config['batch_size'] != 4:\n",
    "    #     continue\n",
    "    title = 'MNIST Log Reg | batch_size=' + str(config['batch_size'])\n",
    "    beg = 0\n",
    "    end = 120000\n",
    "\n",
    "    # label = config[label_key]['name'] + ' ' + r.data.params['Title']\n",
    "    add = 0\n",
    "    if config['md_full_'] is not None:\n",
    "        add = int(config['md_full_'])\n",
    "    i = config[label_key]['id'] + add\n",
    "    history = client.get_metric_history(run_id=r.info.run_id, key=metric_key)\n",
    "    y = np.array([h.value for h in history])\n",
    "    x = np.array([h.timestamp for h in history])\n",
    "    x = np.array([h.step for h in history])\n",
    "    mask = (x >= beg)*(x <= end)\n",
    "    x, y = x[mask], y[mask]\n",
    "\n",
    "    plt.plot(x, y,\n",
    "             alpha=0.5, color=colors[i],\n",
    "             marker=markers[i], markevery=1,\n",
    "             label=label)\n",
    "\n",
    "    # print()\n",
    "# title = '%s, bs=%i' % (an, bs)\n",
    "title = 'MNIST Log Reg'\n",
    "plt.title(title)\n",
    "plt.xlabel('Iterations')\n",
    "plt.ylabel('Cross Entropy Loss (full batch)')\n",
    "plt.yscale('log')\n",
    "plt.xscale('linear')\n",
    "plt.grid(True, which=\"both\", ls='dotted')\n",
    "plt.legend()\n",
    "plt.savefig('figures/'+ title +'.pdf', bbox_inches='tight')\n",
    "# plt.savefig(title +'.pdf', bbox_inches='tight')\n",
    "plt.show()"
   ]
  },
  {
   "cell_type": "code",
   "execution_count": 234,
   "id": "b33f8d46-ed06-4730-8c30-0fa0efa99513",
   "metadata": {},
   "outputs": [
    {
     "name": "stdout",
     "output_type": "stream",
     "text": [
      "50\n"
     ]
    },
    {
     "data": {
      "image/png": "[encoded data removed]",
      "text/plain": [
       "<Figure size 640x480 with 1 Axes>"
      ]
     },
     "metadata": {},
     "output_type": "display_data"
    },
    {
     "name": "stdout",
     "output_type": "stream",
     "text": [
      "50\n"
     ]
    },
    {
     "data": {
      "image/png": "[encoded data removed]",
      "text/plain": [
       "<Figure size 640x480 with 1 Axes>"
      ]
     },
     "metadata": {},
     "output_type": "display_data"
    }
   ],
   "source": [
    "import numpy as np\n",
    "import matplotlib.pyplot as plt\n",
    "\n",
    "\n",
    "label_key = 'optimizer'\n",
    "metric_key = 'weights'\n",
    "client = MlflowClient(tracking_uri=tracking_uri)\n",
    "e = client.get_experiment_by_name(experiment_name)\n",
    "\n",
    "# query = \"params.Title = ''\"\n",
    "runs = client.search_runs(experiment_ids=[e.experiment_id],\n",
    "                          # filter_string=query,\n",
    "                          filter_string='',\n",
    "                          run_view_type=ViewType.ACTIVE_ONLY)\n",
    "\n",
    "from matplotlib import cm\n",
    "colors = cm.OrRd_r(np.linspace(.0, .6, 10))\n",
    "\n",
    "optimizer_names = ['SGD']\n",
    "for r in runs:\n",
    "    config = mlflow.artifacts.load_dict(r.info.artifact_uri+'/config.json')\n",
    "\n",
    "    if config[label_key]['name'] == 'SGD':\n",
    "        continue\n",
    "\n",
    "    if config['batch_size'] != 20:\n",
    "        continue\n",
    "\n",
    "    label = config[label_key]['name'] + ' ' + r.data.params['Title']\n",
    "    i = config[label_key]['id'] + int(config['md_full'])\n",
    "    weights = []\n",
    "    for i in range(config['n_peers']):\n",
    "        metric_key = 'weights_%s' % (str(i))\n",
    "        history = client.get_metric_history(run_id=r.info.run_id, key=metric_key)\n",
    "        y = np.array([h.value for h in history])\n",
    "        # x = np.array([h.step for h in history])\n",
    "        weights.append(y)\n",
    "    weights = np.array(weights)\n",
    "    print(len(weights.T))\n",
    "    y = weights.T\n",
    "    for j, i in enumerate(np.linspace(0, len(y)-1, 10, endpoint=True).round().astype(int)):\n",
    "        bins, edges = y[i], np.linspace(0, len(y[i]), len(y[i])+1)\n",
    "\n",
    "        left, right = edges[:-1], edges[1:]\n",
    "        X = np.array([left, right]).T.flatten()\n",
    "        Y = np.array([bins, bins]).T.flatten()\n",
    "\n",
    "        x_shift = j * 1.25\n",
    "        y_shift = -j/15\n",
    "        plt.fill_between(X+x_shift, Y+y_shift, y_shift, facecolor = colors[j], linewidth=0.4, edgecolor='w')\n",
    "\n",
    "    frame1 = plt.gca()\n",
    "    frame1.axes.xaxis.set_ticklabels([])\n",
    "    frame1.axes.yaxis.set_ticklabels([])\n",
    "\n",
    "    # title = 'MNIST Log Reg'\n",
    "    title = 'MNIST Log Reg | batch_size=' + str(config['batch_size'])\n",
    "    title = config[label_key]['name'] + ' ' + r.data.params['Title']\n",
    "    plt.title(title)\n",
    "    plt.tight_layout()\n",
    "    plt.show() \n",
    "    # break\n",
    "\n",
    "\n"
   ]
  },
  {
   "cell_type": "code",
   "execution_count": null,
   "id": "38224171-806c-46e5-a241-a22f2b3c9e3c",
   "metadata": {},
   "outputs": [],
   "source": []
  }
 ],
 "metadata": {
  "kernelspec": {
   "display_name": "Python 3 (ipykernel)",
   "language": "python",
   "name": "python3"
  },
  "language_info": {
   "codemirror_mode": {
    "name": "ipython",
    "version": 3
   },
   "file_extension": ".py",
   "mimetype": "text/x-python",
   "name": "python",
   "nbconvert_exporter": "python",
   "pygments_lexer": "ipython3",
   "version": "3.11.5"
  },
  "widgets": {
   "application/vnd.jupyter.widget-state+json": {
    "state": {
     "0007978552ff4cdda5fc048ebafa0586": {
      "model_module": "@jupyter-widgets/base",
      "model_module_version": "2.0.0",
      "model_name": "LayoutModel",
      "state": {}
     },
     "0012f616e2074af58fc6bb2a5dc77f17": {
      "model_module": "@jupyter-widgets/base",
      "model_module_version": "2.0.0",
      "model_name": "LayoutModel",
      "state": {}
     },
     "008a8ac029eb4338b8f38455a04082ab": {
      "model_module": "@jupyter-widgets/controls",
      "model_module_version": "2.0.0",
      "model_name": "HTMLStyleModel",
      "state": {
       "description_width": "",
       "font_size": null,
       "text_color": null
      }
     },
     "00c9e03e6c4540379da5a078c5f39606": {
      "model_module": "@jupyter-widgets/controls",
      "model_module_version": "2.0.0",
      "model_name": "HTMLStyleModel",
      "state": {
       "description_width": "",
       "font_size": null,
       "text_color": null
      }
     },
     "0233ff2eaa2c45e4a5d5846352ec530c": {
      "model_module": "@jupyter-widgets/controls",
      "model_module_version": "2.0.0",
      "model_name": "HTMLModel",
      "state": {
       "layout": "IPY_MODEL_0dc9719d634347f5bf3b8b8e1dc70e88",
       "style": "IPY_MODEL_76d2f37e0dfb4779ba9bff85fea04195",
       "value": "Downloading artifacts: 100%"
      }
     },
     "026b699cd823480ba027230171e6f87d": {
      "model_module": "@jupyter-widgets/controls",
      "model_module_version": "2.0.0",
      "model_name": "HTMLStyleModel",
      "state": {
       "description_width": "",
       "font_size": null,
       "text_color": null
      }
     },
     "06dc540672964caebf17ad8cb79dfec0": {
      "model_module": "@jupyter-widgets/base",
      "model_module_version": "2.0.0",
      "model_name": "LayoutModel",
      "state": {}
     },
     "06f6660fc3544392856ccf94e7abc010": {
      "model_module": "@jupyter-widgets/controls",
      "model_module_version": "2.0.0",
      "model_name": "HBoxModel",
      "state": {
       "children": [
        "IPY_MODEL_41e9ed1083bf414a8df6b32a064259bc",
        "IPY_MODEL_70374c47900146148beec52d52b64c6c",
        "IPY_MODEL_d0b685b6fa924b58b0701e2bf8287d08"
       ],
       "layout": "IPY_MODEL_b6b9c14751cf49ba8e11375dd981e25b"
      }
     },
     "07b154b3357043cc8d2ed36f7905e8c1": {
      "model_module": "@jupyter-widgets/base",
      "model_module_version": "2.0.0",
      "model_name": "LayoutModel",
      "state": {}
     },
     "0912e212bfbe42b48deb264041a041a6": {
      "model_module": "@jupyter-widgets/controls",
      "model_module_version": "2.0.0",
      "model_name": "FloatProgressModel",
      "state": {
       "bar_style": "success",
       "layout": "IPY_MODEL_7327037f7ef64308828357cc5a01c30e",
       "max": 1,
       "style": "IPY_MODEL_b8ef8ffc9fa64fb3a233435aef041b6e",
       "value": 1
      }
     },
     "097bf224e0024848bd686e5f01bbc251": {
      "model_module": "@jupyter-widgets/controls",
      "model_module_version": "2.0.0",
      "model_name": "ProgressStyleModel",
      "state": {
       "description_width": ""
      }
     },
     "099825b268ed4bdd8c4eebb558dacf0a": {
      "model_module": "@jupyter-widgets/base",
      "model_module_version": "2.0.0",
      "model_name": "LayoutModel",
      "state": {}
     },
     "0b1e304e4b594fc3837e72a497a15e5e": {
      "model_module": "@jupyter-widgets/base",
      "model_module_version": "2.0.0",
      "model_name": "LayoutModel",
      "state": {}
     },
     "0dc9719d634347f5bf3b8b8e1dc70e88": {
      "model_module": "@jupyter-widgets/base",
      "model_module_version": "2.0.0",
      "model_name": "LayoutModel",
      "state": {}
     },
     "0f9c9c3a6e5645558df7cbd5ec04e039": {
      "model_module": "@jupyter-widgets/controls",
      "model_module_version": "2.0.0",
      "model_name": "HTMLStyleModel",
      "state": {
       "description_width": "",
       "font_size": null,
       "text_color": null
      }
     },
     "11067c6813cd4592b79a0fbeb11f4bbf": {
      "model_module": "@jupyter-widgets/controls",
      "model_module_version": "2.0.0",
      "model_name": "HTMLModel",
      "state": {
       "layout": "IPY_MODEL_44cec393d6fd4cabb7aed432f0e95080",
       "style": "IPY_MODEL_f79e3fba210f46b09ed60038d77109ba",
       "value": " 1/1 [00:00&lt;00:00, 132.40it/s]"
      }
     },
     "11a560408a824927afea5d0a54283516": {
      "model_module": "@jupyter-widgets/controls",
      "model_module_version": "2.0.0",
      "model_name": "HTMLModel",
      "state": {
       "layout": "IPY_MODEL_b3d9d9e7265a4616a0e6ffdc5c7732a2",
       "style": "IPY_MODEL_68a1dd9526fd4c6b8691293ccc73e8f5",
       "value": " 1/1 [00:00&lt;00:00, 117.70it/s]"
      }
     },
     "11b736c7f79d49a1ab66811b5e71d7db": {
      "model_module": "@jupyter-widgets/controls",
      "model_module_version": "2.0.0",
      "model_name": "FloatProgressModel",
      "state": {
       "bar_style": "success",
       "layout": "IPY_MODEL_099825b268ed4bdd8c4eebb558dacf0a",
       "max": 1,
       "style": "IPY_MODEL_6e3e2fb2a654431187717dca737bb498",
       "value": 1
      }
     },
     "1536bd4cf09a460689b6f4755daa8353": {
      "model_module": "@jupyter-widgets/base",
      "model_module_version": "2.0.0",
      "model_name": "LayoutModel",
      "state": {}
     },
     "1732e6f0f4a3419bbfed16830b4a4b09": {
      "model_module": "@jupyter-widgets/controls",
      "model_module_version": "2.0.0",
      "model_name": "HTMLStyleModel",
      "state": {
       "description_width": "",
       "font_size": null,
       "text_color": null
      }
     },
     "17c2421bf315437e88a945a546643732": {
      "model_module": "@jupyter-widgets/controls",
      "model_module_version": "2.0.0",
      "model_name": "HTMLModel",
      "state": {
       "layout": "IPY_MODEL_7f5119c3855748e9bb1b99d031feea2b",
       "style": "IPY_MODEL_1f3ae3a9cfd6472a99d69c3a30aa1981",
       "value": "Downloading artifacts: 100%"
      }
     },
     "17e75d17dc9342e3afe6874ef2213215": {
      "model_module": "@jupyter-widgets/controls",
      "model_module_version": "2.0.0",
      "model_name": "HTMLModel",
      "state": {
       "layout": "IPY_MODEL_06dc540672964caebf17ad8cb79dfec0",
       "style": "IPY_MODEL_9d144aa4be804cdab545fdee7fef8abf",
       "value": " 1/1 [00:00&lt;00:00, 121.96it/s]"
      }
     },
     "1803b6d1d7a64a6388e34503d2918465": {
      "model_module": "@jupyter-widgets/controls",
      "model_module_version": "2.0.0",
      "model_name": "HTMLModel",
      "state": {
       "layout": "IPY_MODEL_57586adcc4f2460688563deee7f2ead8",
       "style": "IPY_MODEL_ef3b0cdd57b346ba92bffc0a1bed290d",
       "value": "Downloading artifacts: 100%"
      }
     },
     "18f5a36b23b846ef827e9cf8d4fafe04": {
      "model_module": "@jupyter-widgets/base",
      "model_module_version": "2.0.0",
      "model_name": "LayoutModel",
      "state": {}
     },
     "1a86a36e3ee24d4fa3380cb2b569cc8f": {
      "model_module": "@jupyter-widgets/controls",
      "model_module_version": "2.0.0",
      "model_name": "HBoxModel",
      "state": {
       "children": [
        "IPY_MODEL_4fa75373476943379418ad76c2c5aaab",
        "IPY_MODEL_22c58f05692d41cd8d0104ca328aa408",
        "IPY_MODEL_ad630b4729c2490f8f532a3631e807d4"
       ],
       "layout": "IPY_MODEL_ff3d55d1451b45509f57e3296e856c56"
      }
     },
     "1bd2aa41f30e4ad6b60e1e307bf66bc4": {
      "model_module": "@jupyter-widgets/controls",
      "model_module_version": "2.0.0",
      "model_name": "FloatProgressModel",
      "state": {
       "bar_style": "success",
       "layout": "IPY_MODEL_4d16621bb0c7403f8c0b85c3b7bbd840",
       "max": 1,
       "style": "IPY_MODEL_fe6bd693f2e54a0ba528f0410b1b94b0",
       "value": 1
      }
     },
     "1c44b0320b504b699b9cf5f455846e38": {
      "model_module": "@jupyter-widgets/base",
      "model_module_version": "2.0.0",
      "model_name": "LayoutModel",
      "state": {}
     },
     "1c9e6d5f1a2e425886202f448f24bfa4": {
      "model_module": "@jupyter-widgets/base",
      "model_module_version": "2.0.0",
      "model_name": "LayoutModel",
      "state": {}
     },
     "1e20eb165826483c89de083c8b31ac7a": {
      "model_module": "@jupyter-widgets/base",
      "model_module_version": "2.0.0",
      "model_name": "LayoutModel",
      "state": {}
     },
     "1e8f3cb6ef95494f8289efcb502ad10f": {
      "model_module": "@jupyter-widgets/controls",
      "model_module_version": "2.0.0",
      "model_name": "HTMLStyleModel",
      "state": {
       "description_width": "",
       "font_size": null,
       "text_color": null
      }
     },
     "1f3ae3a9cfd6472a99d69c3a30aa1981": {
      "model_module": "@jupyter-widgets/controls",
      "model_module_version": "2.0.0",
      "model_name": "HTMLStyleModel",
      "state": {
       "description_width": "",
       "font_size": null,
       "text_color": null
      }
     },
     "203cf8fc648246b7be9e051d097e57dd": {
      "model_module": "@jupyter-widgets/base",
      "model_module_version": "2.0.0",
      "model_name": "LayoutModel",
      "state": {}
     },
     "20a32bea819a423dbf263dc8a0d22439": {
      "model_module": "@jupyter-widgets/base",
      "model_module_version": "2.0.0",
      "model_name": "LayoutModel",
      "state": {}
     },
     "22c58f05692d41cd8d0104ca328aa408": {
      "model_module": "@jupyter-widgets/controls",
      "model_module_version": "2.0.0",
      "model_name": "FloatProgressModel",
      "state": {
       "bar_style": "success",
       "layout": "IPY_MODEL_9be5c8abc9c04dc9a07fdd1a663f3d37",
       "max": 1,
       "style": "IPY_MODEL_e1d8ed0cc0934c4cbc56bff1e00a76bb",
       "value": 1
      }
     },
     "23d51620010c4992b09422a653a89c63": {
      "model_module": "@jupyter-widgets/controls",
      "model_module_version": "2.0.0",
      "model_name": "HTMLStyleModel",
      "state": {
       "description_width": "",
       "font_size": null,
       "text_color": null
      }
     },
     "23d8644951a340b589d66fdc1b266a64": {
      "model_module": "@jupyter-widgets/controls",
      "model_module_version": "2.0.0",
      "model_name": "HTMLModel",
      "state": {
       "layout": "IPY_MODEL_d26dc5508a4b4f9fa64150d6535becca",
       "style": "IPY_MODEL_ac18bd70bf42460987eb4351071368ee",
       "value": " 1/1 [00:00&lt;00:00, 121.05it/s]"
      }
     },
     "27e97cf831bd49558c6a345689f64828": {
      "model_module": "@jupyter-widgets/base",
      "model_module_version": "2.0.0",
      "model_name": "LayoutModel",
      "state": {}
     },
     "281143f3a48449ad900a73d44c1b094a": {
      "model_module": "@jupyter-widgets/controls",
      "model_module_version": "2.0.0",
      "model_name": "ProgressStyleModel",
      "state": {
       "description_width": ""
      }
     },
     "28382dad2b89414b83de292e2669b2ac": {
      "model_module": "@jupyter-widgets/controls",
      "model_module_version": "2.0.0",
      "model_name": "HTMLStyleModel",
      "state": {
       "description_width": "",
       "font_size": null,
       "text_color": null
      }
     },
     "2890d3e6fa5c4ef3a044cd1c850572ac": {
      "model_module": "@jupyter-widgets/controls",
      "model_module_version": "2.0.0",
      "model_name": "HBoxModel",
      "state": {
       "children": [
        "IPY_MODEL_967bc258f7334e1f9b310eaede46eec3",
        "IPY_MODEL_11b736c7f79d49a1ab66811b5e71d7db",
        "IPY_MODEL_11067c6813cd4592b79a0fbeb11f4bbf"
       ],
       "layout": "IPY_MODEL_c97dd63fcd82470f82b8796685d677b1"
      }
     },
     "2c953143438744b58500d752e9942cd6": {
      "model_module": "@jupyter-widgets/base",
      "model_module_version": "2.0.0",
      "model_name": "LayoutModel",
      "state": {}
     },
     "2ca6c351c07f4d2ebfe46165f12edfcd": {
      "model_module": "@jupyter-widgets/controls",
      "model_module_version": "2.0.0",
      "model_name": "HBoxModel",
      "state": {
       "children": [
        "IPY_MODEL_dd251fb672954540b5bbda639fc7e149",
        "IPY_MODEL_8f6fb59d419f4bcc9c06b861f21f4bd7",
        "IPY_MODEL_34cbc86374a34d61bc344d2cf8d80f34"
       ],
       "layout": "IPY_MODEL_e9deb53225304b3891dd2d33e38278fc"
      }
     },
     "2d1fcbdb2db1481f928a523f4e7d2cd2": {
      "model_module": "@jupyter-widgets/base",
      "model_module_version": "2.0.0",
      "model_name": "LayoutModel",
      "state": {}
     },
     "2d3a6e6ce19f483d9743b6ef06c4507a": {
      "model_module": "@jupyter-widgets/controls",
      "model_module_version": "2.0.0",
      "model_name": "HBoxModel",
      "state": {
       "children": [
        "IPY_MODEL_a91bcc5853f748e2979066aa9fb636ee",
        "IPY_MODEL_0912e212bfbe42b48deb264041a041a6",
        "IPY_MODEL_a3feccf847db4345ac87978ffc86069c"
       ],
       "layout": "IPY_MODEL_777bd6edd2764001b9d804eb2d7f1428"
      }
     },
     "2f613b3838c045cba8a80db25865945d": {
      "model_module": "@jupyter-widgets/controls",
      "model_module_version": "2.0.0",
      "model_name": "HTMLStyleModel",
      "state": {
       "description_width": "",
       "font_size": null,
       "text_color": null
      }
     },
     "30d5840437c44c07a34bd50b79e62e68": {
      "model_module": "@jupyter-widgets/controls",
      "model_module_version": "2.0.0",
      "model_name": "FloatProgressModel",
      "state": {
       "bar_style": "success",
       "layout": "IPY_MODEL_b5e054d021a14c80940a5082bb1ce91c",
       "max": 1,
       "style": "IPY_MODEL_c74ec212ccf849c3b845ff0ab0195f26",
       "value": 1
      }
     },
     "3259300577804247a12b15f3b247093a": {
      "model_module": "@jupyter-widgets/controls",
      "model_module_version": "2.0.0",
      "model_name": "HTMLStyleModel",
      "state": {
       "description_width": "",
       "font_size": null,
       "text_color": null
      }
     },
     "32e20dc96f5f4667b41c96e31a5d3461": {
      "model_module": "@jupyter-widgets/controls",
      "model_module_version": "2.0.0",
      "model_name": "HTMLModel",
      "state": {
       "layout": "IPY_MODEL_fef617479dd947adab75c119ba13c31d",
       "style": "IPY_MODEL_2f613b3838c045cba8a80db25865945d",
       "value": " 1/1 [00:00&lt;00:00, 141.03it/s]"
      }
     },
     "32f8d75c557e4f65b48f8963a781b90d": {
      "model_module": "@jupyter-widgets/controls",
      "model_module_version": "2.0.0",
      "model_name": "FloatProgressModel",
      "state": {
       "bar_style": "success",
       "layout": "IPY_MODEL_c365050b1081402c8bf8ab3cca6bbf57",
       "max": 1,
       "style": "IPY_MODEL_8a87f8f0c06d4bf08252ecbfa9bbd42f",
       "value": 1
      }
     },
     "34cbc86374a34d61bc344d2cf8d80f34": {
      "model_module": "@jupyter-widgets/controls",
      "model_module_version": "2.0.0",
      "model_name": "HTMLModel",
      "state": {
       "layout": "IPY_MODEL_937d9e2f6a674c3884e5d406c37bbdc0",
       "style": "IPY_MODEL_948fc5a20c6343359c55f07e80356834",
       "value": " 1/1 [00:00&lt;00:00, 99.07it/s]"
      }
     },
     "3555fba2e6ff4d98a2f91e37190a44d3": {
      "model_module": "@jupyter-widgets/base",
      "model_module_version": "2.0.0",
      "model_name": "LayoutModel",
      "state": {}
     },
     "3646d5ba80b741249ad152f1a39a9525": {
      "model_module": "@jupyter-widgets/base",
      "model_module_version": "2.0.0",
      "model_name": "LayoutModel",
      "state": {}
     },
     "37a8f0ba519f42bebb4b3049148d631a": {
      "model_module": "@jupyter-widgets/base",
      "model_module_version": "2.0.0",
      "model_name": "LayoutModel",
      "state": {}
     },
     "397c0d9aa13b48f4b4296482159221a7": {
      "model_module": "@jupyter-widgets/base",
      "model_module_version": "2.0.0",
      "model_name": "LayoutModel",
      "state": {}
     },
     "39915751c1ce41398611acf8e1f8b72d": {
      "model_module": "@jupyter-widgets/controls",
      "model_module_version": "2.0.0",
      "model_name": "HTMLStyleModel",
      "state": {
       "description_width": "",
       "font_size": null,
       "text_color": null
      }
     },
     "3cafa281577044528a4f84f307a0ef38": {
      "model_module": "@jupyter-widgets/base",
      "model_module_version": "2.0.0",
      "model_name": "LayoutModel",
      "state": {}
     },
     "3d2496c37fa9456e9c0f1981f08a4c1c": {
      "model_module": "@jupyter-widgets/controls",
      "model_module_version": "2.0.0",
      "model_name": "HTMLModel",
      "state": {
       "layout": "IPY_MODEL_7387d283451b4f4c817ac15d2d58f047",
       "style": "IPY_MODEL_28382dad2b89414b83de292e2669b2ac",
       "value": "Downloading artifacts: 100%"
      }
     },
     "3d4a637c1a6b4cefada156f73669a2c2": {
      "model_module": "@jupyter-widgets/controls",
      "model_module_version": "2.0.0",
      "model_name": "FloatProgressModel",
      "state": {
       "bar_style": "success",
       "layout": "IPY_MODEL_97105e6d699f4fb6ab7e6133d32f0c1d",
       "max": 1,
       "style": "IPY_MODEL_e0ccbfa7dff74bd9aa8fd22a5543916d",
       "value": 1
      }
     },
     "3e46611a71264ed489cb7386ccb9e1d3": {
      "model_module": "@jupyter-widgets/controls",
      "model_module_version": "2.0.0",
      "model_name": "HTMLStyleModel",
      "state": {
       "description_width": "",
       "font_size": null,
       "text_color": null
      }
     },
     "3f5110c9426d4ad982171fa0bdcbb454": {
      "model_module": "@jupyter-widgets/controls",
      "model_module_version": "2.0.0",
      "model_name": "ProgressStyleModel",
      "state": {
       "description_width": ""
      }
     },
     "41e9ed1083bf414a8df6b32a064259bc": {
      "model_module": "@jupyter-widgets/controls",
      "model_module_version": "2.0.0",
      "model_name": "HTMLModel",
      "state": {
       "layout": "IPY_MODEL_5dc27383feb143a8b3db5659a4f28d61",
       "style": "IPY_MODEL_d19c8b77df344ecfaffaffdae538c23f",
       "value": "Downloading artifacts: 100%"
      }
     },
     "4232f7d64d564310b8ca0d6db011f793": {
      "model_module": "@jupyter-widgets/base",
      "model_module_version": "2.0.0",
      "model_name": "LayoutModel",
      "state": {}
     },
     "429f4d1abd8c4bb8965ad6d684416cae": {
      "model_module": "@jupyter-widgets/controls",
      "model_module_version": "2.0.0",
      "model_name": "ProgressStyleModel",
      "state": {
       "description_width": ""
      }
     },
     "42a7ecf9480b43c9aba105e0c763c323": {
      "model_module": "@jupyter-widgets/base",
      "model_module_version": "2.0.0",
      "model_name": "LayoutModel",
      "state": {}
     },
     "44cec393d6fd4cabb7aed432f0e95080": {
      "model_module": "@jupyter-widgets/base",
      "model_module_version": "2.0.0",
      "model_name": "LayoutModel",
      "state": {}
     },
     "460b6d35f0784f4cbea9acfcf997fd32": {
      "model_module": "@jupyter-widgets/controls",
      "model_module_version": "2.0.0",
      "model_name": "HTMLModel",
      "state": {
       "layout": "IPY_MODEL_f76f987ad00d497e87dccde0bd777a00",
       "style": "IPY_MODEL_5b313a8f67734cb4bfc6a8f34558681b",
       "value": "Downloading artifacts: 100%"
      }
     },
     "4941d57133aa487d91d8a887213d9559": {
      "model_module": "@jupyter-widgets/base",
      "model_module_version": "2.0.0",
      "model_name": "LayoutModel",
      "state": {}
     },
     "4a9349608c034c5582b7312c270f9be9": {
      "model_module": "@jupyter-widgets/base",
      "model_module_version": "2.0.0",
      "model_name": "LayoutModel",
      "state": {}
     },
     "4c67fc3da8cd4d47846dedacb5e1767c": {
      "model_module": "@jupyter-widgets/controls",
      "model_module_version": "2.0.0",
      "model_name": "ProgressStyleModel",
      "state": {
       "description_width": ""
      }
     },
     "4d16621bb0c7403f8c0b85c3b7bbd840": {
      "model_module": "@jupyter-widgets/base",
      "model_module_version": "2.0.0",
      "model_name": "LayoutModel",
      "state": {}
     },
     "4edc1d2396df48c1855a207f15b4cd60": {
      "model_module": "@jupyter-widgets/controls",
      "model_module_version": "2.0.0",
      "model_name": "HTMLStyleModel",
      "state": {
       "description_width": "",
       "font_size": null,
       "text_color": null
      }
     },
     "4fa75373476943379418ad76c2c5aaab": {
      "model_module": "@jupyter-widgets/controls",
      "model_module_version": "2.0.0",
      "model_name": "HTMLModel",
      "state": {
       "layout": "IPY_MODEL_9b6200ef375a4d81bc8179791d447bb9",
       "style": "IPY_MODEL_57952a488ef649c2a714f92641944514",
       "value": "Downloading artifacts: 100%"
      }
     },
     "503ed76d545e4a6899c2d6d5fa4acfd3": {
      "model_module": "@jupyter-widgets/controls",
      "model_module_version": "2.0.0",
      "model_name": "ProgressStyleModel",
      "state": {
       "description_width": ""
      }
     },
     "516ba10e1a404d4793263d8147deca84": {
      "model_module": "@jupyter-widgets/base",
      "model_module_version": "2.0.0",
      "model_name": "LayoutModel",
      "state": {}
     },
     "52d0ba2f698d4a50a22c0cc7cba93941": {
      "model_module": "@jupyter-widgets/controls",
      "model_module_version": "2.0.0",
      "model_name": "HTMLModel",
      "state": {
       "layout": "IPY_MODEL_b31e8f7be32e4a5c9d4933cbb11a8c45",
       "style": "IPY_MODEL_fff696e4896140c79c27804db5929c43",
       "value": " 1/1 [00:00&lt;00:00, 124.54it/s]"
      }
     },
     "548d9bbc6566444f859004a950e43e47": {
      "model_module": "@jupyter-widgets/controls",
      "model_module_version": "2.0.0",
      "model_name": "ProgressStyleModel",
      "state": {
       "description_width": ""
      }
     },
     "54a910897886411090b8b594c91ea2b0": {
      "model_module": "@jupyter-widgets/base",
      "model_module_version": "2.0.0",
      "model_name": "LayoutModel",
      "state": {}
     },
     "54fec3b0462945c69d7807d9e97f350d": {
      "model_module": "@jupyter-widgets/controls",
      "model_module_version": "2.0.0",
      "model_name": "HTMLModel",
      "state": {
       "layout": "IPY_MODEL_d112a469376b40d6ace3d2ba82fb97a7",
       "style": "IPY_MODEL_00c9e03e6c4540379da5a078c5f39606",
       "value": " 1/1 [00:00&lt;00:00, 77.94it/s]"
      }
     },
     "55943024b3bd430d87d2f019934544dd": {
      "model_module": "@jupyter-widgets/controls",
      "model_module_version": "2.0.0",
      "model_name": "HTMLStyleModel",
      "state": {
       "description_width": "",
       "font_size": null,
       "text_color": null
      }
     },
     "57586adcc4f2460688563deee7f2ead8": {
      "model_module": "@jupyter-widgets/base",
      "model_module_version": "2.0.0",
      "model_name": "LayoutModel",
      "state": {}
     },
     "57952a488ef649c2a714f92641944514": {
      "model_module": "@jupyter-widgets/controls",
      "model_module_version": "2.0.0",
      "model_name": "HTMLStyleModel",
      "state": {
       "description_width": "",
       "font_size": null,
       "text_color": null
      }
     },
     "57a01b8b79f449dcb961ce472a7d594a": {
      "model_module": "@jupyter-widgets/base",
      "model_module_version": "2.0.0",
      "model_name": "LayoutModel",
      "state": {}
     },
     "591d0b61248d4957bdffbb3fa67b1547": {
      "model_module": "@jupyter-widgets/controls",
      "model_module_version": "2.0.0",
      "model_name": "HTMLStyleModel",
      "state": {
       "description_width": "",
       "font_size": null,
       "text_color": null
      }
     },
     "593e4357c6f448178d0a7f4210de15e3": {
      "model_module": "@jupyter-widgets/controls",
      "model_module_version": "2.0.0",
      "model_name": "ProgressStyleModel",
      "state": {
       "description_width": ""
      }
     },
     "5b313a8f67734cb4bfc6a8f34558681b": {
      "model_module": "@jupyter-widgets/controls",
      "model_module_version": "2.0.0",
      "model_name": "HTMLStyleModel",
      "state": {
       "description_width": "",
       "font_size": null,
       "text_color": null
      }
     },
     "5dc27383feb143a8b3db5659a4f28d61": {
      "model_module": "@jupyter-widgets/base",
      "model_module_version": "2.0.0",
      "model_name": "LayoutModel",
      "state": {}
     },
     "5e862147c23548cd84b24b3889c1d480": {
      "model_module": "@jupyter-widgets/controls",
      "model_module_version": "2.0.0",
      "model_name": "HTMLStyleModel",
      "state": {
       "description_width": "",
       "font_size": null,
       "text_color": null
      }
     },
     "5f727dec922540c58ec603cf1b45a443": {
      "model_module": "@jupyter-widgets/base",
      "model_module_version": "2.0.0",
      "model_name": "LayoutModel",
      "state": {}
     },
     "602349a03c354774a0c730bae16d3ba9": {
      "model_module": "@jupyter-widgets/base",
      "model_module_version": "2.0.0",
      "model_name": "LayoutModel",
      "state": {}
     },
     "625d12a7678f46588dd62e035cc175b5": {
      "model_module": "@jupyter-widgets/base",
      "model_module_version": "2.0.0",
      "model_name": "LayoutModel",
      "state": {}
     },
     "629d53ad42c64ccc8c797d0488d69d31": {
      "model_module": "@jupyter-widgets/controls",
      "model_module_version": "2.0.0",
      "model_name": "HTMLModel",
      "state": {
       "layout": "IPY_MODEL_6ea7f972b1d04b8a8a7b13a8a2352cc5",
       "style": "IPY_MODEL_a2f9c98d457c4a41a473eefea72ff0d7",
       "value": " 1/1 [00:00&lt;00:00, 75.21it/s]"
      }
     },
     "642ea41d0ab04213bf364cb456937603": {
      "model_module": "@jupyter-widgets/base",
      "model_module_version": "2.0.0",
      "model_name": "LayoutModel",
      "state": {}
     },
     "668f437021924b66b6799fee7a9e9417": {
      "model_module": "@jupyter-widgets/controls",
      "model_module_version": "2.0.0",
      "model_name": "HTMLModel",
      "state": {
       "layout": "IPY_MODEL_71bb50b4ddd04d308d0383a77f96eacd",
       "style": "IPY_MODEL_0f9c9c3a6e5645558df7cbd5ec04e039",
       "value": "Downloading artifacts: 100%"
      }
     },
     "688c22c731474f69882cec74c9ba5f29": {
      "model_module": "@jupyter-widgets/controls",
      "model_module_version": "2.0.0",
      "model_name": "HTMLStyleModel",
      "state": {
       "description_width": "",
       "font_size": null,
       "text_color": null
      }
     },
     "68a1dd9526fd4c6b8691293ccc73e8f5": {
      "model_module": "@jupyter-widgets/controls",
      "model_module_version": "2.0.0",
      "model_name": "HTMLStyleModel",
      "state": {
       "description_width": "",
       "font_size": null,
       "text_color": null
      }
     },
     "68f629e9c169425abad96767b826fffd": {
      "model_module": "@jupyter-widgets/controls",
      "model_module_version": "2.0.0",
      "model_name": "ProgressStyleModel",
      "state": {
       "description_width": ""
      }
     },
     "6c02aa85bcc448928224d7af45be743f": {
      "model_module": "@jupyter-widgets/base",
      "model_module_version": "2.0.0",
      "model_name": "LayoutModel",
      "state": {}
     },
     "6e2f3a68a2584a51a8b6d57fed9976d5": {
      "model_module": "@jupyter-widgets/controls",
      "model_module_version": "2.0.0",
      "model_name": "HBoxModel",
      "state": {
       "children": [
        "IPY_MODEL_770f3aa3048c40159513646248560604",
        "IPY_MODEL_d85e92d7078446c9a4fd31bbccec198e",
        "IPY_MODEL_11a560408a824927afea5d0a54283516"
       ],
       "layout": "IPY_MODEL_516ba10e1a404d4793263d8147deca84"
      }
     },
     "6e3e2fb2a654431187717dca737bb498": {
      "model_module": "@jupyter-widgets/controls",
      "model_module_version": "2.0.0",
      "model_name": "ProgressStyleModel",
      "state": {
       "description_width": ""
      }
     },
     "6ea7f972b1d04b8a8a7b13a8a2352cc5": {
      "model_module": "@jupyter-widgets/base",
      "model_module_version": "2.0.0",
      "model_name": "LayoutModel",
      "state": {}
     },
     "6eb9e8be53d747e1947ae7a46e3166cf": {
      "model_module": "@jupyter-widgets/base",
      "model_module_version": "2.0.0",
      "model_name": "LayoutModel",
      "state": {}
     },
     "6ef87936d5b340dfa1fe7adc08e64b6f": {
      "model_module": "@jupyter-widgets/base",
      "model_module_version": "2.0.0",
      "model_name": "LayoutModel",
      "state": {}
     },
     "6fc32960263341d2b85c0c78a31fc5b9": {
      "model_module": "@jupyter-widgets/controls",
      "model_module_version": "2.0.0",
      "model_name": "HBoxModel",
      "state": {
       "children": [
        "IPY_MODEL_a1af443fd93b48d9baeaae8a2a70a00b",
        "IPY_MODEL_eed7602114ef43a1ac9f7815d5075468",
        "IPY_MODEL_7392b239ea0e4ef99997368b77fe7835"
       ],
       "layout": "IPY_MODEL_54a910897886411090b8b594c91ea2b0"
      }
     },
     "700c6203193b4db9b3fbb492377c10ca": {
      "model_module": "@jupyter-widgets/controls",
      "model_module_version": "2.0.0",
      "model_name": "HTMLModel",
      "state": {
       "layout": "IPY_MODEL_d88a758514dc4fa69480d4d6583d831a",
       "style": "IPY_MODEL_55943024b3bd430d87d2f019934544dd",
       "value": " 1/1 [00:00&lt;00:00, 110.56it/s]"
      }
     },
     "70374c47900146148beec52d52b64c6c": {
      "model_module": "@jupyter-widgets/controls",
      "model_module_version": "2.0.0",
      "model_name": "FloatProgressModel",
      "state": {
       "bar_style": "success",
       "layout": "IPY_MODEL_3646d5ba80b741249ad152f1a39a9525",
       "max": 1,
       "style": "IPY_MODEL_d4c3d3c044b946758f952965d55c28c5",
       "value": 1
      }
     },
     "70bd2ec7d5f8417d86d096ba9188443f": {
      "model_module": "@jupyter-widgets/base",
      "model_module_version": "2.0.0",
      "model_name": "LayoutModel",
      "state": {}
     },
     "71bb50b4ddd04d308d0383a77f96eacd": {
      "model_module": "@jupyter-widgets/base",
      "model_module_version": "2.0.0",
      "model_name": "LayoutModel",
      "state": {}
     },
     "7282665cf56f4354abefd8b26b17ef1b": {
      "model_module": "@jupyter-widgets/controls",
      "model_module_version": "2.0.0",
      "model_name": "FloatProgressModel",
      "state": {
       "bar_style": "success",
       "layout": "IPY_MODEL_6eb9e8be53d747e1947ae7a46e3166cf",
       "max": 1,
       "style": "IPY_MODEL_ef3f7d45ce7a474fa0e8f0f7f92883d2",
       "value": 1
      }
     },
     "7327037f7ef64308828357cc5a01c30e": {
      "model_module": "@jupyter-widgets/base",
      "model_module_version": "2.0.0",
      "model_name": "LayoutModel",
      "state": {}
     },
     "7387d283451b4f4c817ac15d2d58f047": {
      "model_module": "@jupyter-widgets/base",
      "model_module_version": "2.0.0",
      "model_name": "LayoutModel",
      "state": {}
     },
     "7392b239ea0e4ef99997368b77fe7835": {
      "model_module": "@jupyter-widgets/controls",
      "model_module_version": "2.0.0",
      "model_name": "HTMLModel",
      "state": {
       "layout": "IPY_MODEL_0007978552ff4cdda5fc048ebafa0586",
       "style": "IPY_MODEL_def91e3495b9443ca1d8549640ee895c",
       "value": " 1/1 [00:00&lt;00:00, 101.07it/s]"
      }
     },
     "75d4323bb7ed426dafb7a72c39dc7f97": {
      "model_module": "@jupyter-widgets/base",
      "model_module_version": "2.0.0",
      "model_name": "LayoutModel",
      "state": {}
     },
     "7616dc75f7d74595adc6d247470f4b9a": {
      "model_module": "@jupyter-widgets/controls",
      "model_module_version": "2.0.0",
      "model_name": "HBoxModel",
      "state": {
       "children": [
        "IPY_MODEL_1803b6d1d7a64a6388e34503d2918465",
        "IPY_MODEL_a54b43c40e1a46528e1016c61f640cf4",
        "IPY_MODEL_dac7f1e219c34a10adafc34241745097"
       ],
       "layout": "IPY_MODEL_6c02aa85bcc448928224d7af45be743f"
      }
     },
     "76d2f37e0dfb4779ba9bff85fea04195": {
      "model_module": "@jupyter-widgets/controls",
      "model_module_version": "2.0.0",
      "model_name": "HTMLStyleModel",
      "state": {
       "description_width": "",
       "font_size": null,
       "text_color": null
      }
     },
     "770f3aa3048c40159513646248560604": {
      "model_module": "@jupyter-widgets/controls",
      "model_module_version": "2.0.0",
      "model_name": "HTMLModel",
      "state": {
       "layout": "IPY_MODEL_3cafa281577044528a4f84f307a0ef38",
       "style": "IPY_MODEL_f92e3b5824c2471eb57acc7b2f5a4e75",
       "value": "Downloading artifacts: 100%"
      }
     },
     "7711233a045241dab47b008fcad91e22": {
      "model_module": "@jupyter-widgets/controls",
      "model_module_version": "2.0.0",
      "model_name": "HTMLStyleModel",
      "state": {
       "description_width": "",
       "font_size": null,
       "text_color": null
      }
     },
     "777bd6edd2764001b9d804eb2d7f1428": {
      "model_module": "@jupyter-widgets/base",
      "model_module_version": "2.0.0",
      "model_name": "LayoutModel",
      "state": {}
     },
     "78016537e6b94ff498321620b0d2dcb5": {
      "model_module": "@jupyter-widgets/controls",
      "model_module_version": "2.0.0",
      "model_name": "FloatProgressModel",
      "state": {
       "bar_style": "success",
       "layout": "IPY_MODEL_b15a1c1986f74f0997a3963cec43c595",
       "max": 1,
       "style": "IPY_MODEL_281143f3a48449ad900a73d44c1b094a",
       "value": 1
      }
     },
     "788616b37a4a4bbebbacee93b15aac95": {
      "model_module": "@jupyter-widgets/base",
      "model_module_version": "2.0.0",
      "model_name": "LayoutModel",
      "state": {}
     },
     "793f0166c0cf47ea81e0396b44b32b30": {
      "model_module": "@jupyter-widgets/controls",
      "model_module_version": "2.0.0",
      "model_name": "HBoxModel",
      "state": {
       "children": [
        "IPY_MODEL_8b6e47540c2648ada05848935c870338",
        "IPY_MODEL_3d4a637c1a6b4cefada156f73669a2c2",
        "IPY_MODEL_8633cee69fc94e70a0231841ccbdc341"
       ],
       "layout": "IPY_MODEL_e76c6346b44b4496943db59736f77b66"
      }
     },
     "79e8766f2bfd408aa161bff0108e4cf5": {
      "model_module": "@jupyter-widgets/base",
      "model_module_version": "2.0.0",
      "model_name": "LayoutModel",
      "state": {}
     },
     "7d869d2602214b6eaae8db4aabe2c85c": {
      "model_module": "@jupyter-widgets/controls",
      "model_module_version": "2.0.0",
      "model_name": "HTMLStyleModel",
      "state": {
       "description_width": "",
       "font_size": null,
       "text_color": null
      }
     },
     "7f3ab782d07c4ded850d5977240e6ca3": {
      "model_module": "@jupyter-widgets/controls",
      "model_module_version": "2.0.0",
      "model_name": "ProgressStyleModel",
      "state": {
       "description_width": ""
      }
     },
     "7f5119c3855748e9bb1b99d031feea2b": {
      "model_module": "@jupyter-widgets/base",
      "model_module_version": "2.0.0",
      "model_name": "LayoutModel",
      "state": {}
     },
     "807516bc6ec94d2c9f89f6f512c0d51f": {
      "model_module": "@jupyter-widgets/controls",
      "model_module_version": "2.0.0",
      "model_name": "HBoxModel",
      "state": {
       "children": [
        "IPY_MODEL_668f437021924b66b6799fee7a9e9417",
        "IPY_MODEL_dac80c5fbe2846dea3ebef9d50f83460",
        "IPY_MODEL_54fec3b0462945c69d7807d9e97f350d"
       ],
       "layout": "IPY_MODEL_fe6fe59128254eb78f8f7b8019815b2d"
      }
     },
     "81286cf12e284b4fa8f803a754ad92e1": {
      "model_module": "@jupyter-widgets/controls",
      "model_module_version": "2.0.0",
      "model_name": "HBoxModel",
      "state": {
       "children": [
        "IPY_MODEL_baa048c6e5fb4fffae3009ed574a63a3",
        "IPY_MODEL_cac48683c12b460e93332bf5ddf6f6bf",
        "IPY_MODEL_52d0ba2f698d4a50a22c0cc7cba93941"
       ],
       "layout": "IPY_MODEL_42a7ecf9480b43c9aba105e0c763c323"
      }
     },
     "826d5077188f4776a72886c4ce654de6": {
      "model_module": "@jupyter-widgets/controls",
      "model_module_version": "2.0.0",
      "model_name": "HTMLStyleModel",
      "state": {
       "description_width": "",
       "font_size": null,
       "text_color": null
      }
     },
     "84815702818a4b34975cf0526de18871": {
      "model_module": "@jupyter-widgets/controls",
      "model_module_version": "2.0.0",
      "model_name": "HTMLModel",
      "state": {
       "layout": "IPY_MODEL_70bd2ec7d5f8417d86d096ba9188443f",
       "style": "IPY_MODEL_8e79b28a08414a66a42c8eba13926412",
       "value": "Downloading artifacts: 100%"
      }
     },
     "852d4cf35ba740169f9cb56bc4b2752f": {
      "model_module": "@jupyter-widgets/base",
      "model_module_version": "2.0.0",
      "model_name": "LayoutModel",
      "state": {}
     },
     "8633cee69fc94e70a0231841ccbdc341": {
      "model_module": "@jupyter-widgets/controls",
      "model_module_version": "2.0.0",
      "model_name": "HTMLModel",
      "state": {
       "layout": "IPY_MODEL_18f5a36b23b846ef827e9cf8d4fafe04",
       "style": "IPY_MODEL_4edc1d2396df48c1855a207f15b4cd60",
       "value": " 1/1 [00:00&lt;00:00, 122.88it/s]"
      }
     },
     "8655391c974e442db263c06ef7ed8fc9": {
      "model_module": "@jupyter-widgets/controls",
      "model_module_version": "2.0.0",
      "model_name": "HTMLStyleModel",
      "state": {
       "description_width": "",
       "font_size": null,
       "text_color": null
      }
     },
     "868557aa3e9b4196866a34c6401b6fa9": {
      "model_module": "@jupyter-widgets/controls",
      "model_module_version": "2.0.0",
      "model_name": "HTMLModel",
      "state": {
       "layout": "IPY_MODEL_8b1f92c6cb44483f8b6c91f962fd651e",
       "style": "IPY_MODEL_bb37cdcb9d4c4559a264cd8436acaec3",
       "value": " 1/1 [00:00&lt;00:00, 112.47it/s]"
      }
     },
     "889ae20a29424870a888fb7eeb2958e8": {
      "model_module": "@jupyter-widgets/controls",
      "model_module_version": "2.0.0",
      "model_name": "FloatProgressModel",
      "state": {
       "bar_style": "success",
       "layout": "IPY_MODEL_4232f7d64d564310b8ca0d6db011f793",
       "max": 1,
       "style": "IPY_MODEL_e89b7e2b11f84e6499fff9a5ea6e887f",
       "value": 1
      }
     },
     "89184ceaf76c4df6b96c9a3a5a99a761": {
      "model_module": "@jupyter-widgets/base",
      "model_module_version": "2.0.0",
      "model_name": "LayoutModel",
      "state": {}
     },
     "8a87f8f0c06d4bf08252ecbfa9bbd42f": {
      "model_module": "@jupyter-widgets/controls",
      "model_module_version": "2.0.0",
      "model_name": "ProgressStyleModel",
      "state": {
       "description_width": ""
      }
     },
     "8b1f92c6cb44483f8b6c91f962fd651e": {
      "model_module": "@jupyter-widgets/base",
      "model_module_version": "2.0.0",
      "model_name": "LayoutModel",
      "state": {}
     },
     "8b6e47540c2648ada05848935c870338": {
      "model_module": "@jupyter-widgets/controls",
      "model_module_version": "2.0.0",
      "model_name": "HTMLModel",
      "state": {
       "layout": "IPY_MODEL_852d4cf35ba740169f9cb56bc4b2752f",
       "style": "IPY_MODEL_e7be189f412d4798ba980547e1add481",
       "value": "Downloading artifacts: 100%"
      }
     },
     "8d0504bee9ee4b07b38b92b8b120a443": {
      "model_module": "@jupyter-widgets/controls",
      "model_module_version": "2.0.0",
      "model_name": "FloatProgressModel",
      "state": {
       "bar_style": "success",
       "layout": "IPY_MODEL_0012f616e2074af58fc6bb2a5dc77f17",
       "max": 1,
       "style": "IPY_MODEL_d319724d0fa04cceae44b46045ab8e64",
       "value": 1
      }
     },
     "8e369350fd3949fab498a37c883e8cc3": {
      "model_module": "@jupyter-widgets/base",
      "model_module_version": "2.0.0",
      "model_name": "LayoutModel",
      "state": {}
     },
     "8e79b28a08414a66a42c8eba13926412": {
      "model_module": "@jupyter-widgets/controls",
      "model_module_version": "2.0.0",
      "model_name": "HTMLStyleModel",
      "state": {
       "description_width": "",
       "font_size": null,
       "text_color": null
      }
     },
     "8f215ffe3ab8423fa519406f3aab07e4": {
      "model_module": "@jupyter-widgets/base",
      "model_module_version": "2.0.0",
      "model_name": "LayoutModel",
      "state": {}
     },
     "8f6fb59d419f4bcc9c06b861f21f4bd7": {
      "model_module": "@jupyter-widgets/controls",
      "model_module_version": "2.0.0",
      "model_name": "FloatProgressModel",
      "state": {
       "bar_style": "success",
       "layout": "IPY_MODEL_4a9349608c034c5582b7312c270f9be9",
       "max": 1,
       "style": "IPY_MODEL_68f629e9c169425abad96767b826fffd",
       "value": 1
      }
     },
     "8fc6f48f7ea0465eb5c48032a60b91c3": {
      "model_module": "@jupyter-widgets/controls",
      "model_module_version": "2.0.0",
      "model_name": "HBoxModel",
      "state": {
       "children": [
        "IPY_MODEL_3d2496c37fa9456e9c0f1981f08a4c1c",
        "IPY_MODEL_32f8d75c557e4f65b48f8963a781b90d",
        "IPY_MODEL_23d8644951a340b589d66fdc1b266a64"
       ],
       "layout": "IPY_MODEL_bbee2374752248d7ac3204be65f4d2b9"
      }
     },
     "903c5623a9414d2298f5409506906b13": {
      "model_module": "@jupyter-widgets/controls",
      "model_module_version": "2.0.0",
      "model_name": "HTMLStyleModel",
      "state": {
       "description_width": "",
       "font_size": null,
       "text_color": null
      }
     },
     "9134d9595575498ea9148f9877f660b9": {
      "model_module": "@jupyter-widgets/controls",
      "model_module_version": "2.0.0",
      "model_name": "FloatProgressModel",
      "state": {
       "bar_style": "success",
       "layout": "IPY_MODEL_e5c5c35eed6b45a8aff42fb8a0f51775",
       "max": 1,
       "style": "IPY_MODEL_097bf224e0024848bd686e5f01bbc251",
       "value": 1
      }
     },
     "91990bb995154fcba45d460772767eda": {
      "model_module": "@jupyter-widgets/controls",
      "model_module_version": "2.0.0",
      "model_name": "ProgressStyleModel",
      "state": {
       "description_width": ""
      }
     },
     "9202a4d0a4c64c08828b9352a37a4f63": {
      "model_module": "@jupyter-widgets/controls",
      "model_module_version": "2.0.0",
      "model_name": "HTMLModel",
      "state": {
       "layout": "IPY_MODEL_79e8766f2bfd408aa161bff0108e4cf5",
       "style": "IPY_MODEL_ba0217586ef14d0d916584e59726af3e",
       "value": " 1/1 [00:00&lt;00:00, 132.54it/s]"
      }
     },
     "937d9e2f6a674c3884e5d406c37bbdc0": {
      "model_module": "@jupyter-widgets/base",
      "model_module_version": "2.0.0",
      "model_name": "LayoutModel",
      "state": {}
     },
     "948fc5a20c6343359c55f07e80356834": {
      "model_module": "@jupyter-widgets/controls",
      "model_module_version": "2.0.0",
      "model_name": "HTMLStyleModel",
      "state": {
       "description_width": "",
       "font_size": null,
       "text_color": null
      }
     },
     "967bc258f7334e1f9b310eaede46eec3": {
      "model_module": "@jupyter-widgets/controls",
      "model_module_version": "2.0.0",
      "model_name": "HTMLModel",
      "state": {
       "layout": "IPY_MODEL_0b1e304e4b594fc3837e72a497a15e5e",
       "style": "IPY_MODEL_b11dcb602259416bbfbf68e8eb3f46d8",
       "value": "Downloading artifacts: 100%"
      }
     },
     "97105e6d699f4fb6ab7e6133d32f0c1d": {
      "model_module": "@jupyter-widgets/base",
      "model_module_version": "2.0.0",
      "model_name": "LayoutModel",
      "state": {}
     },
     "972f539ea4784ee1813996bfe1be05d2": {
      "model_module": "@jupyter-widgets/controls",
      "model_module_version": "2.0.0",
      "model_name": "HTMLModel",
      "state": {
       "layout": "IPY_MODEL_a8d839160d754d47bab5e0dbf7448c1a",
       "style": "IPY_MODEL_8655391c974e442db263c06ef7ed8fc9",
       "value": " 1/1 [00:00&lt;00:00, 132.68it/s]"
      }
     },
     "98d1c80c73c54a21a983fe5ef589fe55": {
      "model_module": "@jupyter-widgets/controls",
      "model_module_version": "2.0.0",
      "model_name": "HTMLModel",
      "state": {
       "layout": "IPY_MODEL_788616b37a4a4bbebbacee93b15aac95",
       "style": "IPY_MODEL_5e862147c23548cd84b24b3889c1d480",
       "value": "Downloading artifacts: 100%"
      }
     },
     "9b3fd63b0c694c7790ceef699bab307c": {
      "model_module": "@jupyter-widgets/controls",
      "model_module_version": "2.0.0",
      "model_name": "HTMLStyleModel",
      "state": {
       "description_width": "",
       "font_size": null,
       "text_color": null
      }
     },
     "9b6200ef375a4d81bc8179791d447bb9": {
      "model_module": "@jupyter-widgets/base",
      "model_module_version": "2.0.0",
      "model_name": "LayoutModel",
      "state": {}
     },
     "9bab93ffdc534e1d90cedbfc92a5f1ad": {
      "model_module": "@jupyter-widgets/controls",
      "model_module_version": "2.0.0",
      "model_name": "HBoxModel",
      "state": {
       "children": [
        "IPY_MODEL_e47f76542ccb44fe8d524f7403a5a592",
        "IPY_MODEL_30d5840437c44c07a34bd50b79e62e68",
        "IPY_MODEL_e33d971584f244e4bc0f6c2288298276"
       ],
       "layout": "IPY_MODEL_a8488b711960429993bd3ffa4a23599f"
      }
     },
     "9be5c8abc9c04dc9a07fdd1a663f3d37": {
      "model_module": "@jupyter-widgets/base",
      "model_module_version": "2.0.0",
      "model_name": "LayoutModel",
      "state": {}
     },
     "9d144aa4be804cdab545fdee7fef8abf": {
      "model_module": "@jupyter-widgets/controls",
      "model_module_version": "2.0.0",
      "model_name": "HTMLStyleModel",
      "state": {
       "description_width": "",
       "font_size": null,
       "text_color": null
      }
     },
     "9ec4275fcb6940c8a4bbb77e2ed8b3c0": {
      "model_module": "@jupyter-widgets/controls",
      "model_module_version": "2.0.0",
      "model_name": "HTMLModel",
      "state": {
       "layout": "IPY_MODEL_2c953143438744b58500d752e9942cd6",
       "style": "IPY_MODEL_7d869d2602214b6eaae8db4aabe2c85c",
       "value": "Downloading artifacts: 100%"
      }
     },
     "9fba38708bb1479182547c58e1804e01": {
      "model_module": "@jupyter-widgets/controls",
      "model_module_version": "2.0.0",
      "model_name": "HBoxModel",
      "state": {
       "children": [
        "IPY_MODEL_460b6d35f0784f4cbea9acfcf997fd32",
        "IPY_MODEL_9134d9595575498ea9148f9877f660b9",
        "IPY_MODEL_b550037eeb4a432fb613eb3172c10227"
       ],
       "layout": "IPY_MODEL_daf702c2f57b49c7958f82a6b5a135fe"
      }
     },
     "a1af443fd93b48d9baeaae8a2a70a00b": {
      "model_module": "@jupyter-widgets/controls",
      "model_module_version": "2.0.0",
      "model_name": "HTMLModel",
      "state": {
       "layout": "IPY_MODEL_c66b4ad4282c4c6a943525aeb20192ee",
       "style": "IPY_MODEL_3e46611a71264ed489cb7386ccb9e1d3",
       "value": "Downloading artifacts: 100%"
      }
     },
     "a2452dd2179e4b0b9bdc947c2ac4f1ad": {
      "model_module": "@jupyter-widgets/base",
      "model_module_version": "2.0.0",
      "model_name": "LayoutModel",
      "state": {}
     },
     "a2f9c98d457c4a41a473eefea72ff0d7": {
      "model_module": "@jupyter-widgets/controls",
      "model_module_version": "2.0.0",
      "model_name": "HTMLStyleModel",
      "state": {
       "description_width": "",
       "font_size": null,
       "text_color": null
      }
     },
     "a3a105ff11454719977e45a7dab7a64c": {
      "model_module": "@jupyter-widgets/controls",
      "model_module_version": "2.0.0",
      "model_name": "HTMLModel",
      "state": {
       "layout": "IPY_MODEL_602349a03c354774a0c730bae16d3ba9",
       "style": "IPY_MODEL_688c22c731474f69882cec74c9ba5f29",
       "value": "Downloading artifacts: 100%"
      }
     },
     "a3feccf847db4345ac87978ffc86069c": {
      "model_module": "@jupyter-widgets/controls",
      "model_module_version": "2.0.0",
      "model_name": "HTMLModel",
      "state": {
       "layout": "IPY_MODEL_1e20eb165826483c89de083c8b31ac7a",
       "style": "IPY_MODEL_7711233a045241dab47b008fcad91e22",
       "value": " 1/1 [00:00&lt;00:00, 101.84it/s]"
      }
     },
     "a54b43c40e1a46528e1016c61f640cf4": {
      "model_module": "@jupyter-widgets/controls",
      "model_module_version": "2.0.0",
      "model_name": "FloatProgressModel",
      "state": {
       "bar_style": "success",
       "layout": "IPY_MODEL_89184ceaf76c4df6b96c9a3a5a99a761",
       "max": 1,
       "style": "IPY_MODEL_91990bb995154fcba45d460772767eda",
       "value": 1
      }
     },
     "a6a386f658694605850e602a477923c7": {
      "model_module": "@jupyter-widgets/controls",
      "model_module_version": "2.0.0",
      "model_name": "FloatProgressModel",
      "state": {
       "bar_style": "success",
       "layout": "IPY_MODEL_ab0d6b731b1c44b8abcebf4e6bdd1d49",
       "max": 1,
       "style": "IPY_MODEL_d595ef6cf3164790a75f104148b67efb",
       "value": 1
      }
     },
     "a8488b711960429993bd3ffa4a23599f": {
      "model_module": "@jupyter-widgets/base",
      "model_module_version": "2.0.0",
      "model_name": "LayoutModel",
      "state": {}
     },
     "a8b2b4f432ba443da7c3e4ce59f7578a": {
      "model_module": "@jupyter-widgets/controls",
      "model_module_version": "2.0.0",
      "model_name": "HBoxModel",
      "state": {
       "children": [
        "IPY_MODEL_ad68041f554b456ea229248fb5967992",
        "IPY_MODEL_d4f63747efe94626b5730935106deef7",
        "IPY_MODEL_972f539ea4784ee1813996bfe1be05d2"
       ],
       "layout": "IPY_MODEL_1c44b0320b504b699b9cf5f455846e38"
      }
     },
     "a8d839160d754d47bab5e0dbf7448c1a": {
      "model_module": "@jupyter-widgets/base",
      "model_module_version": "2.0.0",
      "model_name": "LayoutModel",
      "state": {}
     },
     "a91bcc5853f748e2979066aa9fb636ee": {
      "model_module": "@jupyter-widgets/controls",
      "model_module_version": "2.0.0",
      "model_name": "HTMLModel",
      "state": {
       "layout": "IPY_MODEL_d46469a576fb4b59b90c1e070e12c6bc",
       "style": "IPY_MODEL_008a8ac029eb4338b8f38455a04082ab",
       "value": "Downloading artifacts: 100%"
      }
     },
     "ab0d6b731b1c44b8abcebf4e6bdd1d49": {
      "model_module": "@jupyter-widgets/base",
      "model_module_version": "2.0.0",
      "model_name": "LayoutModel",
      "state": {}
     },
     "ac18bd70bf42460987eb4351071368ee": {
      "model_module": "@jupyter-widgets/controls",
      "model_module_version": "2.0.0",
      "model_name": "HTMLStyleModel",
      "state": {
       "description_width": "",
       "font_size": null,
       "text_color": null
      }
     },
     "ac685973ddf24a95a42ea1b2f06dd1fa": {
      "model_module": "@jupyter-widgets/base",
      "model_module_version": "2.0.0",
      "model_name": "LayoutModel",
      "state": {}
     },
     "ad630b4729c2490f8f532a3631e807d4": {
      "model_module": "@jupyter-widgets/controls",
      "model_module_version": "2.0.0",
      "model_name": "HTMLModel",
      "state": {
       "layout": "IPY_MODEL_625d12a7678f46588dd62e035cc175b5",
       "style": "IPY_MODEL_903c5623a9414d2298f5409506906b13",
       "value": " 1/1 [00:00&lt;00:00, 142.78it/s]"
      }
     },
     "ad68041f554b456ea229248fb5967992": {
      "model_module": "@jupyter-widgets/controls",
      "model_module_version": "2.0.0",
      "model_name": "HTMLModel",
      "state": {
       "layout": "IPY_MODEL_75d4323bb7ed426dafb7a72c39dc7f97",
       "style": "IPY_MODEL_1e8f3cb6ef95494f8289efcb502ad10f",
       "value": "Downloading artifacts: 100%"
      }
     },
     "ada877fe115045b78210649715707f0e": {
      "model_module": "@jupyter-widgets/controls",
      "model_module_version": "2.0.0",
      "model_name": "HTMLModel",
      "state": {
       "layout": "IPY_MODEL_20a32bea819a423dbf263dc8a0d22439",
       "style": "IPY_MODEL_e47fa5cdc77f4fa9846a3bea318d9e73",
       "value": "Downloading artifacts: 100%"
      }
     },
     "ae4a2fd60447451cac9b1c1ee86ff490": {
      "model_module": "@jupyter-widgets/controls",
      "model_module_version": "2.0.0",
      "model_name": "FloatProgressModel",
      "state": {
       "bar_style": "success",
       "layout": "IPY_MODEL_bce03c17975a49d9b8c390ccc496ef43",
       "max": 1,
       "style": "IPY_MODEL_4c67fc3da8cd4d47846dedacb5e1767c",
       "value": 1
      }
     },
     "afa91942fb5646458a743127a7c3dcc9": {
      "model_module": "@jupyter-widgets/controls",
      "model_module_version": "2.0.0",
      "model_name": "ProgressStyleModel",
      "state": {
       "description_width": ""
      }
     },
     "b052c0af7d964a6fb42b9b9926028bbf": {
      "model_module": "@jupyter-widgets/base",
      "model_module_version": "2.0.0",
      "model_name": "LayoutModel",
      "state": {}
     },
     "b0ee4fba202143a19168ca9e95607074": {
      "model_module": "@jupyter-widgets/controls",
      "model_module_version": "2.0.0",
      "model_name": "HBoxModel",
      "state": {
       "children": [
        "IPY_MODEL_17c2421bf315437e88a945a546643732",
        "IPY_MODEL_ae4a2fd60447451cac9b1c1ee86ff490",
        "IPY_MODEL_32e20dc96f5f4667b41c96e31a5d3461"
       ],
       "layout": "IPY_MODEL_2d1fcbdb2db1481f928a523f4e7d2cd2"
      }
     },
     "b11dcb602259416bbfbf68e8eb3f46d8": {
      "model_module": "@jupyter-widgets/controls",
      "model_module_version": "2.0.0",
      "model_name": "HTMLStyleModel",
      "state": {
       "description_width": "",
       "font_size": null,
       "text_color": null
      }
     },
     "b15a1c1986f74f0997a3963cec43c595": {
      "model_module": "@jupyter-widgets/base",
      "model_module_version": "2.0.0",
      "model_name": "LayoutModel",
      "state": {}
     },
     "b2c23012d4c443578933cdb296a57a65": {
      "model_module": "@jupyter-widgets/controls",
      "model_module_version": "2.0.0",
      "model_name": "HBoxModel",
      "state": {
       "children": [
        "IPY_MODEL_0233ff2eaa2c45e4a5d5846352ec530c",
        "IPY_MODEL_7282665cf56f4354abefd8b26b17ef1b",
        "IPY_MODEL_be2e92a0546741148366165395bf4754"
       ],
       "layout": "IPY_MODEL_27e97cf831bd49558c6a345689f64828"
      }
     },
     "b31e8f7be32e4a5c9d4933cbb11a8c45": {
      "model_module": "@jupyter-widgets/base",
      "model_module_version": "2.0.0",
      "model_name": "LayoutModel",
      "state": {}
     },
     "b3d9d9e7265a4616a0e6ffdc5c7732a2": {
      "model_module": "@jupyter-widgets/base",
      "model_module_version": "2.0.0",
      "model_name": "LayoutModel",
      "state": {}
     },
     "b4c91d0fd06c4d01aaed706affb23960": {
      "model_module": "@jupyter-widgets/controls",
      "model_module_version": "2.0.0",
      "model_name": "HBoxModel",
      "state": {
       "children": [
        "IPY_MODEL_a3a105ff11454719977e45a7dab7a64c",
        "IPY_MODEL_78016537e6b94ff498321620b0d2dcb5",
        "IPY_MODEL_868557aa3e9b4196866a34c6401b6fa9"
       ],
       "layout": "IPY_MODEL_397c0d9aa13b48f4b4296482159221a7"
      }
     },
     "b550037eeb4a432fb613eb3172c10227": {
      "model_module": "@jupyter-widgets/controls",
      "model_module_version": "2.0.0",
      "model_name": "HTMLModel",
      "state": {
       "layout": "IPY_MODEL_642ea41d0ab04213bf364cb456937603",
       "style": "IPY_MODEL_826d5077188f4776a72886c4ce654de6",
       "value": " 1/1 [00:00&lt;00:00, 117.31it/s]"
      }
     },
     "b5e054d021a14c80940a5082bb1ce91c": {
      "model_module": "@jupyter-widgets/base",
      "model_module_version": "2.0.0",
      "model_name": "LayoutModel",
      "state": {}
     },
     "b6b9c14751cf49ba8e11375dd981e25b": {
      "model_module": "@jupyter-widgets/base",
      "model_module_version": "2.0.0",
      "model_name": "LayoutModel",
      "state": {}
     },
     "b6fd4e99434a4f8fbcb24c08eca56438": {
      "model_module": "@jupyter-widgets/controls",
      "model_module_version": "2.0.0",
      "model_name": "HTMLModel",
      "state": {
       "layout": "IPY_MODEL_f36035a2b24e473796276bad1b585664",
       "style": "IPY_MODEL_591d0b61248d4957bdffbb3fa67b1547",
       "value": " 1/1 [00:00&lt;00:00, 118.49it/s]"
      }
     },
     "b8ef8ffc9fa64fb3a233435aef041b6e": {
      "model_module": "@jupyter-widgets/controls",
      "model_module_version": "2.0.0",
      "model_name": "ProgressStyleModel",
      "state": {
       "description_width": ""
      }
     },
     "ba0217586ef14d0d916584e59726af3e": {
      "model_module": "@jupyter-widgets/controls",
      "model_module_version": "2.0.0",
      "model_name": "HTMLStyleModel",
      "state": {
       "description_width": "",
       "font_size": null,
       "text_color": null
      }
     },
     "ba1d4d06a9904da8971d8090f55c3c25": {
      "model_module": "@jupyter-widgets/base",
      "model_module_version": "2.0.0",
      "model_name": "LayoutModel",
      "state": {}
     },
     "baa048c6e5fb4fffae3009ed574a63a3": {
      "model_module": "@jupyter-widgets/controls",
      "model_module_version": "2.0.0",
      "model_name": "HTMLModel",
      "state": {
       "layout": "IPY_MODEL_37a8f0ba519f42bebb4b3049148d631a",
       "style": "IPY_MODEL_23d51620010c4992b09422a653a89c63",
       "value": "Downloading artifacts: 100%"
      }
     },
     "bb37cdcb9d4c4559a264cd8436acaec3": {
      "model_module": "@jupyter-widgets/controls",
      "model_module_version": "2.0.0",
      "model_name": "HTMLStyleModel",
      "state": {
       "description_width": "",
       "font_size": null,
       "text_color": null
      }
     },
     "bbee2374752248d7ac3204be65f4d2b9": {
      "model_module": "@jupyter-widgets/base",
      "model_module_version": "2.0.0",
      "model_name": "LayoutModel",
      "state": {}
     },
     "bce03c17975a49d9b8c390ccc496ef43": {
      "model_module": "@jupyter-widgets/base",
      "model_module_version": "2.0.0",
      "model_name": "LayoutModel",
      "state": {}
     },
     "be2e92a0546741148366165395bf4754": {
      "model_module": "@jupyter-widgets/controls",
      "model_module_version": "2.0.0",
      "model_name": "HTMLModel",
      "state": {
       "layout": "IPY_MODEL_3555fba2e6ff4d98a2f91e37190a44d3",
       "style": "IPY_MODEL_dba4233b0453457db7ac0586a72a8ee6",
       "value": " 1/1 [00:00&lt;00:00, 108.08it/s]"
      }
     },
     "c2062072e8cb47a2ad4130dbbd8c338f": {
      "model_module": "@jupyter-widgets/controls",
      "model_module_version": "2.0.0",
      "model_name": "HTMLStyleModel",
      "state": {
       "description_width": "",
       "font_size": null,
       "text_color": null
      }
     },
     "c365050b1081402c8bf8ab3cca6bbf57": {
      "model_module": "@jupyter-widgets/base",
      "model_module_version": "2.0.0",
      "model_name": "LayoutModel",
      "state": {}
     },
     "c66b4ad4282c4c6a943525aeb20192ee": {
      "model_module": "@jupyter-widgets/base",
      "model_module_version": "2.0.0",
      "model_name": "LayoutModel",
      "state": {}
     },
     "c6ffe7c3779e4690a7782cdbd5c89662": {
      "model_module": "@jupyter-widgets/base",
      "model_module_version": "2.0.0",
      "model_name": "LayoutModel",
      "state": {}
     },
     "c74ec212ccf849c3b845ff0ab0195f26": {
      "model_module": "@jupyter-widgets/controls",
      "model_module_version": "2.0.0",
      "model_name": "ProgressStyleModel",
      "state": {
       "description_width": ""
      }
     },
     "c960b5a904c748f5b2843c387fc7c5fe": {
      "model_module": "@jupyter-widgets/base",
      "model_module_version": "2.0.0",
      "model_name": "LayoutModel",
      "state": {}
     },
     "c97dd63fcd82470f82b8796685d677b1": {
      "model_module": "@jupyter-widgets/base",
      "model_module_version": "2.0.0",
      "model_name": "LayoutModel",
      "state": {}
     },
     "c9dd1e35ae7d4ce69b77d1b8122905dc": {
      "model_module": "@jupyter-widgets/base",
      "model_module_version": "2.0.0",
      "model_name": "LayoutModel",
      "state": {}
     },
     "ca16d23a6c2e42ffa074d10a1137daae": {
      "model_module": "@jupyter-widgets/controls",
      "model_module_version": "2.0.0",
      "model_name": "HBoxModel",
      "state": {
       "children": [
        "IPY_MODEL_ada877fe115045b78210649715707f0e",
        "IPY_MODEL_8d0504bee9ee4b07b38b92b8b120a443",
        "IPY_MODEL_cd7f92bd17324db4b9e5c9070b44584f"
       ],
       "layout": "IPY_MODEL_57a01b8b79f449dcb961ce472a7d594a"
      }
     },
     "ca8918556c5c457eb26483c5126bd5c8": {
      "model_module": "@jupyter-widgets/controls",
      "model_module_version": "2.0.0",
      "model_name": "FloatProgressModel",
      "state": {
       "bar_style": "success",
       "layout": "IPY_MODEL_1c9e6d5f1a2e425886202f448f24bfa4",
       "max": 1,
       "style": "IPY_MODEL_7f3ab782d07c4ded850d5977240e6ca3",
       "value": 1
      }
     },
     "cabcf614c56a4fb3a3943ba6d719d924": {
      "model_module": "@jupyter-widgets/base",
      "model_module_version": "2.0.0",
      "model_name": "LayoutModel",
      "state": {}
     },
     "cac48683c12b460e93332bf5ddf6f6bf": {
      "model_module": "@jupyter-widgets/controls",
      "model_module_version": "2.0.0",
      "model_name": "FloatProgressModel",
      "state": {
       "bar_style": "success",
       "layout": "IPY_MODEL_5f727dec922540c58ec603cf1b45a443",
       "max": 1,
       "style": "IPY_MODEL_503ed76d545e4a6899c2d6d5fa4acfd3",
       "value": 1
      }
     },
     "cb53ce4dadb84d068a7d3d9ef8c7311d": {
      "model_module": "@jupyter-widgets/controls",
      "model_module_version": "2.0.0",
      "model_name": "HBoxModel",
      "state": {
       "children": [
        "IPY_MODEL_84815702818a4b34975cf0526de18871",
        "IPY_MODEL_f9e2882f915b4c0b84bb08b4dded74d5",
        "IPY_MODEL_629d53ad42c64ccc8c797d0488d69d31"
       ],
       "layout": "IPY_MODEL_a2452dd2179e4b0b9bdc947c2ac4f1ad"
      }
     },
     "cd7f92bd17324db4b9e5c9070b44584f": {
      "model_module": "@jupyter-widgets/controls",
      "model_module_version": "2.0.0",
      "model_name": "HTMLModel",
      "state": {
       "layout": "IPY_MODEL_cabcf614c56a4fb3a3943ba6d719d924",
       "style": "IPY_MODEL_e3298579e2b74a4c83bbaa60e7f935e2",
       "value": " 1/1 [00:00&lt;00:00, 120.57it/s]"
      }
     },
     "d048e77ec2fc44ac8aca69f233951ac6": {
      "model_module": "@jupyter-widgets/controls",
      "model_module_version": "2.0.0",
      "model_name": "HBoxModel",
      "state": {
       "children": [
        "IPY_MODEL_f1f66c0693af452cab3632b3c528d69f",
        "IPY_MODEL_ca8918556c5c457eb26483c5126bd5c8",
        "IPY_MODEL_b6fd4e99434a4f8fbcb24c08eca56438"
       ],
       "layout": "IPY_MODEL_e7eb204a7611457c9de42359c3ec3e14"
      }
     },
     "d04abd91304f4b3f90ad2f49e3554737": {
      "model_module": "@jupyter-widgets/base",
      "model_module_version": "2.0.0",
      "model_name": "LayoutModel",
      "state": {}
     },
     "d0b685b6fa924b58b0701e2bf8287d08": {
      "model_module": "@jupyter-widgets/controls",
      "model_module_version": "2.0.0",
      "model_name": "HTMLModel",
      "state": {
       "layout": "IPY_MODEL_07b154b3357043cc8d2ed36f7905e8c1",
       "style": "IPY_MODEL_39915751c1ce41398611acf8e1f8b72d",
       "value": " 1/1 [00:00&lt;00:00, 111.03it/s]"
      }
     },
     "d112a469376b40d6ace3d2ba82fb97a7": {
      "model_module": "@jupyter-widgets/base",
      "model_module_version": "2.0.0",
      "model_name": "LayoutModel",
      "state": {}
     },
     "d19c8b77df344ecfaffaffdae538c23f": {
      "model_module": "@jupyter-widgets/controls",
      "model_module_version": "2.0.0",
      "model_name": "HTMLStyleModel",
      "state": {
       "description_width": "",
       "font_size": null,
       "text_color": null
      }
     },
     "d26dc5508a4b4f9fa64150d6535becca": {
      "model_module": "@jupyter-widgets/base",
      "model_module_version": "2.0.0",
      "model_name": "LayoutModel",
      "state": {}
     },
     "d319724d0fa04cceae44b46045ab8e64": {
      "model_module": "@jupyter-widgets/controls",
      "model_module_version": "2.0.0",
      "model_name": "ProgressStyleModel",
      "state": {
       "description_width": ""
      }
     },
     "d46469a576fb4b59b90c1e070e12c6bc": {
      "model_module": "@jupyter-widgets/base",
      "model_module_version": "2.0.0",
      "model_name": "LayoutModel",
      "state": {}
     },
     "d4c3d3c044b946758f952965d55c28c5": {
      "model_module": "@jupyter-widgets/controls",
      "model_module_version": "2.0.0",
      "model_name": "ProgressStyleModel",
      "state": {
       "description_width": ""
      }
     },
     "d4f63747efe94626b5730935106deef7": {
      "model_module": "@jupyter-widgets/controls",
      "model_module_version": "2.0.0",
      "model_name": "FloatProgressModel",
      "state": {
       "bar_style": "success",
       "layout": "IPY_MODEL_8f215ffe3ab8423fa519406f3aab07e4",
       "max": 1,
       "style": "IPY_MODEL_afa91942fb5646458a743127a7c3dcc9",
       "value": 1
      }
     },
     "d595ef6cf3164790a75f104148b67efb": {
      "model_module": "@jupyter-widgets/controls",
      "model_module_version": "2.0.0",
      "model_name": "ProgressStyleModel",
      "state": {
       "description_width": ""
      }
     },
     "d85e92d7078446c9a4fd31bbccec198e": {
      "model_module": "@jupyter-widgets/controls",
      "model_module_version": "2.0.0",
      "model_name": "FloatProgressModel",
      "state": {
       "bar_style": "success",
       "layout": "IPY_MODEL_c960b5a904c748f5b2843c387fc7c5fe",
       "max": 1,
       "style": "IPY_MODEL_3f5110c9426d4ad982171fa0bdcbb454",
       "value": 1
      }
     },
     "d88a758514dc4fa69480d4d6583d831a": {
      "model_module": "@jupyter-widgets/base",
      "model_module_version": "2.0.0",
      "model_name": "LayoutModel",
      "state": {}
     },
     "dac7f1e219c34a10adafc34241745097": {
      "model_module": "@jupyter-widgets/controls",
      "model_module_version": "2.0.0",
      "model_name": "HTMLModel",
      "state": {
       "layout": "IPY_MODEL_8e369350fd3949fab498a37c883e8cc3",
       "style": "IPY_MODEL_3259300577804247a12b15f3b247093a",
       "value": " 1/1 [00:00&lt;00:00, 82.44it/s]"
      }
     },
     "dac80c5fbe2846dea3ebef9d50f83460": {
      "model_module": "@jupyter-widgets/controls",
      "model_module_version": "2.0.0",
      "model_name": "FloatProgressModel",
      "state": {
       "bar_style": "success",
       "layout": "IPY_MODEL_4941d57133aa487d91d8a887213d9559",
       "max": 1,
       "style": "IPY_MODEL_548d9bbc6566444f859004a950e43e47",
       "value": 1
      }
     },
     "daf702c2f57b49c7958f82a6b5a135fe": {
      "model_module": "@jupyter-widgets/base",
      "model_module_version": "2.0.0",
      "model_name": "LayoutModel",
      "state": {}
     },
     "dba4233b0453457db7ac0586a72a8ee6": {
      "model_module": "@jupyter-widgets/controls",
      "model_module_version": "2.0.0",
      "model_name": "HTMLStyleModel",
      "state": {
       "description_width": "",
       "font_size": null,
       "text_color": null
      }
     },
     "dd251fb672954540b5bbda639fc7e149": {
      "model_module": "@jupyter-widgets/controls",
      "model_module_version": "2.0.0",
      "model_name": "HTMLModel",
      "state": {
       "layout": "IPY_MODEL_c9dd1e35ae7d4ce69b77d1b8122905dc",
       "style": "IPY_MODEL_026b699cd823480ba027230171e6f87d",
       "value": "Downloading artifacts: 100%"
      }
     },
     "def91e3495b9443ca1d8549640ee895c": {
      "model_module": "@jupyter-widgets/controls",
      "model_module_version": "2.0.0",
      "model_name": "HTMLStyleModel",
      "state": {
       "description_width": "",
       "font_size": null,
       "text_color": null
      }
     },
     "e0ccbfa7dff74bd9aa8fd22a5543916d": {
      "model_module": "@jupyter-widgets/controls",
      "model_module_version": "2.0.0",
      "model_name": "ProgressStyleModel",
      "state": {
       "description_width": ""
      }
     },
     "e1d8ed0cc0934c4cbc56bff1e00a76bb": {
      "model_module": "@jupyter-widgets/controls",
      "model_module_version": "2.0.0",
      "model_name": "ProgressStyleModel",
      "state": {
       "description_width": ""
      }
     },
     "e3298579e2b74a4c83bbaa60e7f935e2": {
      "model_module": "@jupyter-widgets/controls",
      "model_module_version": "2.0.0",
      "model_name": "HTMLStyleModel",
      "state": {
       "description_width": "",
       "font_size": null,
       "text_color": null
      }
     },
     "e33d971584f244e4bc0f6c2288298276": {
      "model_module": "@jupyter-widgets/controls",
      "model_module_version": "2.0.0",
      "model_name": "HTMLModel",
      "state": {
       "layout": "IPY_MODEL_6ef87936d5b340dfa1fe7adc08e64b6f",
       "style": "IPY_MODEL_c2062072e8cb47a2ad4130dbbd8c338f",
       "value": " 1/1 [00:00&lt;00:00, 107.23it/s]"
      }
     },
     "e47f76542ccb44fe8d524f7403a5a592": {
      "model_module": "@jupyter-widgets/controls",
      "model_module_version": "2.0.0",
      "model_name": "HTMLModel",
      "state": {
       "layout": "IPY_MODEL_fe9d9fabab1742a58ad5eec236f04350",
       "style": "IPY_MODEL_9b3fd63b0c694c7790ceef699bab307c",
       "value": "Downloading artifacts: 100%"
      }
     },
     "e47fa5cdc77f4fa9846a3bea318d9e73": {
      "model_module": "@jupyter-widgets/controls",
      "model_module_version": "2.0.0",
      "model_name": "HTMLStyleModel",
      "state": {
       "description_width": "",
       "font_size": null,
       "text_color": null
      }
     },
     "e5c5c35eed6b45a8aff42fb8a0f51775": {
      "model_module": "@jupyter-widgets/base",
      "model_module_version": "2.0.0",
      "model_name": "LayoutModel",
      "state": {}
     },
     "e76c6346b44b4496943db59736f77b66": {
      "model_module": "@jupyter-widgets/base",
      "model_module_version": "2.0.0",
      "model_name": "LayoutModel",
      "state": {}
     },
     "e7be189f412d4798ba980547e1add481": {
      "model_module": "@jupyter-widgets/controls",
      "model_module_version": "2.0.0",
      "model_name": "HTMLStyleModel",
      "state": {
       "description_width": "",
       "font_size": null,
       "text_color": null
      }
     },
     "e7eb204a7611457c9de42359c3ec3e14": {
      "model_module": "@jupyter-widgets/base",
      "model_module_version": "2.0.0",
      "model_name": "LayoutModel",
      "state": {}
     },
     "e89b7e2b11f84e6499fff9a5ea6e887f": {
      "model_module": "@jupyter-widgets/controls",
      "model_module_version": "2.0.0",
      "model_name": "ProgressStyleModel",
      "state": {
       "description_width": ""
      }
     },
     "e9deb53225304b3891dd2d33e38278fc": {
      "model_module": "@jupyter-widgets/base",
      "model_module_version": "2.0.0",
      "model_name": "LayoutModel",
      "state": {}
     },
     "ee2f1c170d73404ea155d8f224066afb": {
      "model_module": "@jupyter-widgets/controls",
      "model_module_version": "2.0.0",
      "model_name": "HTMLStyleModel",
      "state": {
       "description_width": "",
       "font_size": null,
       "text_color": null
      }
     },
     "eed7602114ef43a1ac9f7815d5075468": {
      "model_module": "@jupyter-widgets/controls",
      "model_module_version": "2.0.0",
      "model_name": "FloatProgressModel",
      "state": {
       "bar_style": "success",
       "layout": "IPY_MODEL_ac685973ddf24a95a42ea1b2f06dd1fa",
       "max": 1,
       "style": "IPY_MODEL_429f4d1abd8c4bb8965ad6d684416cae",
       "value": 1
      }
     },
     "eee69bf903c64fb8abfc16909cfb3521": {
      "model_module": "@jupyter-widgets/controls",
      "model_module_version": "2.0.0",
      "model_name": "HBoxModel",
      "state": {
       "children": [
        "IPY_MODEL_98d1c80c73c54a21a983fe5ef589fe55",
        "IPY_MODEL_1bd2aa41f30e4ad6b60e1e307bf66bc4",
        "IPY_MODEL_9202a4d0a4c64c08828b9352a37a4f63"
       ],
       "layout": "IPY_MODEL_d04abd91304f4b3f90ad2f49e3554737"
      }
     },
     "ef3b0cdd57b346ba92bffc0a1bed290d": {
      "model_module": "@jupyter-widgets/controls",
      "model_module_version": "2.0.0",
      "model_name": "HTMLStyleModel",
      "state": {
       "description_width": "",
       "font_size": null,
       "text_color": null
      }
     },
     "ef3f7d45ce7a474fa0e8f0f7f92883d2": {
      "model_module": "@jupyter-widgets/controls",
      "model_module_version": "2.0.0",
      "model_name": "ProgressStyleModel",
      "state": {
       "description_width": ""
      }
     },
     "f1f66c0693af452cab3632b3c528d69f": {
      "model_module": "@jupyter-widgets/controls",
      "model_module_version": "2.0.0",
      "model_name": "HTMLModel",
      "state": {
       "layout": "IPY_MODEL_1536bd4cf09a460689b6f4755daa8353",
       "style": "IPY_MODEL_ee2f1c170d73404ea155d8f224066afb",
       "value": "Downloading artifacts: 100%"
      }
     },
     "f2c6e9d56171481194113be7d71cf01f": {
      "model_module": "@jupyter-widgets/controls",
      "model_module_version": "2.0.0",
      "model_name": "HBoxModel",
      "state": {
       "children": [
        "IPY_MODEL_9ec4275fcb6940c8a4bbb77e2ed8b3c0",
        "IPY_MODEL_a6a386f658694605850e602a477923c7",
        "IPY_MODEL_700c6203193b4db9b3fbb492377c10ca"
       ],
       "layout": "IPY_MODEL_b052c0af7d964a6fb42b9b9926028bbf"
      }
     },
     "f36035a2b24e473796276bad1b585664": {
      "model_module": "@jupyter-widgets/base",
      "model_module_version": "2.0.0",
      "model_name": "LayoutModel",
      "state": {}
     },
     "f44a2e7552274ad4bc09e89747123124": {
      "model_module": "@jupyter-widgets/controls",
      "model_module_version": "2.0.0",
      "model_name": "HBoxModel",
      "state": {
       "children": [
        "IPY_MODEL_faab9bbc661a49c3b8811aaa5ffb519c",
        "IPY_MODEL_889ae20a29424870a888fb7eeb2958e8",
        "IPY_MODEL_17e75d17dc9342e3afe6874ef2213215"
       ],
       "layout": "IPY_MODEL_c6ffe7c3779e4690a7782cdbd5c89662"
      }
     },
     "f76f987ad00d497e87dccde0bd777a00": {
      "model_module": "@jupyter-widgets/base",
      "model_module_version": "2.0.0",
      "model_name": "LayoutModel",
      "state": {}
     },
     "f79e3fba210f46b09ed60038d77109ba": {
      "model_module": "@jupyter-widgets/controls",
      "model_module_version": "2.0.0",
      "model_name": "HTMLStyleModel",
      "state": {
       "description_width": "",
       "font_size": null,
       "text_color": null
      }
     },
     "f92e3b5824c2471eb57acc7b2f5a4e75": {
      "model_module": "@jupyter-widgets/controls",
      "model_module_version": "2.0.0",
      "model_name": "HTMLStyleModel",
      "state": {
       "description_width": "",
       "font_size": null,
       "text_color": null
      }
     },
     "f9e2882f915b4c0b84bb08b4dded74d5": {
      "model_module": "@jupyter-widgets/controls",
      "model_module_version": "2.0.0",
      "model_name": "FloatProgressModel",
      "state": {
       "bar_style": "success",
       "layout": "IPY_MODEL_ba1d4d06a9904da8971d8090f55c3c25",
       "max": 1,
       "style": "IPY_MODEL_593e4357c6f448178d0a7f4210de15e3",
       "value": 1
      }
     },
     "faab9bbc661a49c3b8811aaa5ffb519c": {
      "model_module": "@jupyter-widgets/controls",
      "model_module_version": "2.0.0",
      "model_name": "HTMLModel",
      "state": {
       "layout": "IPY_MODEL_203cf8fc648246b7be9e051d097e57dd",
       "style": "IPY_MODEL_1732e6f0f4a3419bbfed16830b4a4b09",
       "value": "Downloading artifacts: 100%"
      }
     },
     "fe6bd693f2e54a0ba528f0410b1b94b0": {
      "model_module": "@jupyter-widgets/controls",
      "model_module_version": "2.0.0",
      "model_name": "ProgressStyleModel",
      "state": {
       "description_width": ""
      }
     },
     "fe6fe59128254eb78f8f7b8019815b2d": {
      "model_module": "@jupyter-widgets/base",
      "model_module_version": "2.0.0",
      "model_name": "LayoutModel",
      "state": {}
     },
     "fe9d9fabab1742a58ad5eec236f04350": {
      "model_module": "@jupyter-widgets/base",
      "model_module_version": "2.0.0",
      "model_name": "LayoutModel",
      "state": {}
     },
     "fef617479dd947adab75c119ba13c31d": {
      "model_module": "@jupyter-widgets/base",
      "model_module_version": "2.0.0",
      "model_name": "LayoutModel",
      "state": {}
     },
     "ff3d55d1451b45509f57e3296e856c56": {
      "model_module": "@jupyter-widgets/base",
      "model_module_version": "2.0.0",
      "model_name": "LayoutModel",
      "state": {}
     },
     "fff696e4896140c79c27804db5929c43": {
      "model_module": "@jupyter-widgets/controls",
      "model_module_version": "2.0.0",
      "model_name": "HTMLStyleModel",
      "state": {
       "description_width": "",
       "font_size": null,
       "text_color": null
      }
     }
    },
    "version_major": 2,
    "version_minor": 0
   }
  }
 },
 "nbformat": 4,
 "nbformat_minor": 5
}
