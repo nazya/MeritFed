{
 "cells": [
  {
   "cell_type": "code",
   "execution_count": null,
   "id": "3ea397aa",
   "metadata": {
    "metadata": {},
    "tags": []
   },
   "outputs": [],
   "source": [
    "import os\n",
    "os.environ[\"MKL_THREADING_LAYER\"] = \"AMD\"\n",
    "os.environ[\"CUDA_DEVICE_ORDER\"] = \"PCI_BUS_ID\"\n",
    "os.environ[\"TORCH_DEVICE\"] = \"cuda\"\n",
    "os.environ[\"CUDA_VISIBLE_DEVICES\"] = \"5\"\n",
    "\n",
    "import itertools\n",
    "from attrs import define\n",
    "from codes.train import train\n",
    "# from codes.train_dist import train\n",
    "from codes.optimizers.base import Optimizer\n",
    "# from code.problems import Problem\n",
    "from codes import Loss\n",
    "from codes.datasets import Dataset\n",
    "from codes.models import Model\n",
    "from codes.attacks import Attack\n",
    "\n",
    "%load_ext autoreload\n",
    "%autoreload 2"
   ]
  },
  {
   "cell_type": "code",
   "execution_count": null,
   "id": "e9b5d8cd-078e-4292-97c9-0c7a02c57fbd",
   "metadata": {
    "metadata": {},
    "tags": []
   },
   "outputs": [],
   "source": [
    "def zip_dict(**kwargs):\n",
    "    keys = kwargs.keys()\n",
    "    for instance in zip(*kwargs.values()):\n",
    "        yield dict(zip(keys, instance))\n",
    "\n",
    "def product_dict(**kwargs):\n",
    "    keys = kwargs.keys()\n",
    "    for instance in itertools.product(*kwargs.values()):\n",
    "        yield dict(zip(keys, instance))"
   ]
  },
  {
   "cell_type": "code",
   "execution_count": null,
   "id": "d8d681b5-96b4-41e2-86af-563b88775df7",
   "metadata": {
    "metadata": {},
    "tags": []
   },
   "outputs": [],
   "source": [
    "os.environ['MLFLOW_VERBOSE'] = 'True'\n",
    "os.environ['MLFLOW_CHECK_EXIST'] = 'False'\n",
    "os.environ['MLFLOW_EXPERIMENT_NAME'] = os.path.basename(os.getcwd())"
   ]
  },
  {
   "cell_type": "markdown",
   "id": "6563a0e6-5394-4956-ac72-fef9058294cf",
   "metadata": {},
   "source": [
    "# 4 classes CIFAR10"
   ]
  },
  {
   "cell_type": "code",
   "execution_count": null,
   "id": "279ed62f-ca45-4fa5-9391-85be3895f436",
   "metadata": {
    "metadata": {},
    "tags": []
   },
   "outputs": [],
   "source": [
    "@define\n",
    "class BaseConfig():\n",
    "    nepochs:         int = 40\n",
    "    npeers:          int = 40\n",
    "    seed:            int = 0\n",
    "\n",
    "    loss:           Loss = Loss.CrossEntropyLoss\n",
    "    model:         Model = Model.ResNet18\n",
    "    dataset:     Dataset = Dataset.CIFAR10\n",
    "\n",
    "    # nsamples:        int = 1000\n",
    "    valnsamples_:     int = 300\n",
    "    valenabled_:     bool = False\n",
    "    nclasses:        int = 3\n",
    "    hratio:        float = None\n",
    "\n",
    "    optimizer: Optimizer = None\n",
    "    batchsize:       int = 75\n",
    "    lr:            float = 1e-2\n",
    "    attack:       Attack = None\n",
    "\n",
    "    trueweights:    bool = None\n",
    "\n",
    "    mdbatchsize_:    int = None\n",
    "    mdniters_:       int = None\n",
    "    mdlr_:           int = None\n",
    "    mdfull_:        bool = None\n",
    "\n",
    "args_grid = dict(\n",
    "    # hratio=[0.99, 0.9, 0.7, 0.5],\n",
    "    hratio=[0.5],\n",
    "    # hratio=[0.99],\n",
    "    mdlr_=[0.1],\n",
    "    seed=[0],\n",
    "    # seed=[0,1,2,3,4,5,6],\n",
    "    valenabled_=[False],\n",
    "    # valenabled_=[True, False]\n",
    ")\n",
    "\n",
    "os.environ['MLFLOW_RUN_TAGS'] = str(dict(about=f'base'))\n",
    "\n",
    "for d in product_dict(**args_grid):\n",
    "    \n",
    "    os.environ['MLFLOW_RUN_NAME'] = 'SGD Full'\n",
    "    config = BaseConfig(**d)\n",
    "    config.mdlr_ = None\n",
    "    config.optimizer = Optimizer.SGD\n",
    "    config.trueweights = False\n",
    "    %time train(config)\n",
    "    \n",
    "    # os.environ['MLFLOW_RUN_NAME'] = 'SGD Ideal'\n",
    "    # config = BaseConfig(**d)\n",
    "    # config.mdlr_ = None\n",
    "    # config.hratio = None\n",
    "    # config.optimizer = Optimizer.SGD\n",
    "    # config.trueweights = True\n",
    "    # %time train(config)\n",
    "\n",
    "    # os.environ['MLFLOW_RUN_NAME'] = 'MeritFed MD'\n",
    "    # config = BaseConfig(**d)\n",
    "    # config.optimizer = Optimizer.MeritFed\n",
    "    # config.mdfull_ = True\n",
    "    # config.mdniters_ = 1\n",
    "    # %time train(config)\n",
    "\n",
    "    # os.environ['MLFLOW_RUN_NAME'] = 'MeritFed SMD'\n",
    "    # config = BaseConfig(**d)\n",
    "    # config.optimizer = Optimizer.MeritFed\n",
    "    # config.mdfull_ = False\n",
    "    # config.mdbatchsize_ = 90\n",
    "    # config.mdniters_ = 10\n",
    "    # %time train(config)\n",
    "    \n",
    "    # config = BaseConfig(**d)\n",
    "    # config.optimizer = Optimizer.TAWT\n",
    "    # os.environ['MLFLOW_RUN_NAME'] = str(config.optimizer)\n",
    "    # config.mdlr_ = None\n",
    "    # %time train(config)\n",
    "\n",
    "    # config = BaseConfig(**d)\n",
    "    # config.optimizer = Optimizer.FedAdp\n",
    "    # os.environ['MLFLOW_RUN_NAME'] = str(config.optimizer)\n",
    "    # config.mdlr_ = None\n",
    "    # %time train(config)"
   ]
  },
  {
   "cell_type": "markdown",
   "id": "576231ee",
   "metadata": {},
   "source": [
    "# fedfomo"
   ]
  },
  {
   "cell_type": "code",
   "execution_count": null,
   "id": "55095986-4733-4a19-91ac-9486ecd6cf2c",
   "metadata": {
    "metadata": {}
   },
   "outputs": [],
   "source": [
    "@define\n",
    "class BaseConfig():\n",
    "    nepochs:         int = 40\n",
    "    npeers:          int = 20 # or 40\n",
    "    seed:            int = 0\n",
    "\n",
    "    loss:           Loss = Loss.CrossEntropyLoss\n",
    "    model:         Model = Model.ResNet18\n",
    "    dataset:     Dataset = Dataset.CIFAR10\n",
    "\n",
    "    # nsamples:        int = 1000\n",
    "    valnsamples_:     int = 300\n",
    "    valenabled_:     bool = False\n",
    "    nclasses:        int = 3\n",
    "    hratio:        float = None\n",
    "\n",
    "    optimizer: Optimizer = None\n",
    "    batchsize:       int = 75\n",
    "    lr:            float = 1e-2\n",
    "    attack:       Attack = None\n",
    "\n",
    "    trueweights:    bool = None\n",
    "\n",
    "    mdbatchsize_:    int = None\n",
    "    mdniters_:       int = None\n",
    "    mdlr_:           int = None\n",
    "    mdfull_:        bool = None\n",
    "\n",
    "args_grid = dict(\n",
    "    # hratio=[0.99, 0.9, 0.7, 0.5],\n",
    "    mdlr_=[0.1],\n",
    "    seed=[0,1,2,3,4,5,6],\n",
    "    valenabled_=[False],\n",
    ")\n",
    "\n",
    "os.environ['MLFLOW_RUN_TAGS'] = str(dict(about=f'fedfomo'))\n",
    "\n",
    "for d in product_dict(**args_grid):\n",
    "\n",
    "    config = BaseConfig(**d)\n",
    "    config.optimizer = Optimizer.FedFomo\n",
    "    os.environ['MLFLOW_RUN_NAME'] = str(config.optimizer)\n",
    "    config.mdlr_ = None\n",
    "    config.mdbatchsize_ = 75\n",
    "    %time train(config)"
   ]
  },
  {
   "cell_type": "code",
   "execution_count": null,
   "id": "66ddfe43",
   "metadata": {},
   "outputs": [],
   "source": []
  }
 ],
 "metadata": {
  "kernelspec": {
   "display_name": "Python 3 (ipykernel)",
   "language": "python",
   "name": "python3"
  },
  "language_info": {
   "codemirror_mode": {
    "name": "ipython",
    "version": 3
   },
   "file_extension": ".py",
   "mimetype": "text/x-python",
   "name": "python",
   "nbconvert_exporter": "python",
   "pygments_lexer": "ipython3",
   "version": "3.11.5"
  },
  "toc-autonumbering": true,
  "toc-showcode": true,
  "vscode": {
   "interpreter": {
    "hash": "18f7a5ae47153a9b42c5447ccb1bbe68959e117ab7750209e163c7c253c9e013"
   }
  },
  "widgets": {
   "application/vnd.jupyter.widget-state+json": {
    "state": {},
    "version_major": 2,
    "version_minor": 0
   }
  }
 },
 "nbformat": 4,
 "nbformat_minor": 5
}
