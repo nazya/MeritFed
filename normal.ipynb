{
 "cells": [
  {
   "cell_type": "code",
   "execution_count": null,
   "id": "3ea397aa",
   "metadata": {
    "metadata": {},
    "tags": []
   },
   "outputs": [],
   "source": [
    "import os\n",
    "import itertools\n",
    "from attrs import define\n",
    "# from code.train import train\n",
    "# from codes.train_dist import train\n",
    "from codes.train import train\n",
    "from codes.optimizers.base import Optimizer\n",
    "# from code.problems import Problem\n",
    "from codes import Loss\n",
    "from codes.datasets import Dataset\n",
    "from codes.models import Model\n",
    "from codes.attacks import Attack\n",
    "\n",
    "# %matplotlib widget\n",
    "%load_ext autoreload\n",
    "%autoreload 2"
   ]
  },
  {
   "cell_type": "code",
   "execution_count": null,
   "id": "e9b5d8cd-078e-4292-97c9-0c7a02c57fbd",
   "metadata": {
    "metadata": {},
    "tags": []
   },
   "outputs": [],
   "source": [
    "def zip_dict(**kwargs):\n",
    "    keys = kwargs.keys()\n",
    "    for instance in zip(*kwargs.values()):\n",
    "        yield dict(zip(keys, instance))\n",
    "\n",
    "\n",
    "def product_dict(**kwargs):\n",
    "    keys = kwargs.keys()\n",
    "    for instance in itertools.product(*kwargs.values()):\n",
    "        yield dict(zip(keys, instance))"
   ]
  },
  {
   "cell_type": "code",
   "execution_count": null,
   "id": "fbb69728-dca1-4d11-a498-69874930542c",
   "metadata": {
    "metadata": {},
    "tags": []
   },
   "outputs": [],
   "source": [
    "os.environ[\"MKL_THREADING_LAYER\"] = \"AMD\"\n",
    "os.environ[\"CUDA_DEVICE_ORDER\"] = \"PCI_BUS_ID\"\n",
    "os.environ[\"TORCH_DEVICE\"] = \"cpu\""
   ]
  },
  {
   "cell_type": "code",
   "execution_count": null,
   "id": "d8d681b5-96b4-41e2-86af-563b88775df7",
   "metadata": {
    "metadata": {},
    "tags": []
   },
   "outputs": [],
   "source": [
    "os.environ['MLFLOW_VERBOSE'] = 'True'\n",
    "os.environ['MLFLOW_CHECK_EXIST'] = 'False'\n",
    "# os.environ['MLFLOW_CHECK_EXIST'] = 'True'\n",
    "os.environ['MLFLOW_EXPERIMENT_NAME'] = os.path.basename(os.getcwd())"
   ]
  },
  {
   "cell_type": "code",
   "execution_count": null,
   "id": "60e3702c-16fc-4ec4-8b4f-c5568d68830a",
   "metadata": {
    "metadata": {},
    "tags": []
   },
   "outputs": [],
   "source": [
    "@define\n",
    "class BaseConfig():\n",
    "    nepochs:         int = 5\n",
    "    npeers:          int = 150\n",
    "    seed:            int = 0\n",
    "\n",
    "    loss:           Loss = Loss.MSELoss\n",
    "    model:         Model = Model.Mean\n",
    "    dataset:     Dataset = Dataset.Normal\n",
    "\n",
    "    # nsamples:        int = 1000\n",
    "    valenabled_:    bool = None\n",
    "    valnsamples_:    int = None\n",
    "    nclasses:        int = None\n",
    "    hratio:        float = None\n",
    "\n",
    "    optimizer: Optimizer = None\n",
    "    batchsize:       int = 100\n",
    "    lr:            float = 1e-2\n",
    "    attack:       Attack = None\n",
    "\n",
    "    trueweights:    bool = None\n",
    "\n",
    "    mdbatchsize_:    int = None\n",
    "    mdniters_:       int = None\n",
    "    mdlr_:           int = None\n",
    "    mdfull_:        bool = None"
   ]
  },
  {
   "cell_type": "code",
   "execution_count": null,
   "id": "801decdd-12e6-4d00-841d-c061ac320fbc",
   "metadata": {},
   "outputs": [],
   "source": [
    "os.environ['MLFLOW_RUN_TAGS'] = str(dict(about=f'final'))\n",
    "\n",
    "args_grid = dict(\n",
    "    hratio=[0.001, 0.01, 0.1],\n",
    "    mdlr_=[3.5, 4.5, 12.5],\n",
    ")\n",
    "\n",
    "for d in zip_dict(**args_grid):\n",
    "\n",
    "    os.environ['MLFLOW_RUN_NAME'] = 'SGD Full'\n",
    "    config = BaseConfig(**d)\n",
    "    config.mdlr_ = None\n",
    "    config.optimizer = Optimizer.SGD\n",
    "    config.trueweights = False\n",
    "    %time train(config)\n",
    "\n",
    "    os.environ['MLFLOW_RUN_NAME'] = 'SGD Ideal'\n",
    "    config = BaseConfig(**d)\n",
    "    config.mdlr_ = None\n",
    "    config.hratio = None\n",
    "    config.optimizer = Optimizer.SGD\n",
    "    config.trueweights = True\n",
    "    %time train(config)\n",
    "\n",
    "    os.environ['MLFLOW_RUN_NAME'] = 'MeritFed MD'\n",
    "    config = BaseConfig(**d)\n",
    "    config.optimizer = Optimizer.MeritFed\n",
    "    config.mdfull_ = True\n",
    "    config.mdniters_ = 10\n",
    "    config.mdbatchsize_ = 100\n",
    "    config.valenabled_ = True\n",
    "    config.valnsamples_ = 1000\n",
    "    %time train(config)\n",
    "\n",
    "    os.environ['MLFLOW_RUN_NAME'] = 'MeritFed SMD'\n",
    "    config = BaseConfig(**d)\n",
    "    config.optimizer = Optimizer.MeritFed\n",
    "    config.mdfull_ = False\n",
    "    config.mdniters_ = 10\n",
    "    config.mdbatchsize_ = 100\n",
    "    config.valenabled_ = True\n",
    "    config.valnsamples_ = 1000\n",
    "    %time train(config)\n",
    "\n",
    "    config = BaseConfig(**d)\n",
    "    config.optimizer = Optimizer.TAWT\n",
    "    os.environ['MLFLOW_RUN_NAME'] = str(config.optimizer)\n",
    "    config.mdlr_ = None\n",
    "    %time train(config)\n",
    "\n",
    "    config = BaseConfig(**d)\n",
    "    config.optimizer = Optimizer.FedAdp\n",
    "    os.environ['MLFLOW_RUN_NAME'] = str(config.optimizer)\n",
    "    config.mdlr_ = None\n",
    "    %time train(config)"
   ]
  },
  {
   "cell_type": "code",
   "execution_count": null,
   "id": "a708ec4c",
   "metadata": {},
   "outputs": [],
   "source": [
    "os.environ['MLFLOW_RUN_TAGS'] = str(dict(about=f'FedAvg'))\n",
    "args_grid = dict(\n",
    "    hratio=[0.001, 0.01, 0.1],\n",
    ")\n",
    "\n",
    "for d in zip_dict(**args_grid):\n",
    "\n",
    "    os.environ['MLFLOW_RUN_NAME'] = 'FedAvg K=10'  # one have to adjust K manually in single_thread.py\n",
    "    config = BaseConfig(**d)\n",
    "    config.optimizer = Optimizer.FedAvg\n",
    "    %time train(config)\n",
    "    # break"
   ]
  },
  {
   "cell_type": "code",
   "execution_count": null,
   "id": "a6d96da4",
   "metadata": {
    "metadata": {}
   },
   "outputs": [],
   "source": [
    "@define\n",
    "class BaseConfig():\n",
    "    nepochs:         int = 2\n",
    "    npeers:          int = 150\n",
    "    seed:            int = 0\n",
    "\n",
    "    loss:           Loss = Loss.MSELoss\n",
    "    model:         Model = Model.Mean\n",
    "    dataset:     Dataset = Dataset.Normal\n",
    "\n",
    "    # nsamples:        int = 1000\n",
    "    valenabled_:    bool = None\n",
    "    valnsamples_:    int = None\n",
    "    nclasses:        int = None\n",
    "    hratio:        float = None\n",
    "\n",
    "    optimizer: Optimizer = None\n",
    "    batchsize:       int = 100\n",
    "    lr:            float = 1e-2\n",
    "    attack:       Attack = Attack.IPM # one have to change attack type here\n",
    "\n",
    "    trueweights:    bool = None\n",
    "\n",
    "    mdbatchsize_:    int = None\n",
    "    mdniters_:       int = None\n",
    "    mdlr_:           int = None\n",
    "    mdfull_:        bool = None\n",
    "\n"
   ]
  },
  {
   "cell_type": "code",
   "execution_count": null,
   "id": "48b88d89",
   "metadata": {
    "metadata": {}
   },
   "outputs": [],
   "source": [
    "os.environ['MLFLOW_RUN_TAGS'] = str(dict(about=f'byz'))\n",
    "\n",
    "args_grid = dict(\n",
    "    hratio=[0.001, 0.01, 0.1],\n",
    "    mdlr_=[3.5, 4.5, 12.5],\n",
    ")\n",
    "\n",
    "for d in zip_dict(**args_grid):\n",
    "\n",
    "    os.environ['MLFLOW_RUN_NAME'] = 'SGD Full'\n",
    "    config = BaseConfig(**d)\n",
    "    config.mdlr_ = None\n",
    "    config.optimizer = Optimizer.SGD\n",
    "    config.trueweights = False\n",
    "    %time train(config)\n",
    "\n",
    "    os.environ['MLFLOW_RUN_NAME'] = 'SGD Ideal'\n",
    "    config = BaseConfig(**d)\n",
    "    config.mdlr_ = None\n",
    "    config.hratio = None\n",
    "    config.optimizer = Optimizer.SGD\n",
    "    config.trueweights = True\n",
    "    %time train(config)\n",
    "\n",
    "    os.environ['MLFLOW_RUN_NAME'] = 'MeritFed MD'\n",
    "    config = BaseConfig(**d)\n",
    "    config.optimizer = Optimizer.MeritFed\n",
    "    config.mdfull_ = True\n",
    "    config.mdniters_ = 10\n",
    "    config.mdbatchsize_ = 100\n",
    "    config.valenabled_ = True\n",
    "    config.valnsamples_ = 1000\n",
    "    %time train(config)\n",
    "\n",
    "    os.environ['MLFLOW_RUN_NAME'] = 'MeritFed SMD'\n",
    "    config = BaseConfig(**d)\n",
    "    config.optimizer = Optimizer.MeritFed\n",
    "    config.mdfull_ = False\n",
    "    config.mdniters_ = 10\n",
    "    config.mdlr_ = 10\n",
    "    config.mdbatchsize_ = 100\n",
    "    config.valenabled_ = True\n",
    "    config.valnsamples_ = 1000\n",
    "    %time train(config)\n",
    "\n",
    "    config = BaseConfig(**d)\n",
    "    config.optimizer = Optimizer.TAWT\n",
    "    os.environ['MLFLOW_RUN_NAME'] = str(config.optimizer)\n",
    "    config.mdlr_ = None\n",
    "    %time train(config)\n",
    "\n",
    "    config = BaseConfig(**d)\n",
    "    config.optimizer = Optimizer.FedAdp\n",
    "    os.environ['MLFLOW_RUN_NAME'] = str(config.optimizer)\n",
    "    config.mdlr_ = None\n",
    "    %time train(config)"
   ]
  },
  {
   "cell_type": "markdown",
   "id": "5f21f20f-7416-464d-a2f9-31c6b9cf480f",
   "metadata": {},
   "source": [
    "#### "
   ]
  }
 ],
 "metadata": {
  "kernelspec": {
   "display_name": "Python 3 (ipykernel)",
   "language": "python",
   "name": "python3"
  },
  "language_info": {
   "codemirror_mode": {
    "name": "ipython",
    "version": 3
   },
   "file_extension": ".py",
   "mimetype": "text/x-python",
   "name": "python",
   "nbconvert_exporter": "python",
   "pygments_lexer": "ipython3",
   "version": "3.11.5"
  },
  "toc-autonumbering": true,
  "toc-showcode": true,
  "vscode": {
   "interpreter": {
    "hash": "18f7a5ae47153a9b42c5447ccb1bbe68959e117ab7750209e163c7c253c9e013"
   }
  },
  "widgets": {
   "application/vnd.jupyter.widget-state+json": {
    "state": {},
    "version_major": 2,
    "version_minor": 0
   }
  }
 },
 "nbformat": 4,
 "nbformat_minor": 5
}
