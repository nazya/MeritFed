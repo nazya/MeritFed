{
 "cells": [
  {
   "cell_type": "code",
   "execution_count": 1,
   "id": "3ea397aa",
   "metadata": {
    "tags": []
   },
   "outputs": [
    {
     "name": "stderr",
     "output_type": "stream",
     "text": [
      "/home/nazya/miniconda3/lib/python3.11/site-packages/tqdm/auto.py:21: TqdmWarning: IProgress not found. Please update jupyter and ipywidgets. See https://ipywidgets.readthedocs.io/en/stable/user_install.html\n",
      "  from .autonotebook import tqdm as notebook_tqdm\n"
     ]
    }
   ],
   "source": [
    "import os\n",
    "import itertools\n",
    "from attrs import define\n",
    "# from code.train import train\n",
    "# from codes.train_dist import train\n",
    "from codes.train import train\n",
    "from codes.optimizers.base import Optimizer\n",
    "# from code.problems import Problem\n",
    "from codes import Loss\n",
    "from codes.datasets import Dataset\n",
    "from codes.models import Model\n",
    "\n",
    "# %matplotlib widget\n",
    "%load_ext autoreload\n",
    "%autoreload 2"
   ]
  },
  {
   "cell_type": "code",
   "execution_count": 2,
   "id": "e9b5d8cd-078e-4292-97c9-0c7a02c57fbd",
   "metadata": {
    "tags": []
   },
   "outputs": [],
   "source": [
    "def zip_dict(**kwargs):\n",
    "    keys = kwargs.keys()\n",
    "    for instance in zip(*kwargs.values()):\n",
    "        yield dict(zip(keys, instance))\n",
    "\n",
    "\n",
    "def product_dict(**kwargs):\n",
    "    keys = kwargs.keys()\n",
    "    for instance in itertools.product(*kwargs.values()):\n",
    "        yield dict(zip(keys, instance))"
   ]
  },
  {
   "cell_type": "code",
   "execution_count": 3,
   "id": "fbb69728-dca1-4d11-a498-69874930542c",
   "metadata": {
    "tags": []
   },
   "outputs": [],
   "source": [
    "os.environ[\"MKL_THREADING_LAYER\"] = \"AMD\"\n",
    "os.environ[\"CUDA_DEVICE_ORDER\"] = \"PCI_BUS_ID\"\n",
    "os.environ[\"TORCH_DEVICE\"] = \"cpu\""
   ]
  },
  {
   "cell_type": "code",
   "execution_count": 4,
   "id": "d8d681b5-96b4-41e2-86af-563b88775df7",
   "metadata": {
    "tags": []
   },
   "outputs": [],
   "source": [
    "os.environ['MLFLOW_VERBOSE'] = 'True'\n",
    "os.environ['MLFLOW_CHECK_EXIST'] = 'True'\n",
    "os.environ['MLFLOW_EXPERIMENT_NAME'] = os.path.basename(os.getcwd())"
   ]
  },
  {
   "cell_type": "code",
   "execution_count": 5,
   "id": "60e3702c-16fc-4ec4-8b4f-c5568d68830a",
   "metadata": {
    "tags": []
   },
   "outputs": [],
   "source": [
    "@define\n",
    "class BaseConfig():\n",
    "    nepochs:         int = 500\n",
    "    npeers:          int = 150\n",
    "    seed:            int = 0\n",
    "\n",
    "    loss:           Loss = Loss.MSELoss\n",
    "    model:         Model = Model.Mean\n",
    "    dataset:     Dataset = Dataset.Normal\n",
    "\n",
    "    # nsamples:        int = 1000\n",
    "    valenabled_:    bool = None\n",
    "    valnsamples_:    int = None\n",
    "    nclasses:        int = None\n",
    "    hratio:        float = None\n",
    "\n",
    "    optimizer: Optimizer = None\n",
    "    batchsize:       int = 100\n",
    "    lr:            float = 1e-2\n",
    "\n",
    "    trueweights:    bool = None\n",
    "\n",
    "    mdbatchsize_:    int = None\n",
    "    mdniters_:       int = None\n",
    "    mdlr_:           int = None\n",
    "    mdfull_:        bool = None"
   ]
  },
  {
   "cell_type": "code",
   "execution_count": 6,
   "id": "801decdd-12e6-4d00-841d-c061ac320fbc",
   "metadata": {},
   "outputs": [
    {
     "name": "stdout",
     "output_type": "stream",
     "text": [
      "Step 5000: train-loss: 1.01554 expected-loss: 0.10936\n",
      "CPU times: user 9min 5s, sys: 9.25 s, total: 9min 14s\n",
      "Wall time: 9min 6s\n",
      "Step 5000: train-loss: 1.00350 expected-loss: 0.00260\n",
      "CPU times: user 7min 22s, sys: 12.6 s, total: 7min 34s\n",
      "Wall time: 7min 26s\n",
      "Step 5000: train-loss: 1.00376 expected-loss: 0.00011\n",
      "CPU times: user 13min 37s, sys: 18.4 s, total: 13min 56s\n",
      "Wall time: 13min 47s\n",
      "Step 5000: train-loss: 1.00376 expected-loss: 0.00011\n",
      "CPU times: user 10min 59s, sys: 18.4 s, total: 11min 17s\n",
      "Wall time: 11min 9s\n",
      "Step 5000: train-loss: 1.00281 expected-loss: 0.01070\n",
      "CPU times: user 7min 46s, sys: 17.4 s, total: 8min 4s\n",
      "Wall time: 7min 55s\n",
      "Step 5000: train-loss: 1.00394 expected-loss: 0.00874\n",
      "CPU times: user 8min 11s, sys: 17.8 s, total: 8min 28s\n",
      "Wall time: 8min 18s\n",
      "Step 5000: train-loss: 1.01585 expected-loss: 0.11205\n",
      "CPU times: user 7min 20s, sys: 11.6 s, total: 7min 32s\n",
      "Wall time: 7min 24s\n",
      "CPU times: user 1.32 s, sys: 479 ms, total: 1.8 s\n",
      "Wall time: 1.8 s\n",
      "Step 5000: train-loss: 1.00380 expected-loss: 0.00008\n",
      "CPU times: user 13min 39s, sys: 20.5 s, total: 13min 59s\n",
      "Wall time: 13min 48s\n",
      "Step 5000: train-loss: 1.00380 expected-loss: 0.00008\n",
      "CPU times: user 11min 12s, sys: 19.7 s, total: 11min 32s\n",
      "Wall time: 11min 23s\n",
      "Step 5000: train-loss: 1.00281 expected-loss: 0.01070\n",
      "CPU times: user 8min 27s, sys: 29.2 s, total: 8min 56s\n",
      "Wall time: 8min 42s\n",
      "Step 5000: train-loss: 1.00399 expected-loss: 0.00901\n",
      "CPU times: user 8min 45s, sys: 24.6 s, total: 9min 9s\n",
      "Wall time: 8min 58s\n",
      "Step 5000: train-loss: 1.01929 expected-loss: 0.14260\n",
      "CPU times: user 7min 43s, sys: 18.7 s, total: 8min 2s\n",
      "Wall time: 7min 45s\n",
      "CPU times: user 1.41 s, sys: 511 ms, total: 1.92 s\n",
      "Wall time: 1.95 s\n",
      "Step 5000: train-loss: 1.00426 expected-loss: 0.00192\n",
      "CPU times: user 13min 56s, sys: 22.7 s, total: 14min 18s\n",
      "Wall time: 14min 17s\n",
      "Step 5000: train-loss: 1.00426 expected-loss: 0.00192\n",
      "CPU times: user 10min 59s, sys: 20 s, total: 11min 19s\n",
      "Wall time: 11min 9s\n",
      "Step 5000: train-loss: 1.00281 expected-loss: 0.01070\n",
      "CPU times: user 7min 48s, sys: 23.7 s, total: 8min 12s\n",
      "Wall time: 7min 54s\n",
      "Step 5000: train-loss: 1.00474 expected-loss: 0.01395\n",
      "CPU times: user 8min 26s, sys: 21.7 s, total: 8min 48s\n",
      "Wall time: 8min 36s\n"
     ]
    }
   ],
   "source": [
    "os.environ['MLFLOW_RUN_TAGS'] = str(dict(about=f'final'))\n",
    "# os.environ['MLFLOW_RUN_TAGS'] = str(dict(about=f'dev'))\n",
    "\n",
    "args_grid = dict(\n",
    "    hratio=[0.001, 0.01, 0.1],\n",
    "    mdlr_=[3.5, 4.5, 12.5],\n",
    ")\n",
    "\n",
    "for d in zip_dict(**args_grid):\n",
    "\n",
    "    os.environ['MLFLOW_RUN_NAME'] = 'SGD Full'\n",
    "    config = BaseConfig(**d)\n",
    "    config.mdlr_ = None\n",
    "    config.optimizer = Optimizer.SGD\n",
    "    config.trueweights = False\n",
    "    %time train(config)\n",
    "\n",
    "    os.environ['MLFLOW_RUN_NAME'] = 'SGD Ideal'\n",
    "    config = BaseConfig(**d)\n",
    "    config.mdlr_ = None\n",
    "    config.hratio = None\n",
    "    config.optimizer = Optimizer.SGD\n",
    "    config.trueweights = True\n",
    "    %time train(config)\n",
    "\n",
    "    os.environ['MLFLOW_RUN_NAME'] = 'MeritFed MD'\n",
    "    config = BaseConfig(**d)\n",
    "    config.optimizer = Optimizer.MeritFed\n",
    "    config.mdfull_ = True\n",
    "    config.mdniters_ = 10\n",
    "    config.mdbatchsize_ = 100\n",
    "    config.valenabled_ = True\n",
    "    config.valnsamples_ = 1000\n",
    "    %time train(config)\n",
    "\n",
    "    os.environ['MLFLOW_RUN_NAME'] = 'MeritFed SMD'\n",
    "    config = BaseConfig(**d)\n",
    "    config.optimizer = Optimizer.MeritFed\n",
    "    config.mdfull_ = False\n",
    "    config.mdniters_ = 10\n",
    "    config.mdbatchsize_ = 100\n",
    "    config.valenabled_ = True\n",
    "    config.valnsamples_ = 1000\n",
    "    %time train(config)\n",
    "\n",
    "    config = BaseConfig(**d)\n",
    "    config.optimizer = Optimizer.TAWT\n",
    "    os.environ['MLFLOW_RUN_NAME'] = str(config.optimizer)\n",
    "    config.mdlr_ = None\n",
    "    %time train(config)\n",
    "\n",
    "    config = BaseConfig(**d)\n",
    "    config.optimizer = Optimizer.FedAdp\n",
    "    os.environ['MLFLOW_RUN_NAME'] = str(config.optimizer)\n",
    "    config.mdlr_ = None\n",
    "    %time train(config)"
   ]
  },
  {
   "cell_type": "code",
   "execution_count": null,
   "id": "6d917e0c-8abf-4cc2-9c30-b1b90da291a1",
   "metadata": {},
   "outputs": [],
   "source": []
  }
 ],
 "metadata": {
  "kernelspec": {
   "display_name": "Python 3 (ipykernel)",
   "language": "python",
   "name": "python3"
  },
  "language_info": {
   "codemirror_mode": {
    "name": "ipython",
    "version": 3
   },
   "file_extension": ".py",
   "mimetype": "text/x-python",
   "name": "python",
   "nbconvert_exporter": "python",
   "pygments_lexer": "ipython3",
   "version": "3.11.5"
  },
  "toc-autonumbering": true,
  "toc-showcode": true,
  "vscode": {
   "interpreter": {
    "hash": "18f7a5ae47153a9b42c5447ccb1bbe68959e117ab7750209e163c7c253c9e013"
   }
  },
  "widgets": {
   "application/vnd.jupyter.widget-state+json": {
    "state": {},
    "version_major": 2,
    "version_minor": 0
   }
  }
 },
 "nbformat": 4,
 "nbformat_minor": 5
}
