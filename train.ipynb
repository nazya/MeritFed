{
 "cells": [
  {
   "cell_type": "code",
   "execution_count": 11,
   "id": "3ea397aa",
   "metadata": {
    "tags": []
   },
   "outputs": [
    {
     "name": "stdout",
     "output_type": "stream",
     "text": [
      "The autoreload extension is already loaded. To reload it, use:\n",
      "  %reload_ext autoreload\n"
     ]
    }
   ],
   "source": [
    "import os\n",
    "import math\n",
    "import torch\n",
    "from dataclasses import dataclass, field\n",
    "\n",
    "from code.train import train\n",
    "from code.optimizers import Optimizer\n",
    "# from code.problems import Problem\n",
    "from code.problem import Loss\n",
    "from code.datasets import Dataset\n",
    "from code.models import Model\n",
    "\n",
    "# %matplotlib widget\n",
    "%load_ext autoreload\n",
    "%autoreload 1"
   ]
  },
  {
   "cell_type": "code",
   "execution_count": 12,
   "id": "e9b5d8cd-078e-4292-97c9-0c7a02c57fbd",
   "metadata": {
    "tags": []
   },
   "outputs": [],
   "source": [
    "import itertools\n",
    "def product_dict(**kwargs):\n",
    "    keys = kwargs.keys()\n",
    "    for instance in itertools.product(*kwargs.values()):\n",
    "        yield dict(zip(keys, instance))"
   ]
  },
  {
   "cell_type": "code",
   "execution_count": 13,
   "id": "fbb69728-dca1-4d11-a498-69874930542c",
   "metadata": {
    "tags": []
   },
   "outputs": [],
   "source": [
    "os.environ[\"OMP_NUM_THREADS\"] = \"1\"\n",
    "os.environ[\"MKL_NUM_THREADS\"] = \"1\""
   ]
  },
  {
   "cell_type": "code",
   "execution_count": 14,
   "id": "d8d681b5-96b4-41e2-86af-563b88775df7",
   "metadata": {
    "tags": []
   },
   "outputs": [],
   "source": [
    "os.environ['MLFLOW_VERBOSE'] = 'True'\n",
    "os.environ['MLFLOW_EXPERIMENT_NAME'] = os.path.basename(os.getcwd())"
   ]
  },
  {
   "cell_type": "markdown",
   "id": "792c2f3e-c54b-4945-94cb-b860a8d6bcf6",
   "metadata": {
    "tags": []
   },
   "source": [
    "# Mean Estimation"
   ]
  },
  {
   "cell_type": "code",
   "execution_count": 15,
   "id": "5fe1472e-477c-42e3-b90c-de97e9c34bf5",
   "metadata": {
    "tags": []
   },
   "outputs": [],
   "source": [
    "@dataclass\n",
    "class BaseConfig():\n",
    "    n_iters: int = 50\n",
    "    n_peers: int = 15\n",
    "    seed: int = 0\n",
    "\n",
    "    model: Model = field(default_factory=lambda: Model.Mean)\n",
    "    loss: Loss = field(default_factory=lambda: Loss.MSE)\n",
    "    dataset: Dataset = field(default_factory=lambda: Dataset.Normal)\n",
    "\n",
    "    n_samples: int = 1000\n",
    "    mu_normal: float = None\n",
    "\n",
    "    optimizer: Optimizer = field(default_factory=lambda: Optimizer.SGD)\n",
    "    batch_size: int = 100\n",
    "    lr: float = 1e-2\n",
    "\n",
    "    true_weights: bool = None\n",
    "\n",
    "    md_n_iters_: int = None\n",
    "    md_full_: bool = None\n",
    "    md_lr_: int = None"
   ]
  },
  {
   "cell_type": "code",
   "execution_count": 16,
   "id": "4b41d5f2-7960-41e0-ab34-9e29facf5a56",
   "metadata": {
    "tags": []
   },
   "outputs": [],
   "source": [
    "parameters = {\n",
    "    'mu_normal': [0.001],\n",
    "    # 'mu_normal': [0.001, 0.01, 0.1],\n",
    "    # 'seed': [0],\n",
    "    }"
   ]
  },
  {
   "cell_type": "code",
   "execution_count": null,
   "id": "de8e3bde-e2e1-46a0-ba16-5ec1d032fb20",
   "metadata": {
    "tags": []
   },
   "outputs": [],
   "source": [
    "for cfg in product_dict(**parameters):\n",
    "\n",
    "    config = BaseConfig(**cfg)    \n",
    "    config.optimizer = Optimizer.SGD\n",
    "    config.true_weights = True\n",
    "    os.environ['MLFLOW_RUN_NAME'] = 'SGD Ideal'\n",
    "    %time train(config)\n",
    "\n",
    "\n",
    "#     config = Config(mu_normal=mu)\n",
    "#     config.optimizer = Optimizer.MeritFed\n",
    "#     config.md_full_ = True\n",
    "#     config.md_n_iters_ = 20\n",
    "#     config.md_lr_ = 0.05\n",
    "#     os.environ['MLFLOW_RUN_NAME'] = 'MeritFed MD'\n",
    "#     %time train(config)\n",
    "\n",
    "\n",
    "#     config = Config(mu_normal=mu)\n",
    "#     config.optimizer = Optimizer.SGD\n",
    "#     config.true_weights = False\n",
    "#     os.environ['MLFLOW_RUN_NAME'] = 'SGD Full'\n",
    "#     %time train(config)\n",
    "\n",
    "\n",
    "#     config = Config(mu_normal=mu)\n",
    "#     config.optimizer = Optimizer.MeritFed\n",
    "#     config.md_full_ = False\n",
    "#     config.md_n_iters_ = 20\n",
    "#     config.md_lr_ = 0.5\n",
    "#     os.environ['MLFLOW_RUN_NAME'] = 'MeritFed SMD'\n",
    "#     %time train(config)"
   ]
  },
  {
   "cell_type": "markdown",
   "id": "6563a0e6-5394-4956-ac72-fef9058294cf",
   "metadata": {},
   "source": [
    "# 4 classes MNIST"
   ]
  },
  {
   "cell_type": "code",
   "execution_count": 6,
   "id": "cf37d84f-9e8c-4022-85d5-3727b399a211",
   "metadata": {
    "tags": []
   },
   "outputs": [],
   "source": [
    "@dataclass\n",
    "class BaseConfig():\n",
    "    n_iters: int = 5\n",
    "    n_peers: int = 20\n",
    "    seed: int = 0\n",
    "\n",
    "    model: Model = field(default_factory=lambda: Model.Net)\n",
    "    loss: Loss = field(default_factory=lambda: Loss.CrossEntropy)\n",
    "    dataset: Dataset = field(default_factory=lambda: Dataset.MNIST)\n",
    "\n",
    "    n_samples: int = 200\n",
    "    h_ratio: float = None\n",
    "\n",
    "    optimizer: Optimizer = field(default_factory=lambda: Optimizer.SGD)\n",
    "    batch_size: int = 20\n",
    "    lr: float = 1e-2\n",
    "\n",
    "    true_weights: bool = None\n",
    "\n",
    "    md_n_iters_: int = None\n",
    "    md_full_: bool = None\n",
    "    md_lr_: int = None"
   ]
  },
  {
   "cell_type": "code",
   "execution_count": 7,
   "id": "213358de-0f5d-4c0a-ad27-2dd9ee98f564",
   "metadata": {
    "tags": []
   },
   "outputs": [],
   "source": [
    "parameters = {\n",
    "    'h_ratio': [0.99],\n",
    "    # 'h_ratio': [0.99, 0.9, 0.7],\n",
    "    # 'seed': [0],\n",
    "    }"
   ]
  },
  {
   "cell_type": "code",
   "execution_count": 10,
   "id": "3d9dc90b-20b3-4dfd-a614-e8fa221dd048",
   "metadata": {
    "tags": []
   },
   "outputs": [
    {
     "name": "stdout",
     "output_type": "stream",
     "text": [
      "calc3 18\n",
      "actual3 18\n",
      "calc1 200\n",
      "actual1 200\n",
      "test len  200\n",
      "rank=0 destroy complete    \n",
      "rank=1 destroy complete\n",
      "rank=2 destroy complete\n",
      "rank=3 destroy complete\n",
      "rank=4 destroy complete\n",
      "rank=5 destroy complete\n",
      "rank=6 destroy complete\n",
      "rank=7 destroy complete\n",
      "rank=8 destroy complete\n",
      "rank=9 destroy complete\n",
      "rank=10 destroy complete\n",
      "rank=11 destroy complete\n",
      "rank=12 destroy complete\n",
      "rank=13 destroy complete\n",
      "rank=14 destroy complete\n",
      "rank=15 destroy complete\n",
      "rank=16 destroy complete\n",
      "rank=17 destroy complete\n",
      "rank=18 destroy complete\n",
      "rank=19 destroy complete\n",
      "CPU times: user 24.5 ms, sys: 26.1 ms, total: 50.6 ms\n",
      "Wall time: 36.8 s\n"
     ]
    }
   ],
   "source": [
    "for cfg in product_dict(**parameters):\n",
    "\n",
    "    config = BaseConfig(**cfg)\n",
    "    config.optimizer = Optimizer.SGD\n",
    "    config.true_weights = True\n",
    "    os.environ['MLFLOW_RUN_NAME'] = 'SGD Ideal'\n",
    "    %time train(config)\n",
    "\n",
    "\n",
    "#     config = Config(mu_normal=mu)\n",
    "#     config.optimizer = Optimizer.MeritFed\n",
    "#     config.md_full_ = True\n",
    "#     config.md_n_iters_ = 20\n",
    "#     config.md_lr_ = 0.05\n",
    "#     os.environ['MLFLOW_RUN_NAME'] = 'MeritFed MD'\n",
    "#     %time train(config)\n",
    "\n",
    "\n",
    "#     config = Config(mu_normal=mu)\n",
    "#     config.optimizer = Optimizer.SGD\n",
    "#     config.true_weights = False\n",
    "#     os.environ['MLFLOW_RUN_NAME'] = 'SGD Full'\n",
    "#     %time train(config)\n",
    "\n",
    "\n",
    "#     config = Config(mu_normal=mu)\n",
    "#     config.optimizer = Optimizer.MeritFed\n",
    "#     config.md_full_ = False\n",
    "#     config.md_n_iters_ = 20\n",
    "#     config.md_lr_ = 0.5\n",
    "#     os.environ['MLFLOW_RUN_NAME'] = 'MeritFed SMD'\n",
    "#     %time train(config)"
   ]
  },
  {
   "cell_type": "code",
   "execution_count": null,
   "id": "7add773e-b43c-4447-ae4d-17dc4578ca44",
   "metadata": {},
   "outputs": [],
   "source": []
  }
 ],
 "metadata": {
  "kernelspec": {
   "display_name": "Python 3 (ipykernel)",
   "language": "python",
   "name": "python3"
  },
  "language_info": {
   "codemirror_mode": {
    "name": "ipython",
    "version": 3
   },
   "file_extension": ".py",
   "mimetype": "text/x-python",
   "name": "python",
   "nbconvert_exporter": "python",
   "pygments_lexer": "ipython3",
   "version": "3.11.5"
  },
  "toc-autonumbering": true,
  "toc-showcode": true,
  "vscode": {
   "interpreter": {
    "hash": "18f7a5ae47153a9b42c5447ccb1bbe68959e117ab7750209e163c7c253c9e013"
   }
  },
  "widgets": {
   "application/vnd.jupyter.widget-state+json": {
    "state": {},
    "version_major": 2,
    "version_minor": 0
   }
  }
 },
 "nbformat": 4,
 "nbformat_minor": 5
}
