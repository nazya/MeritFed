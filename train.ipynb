{
 "cells": [
  {
   "cell_type": "code",
   "execution_count": 1,
   "id": "3ea397aa",
   "metadata": {},
   "outputs": [],
   "source": [
    "import os\n",
    "import math\n",
    "import torch\n",
    "from dataclasses import dataclass, field\n",
    "\n",
    "from code.train import train\n",
    "from code.optimizers import Optimizer\n",
    "from code.problems import Problem\n",
    "\n",
    "%matplotlib widget\n",
    "%load_ext autoreload\n",
    "%autoreload 1"
   ]
  },
  {
   "cell_type": "code",
   "execution_count": 2,
   "id": "d8d681b5-96b4-41e2-86af-563b88775df7",
   "metadata": {},
   "outputs": [],
   "source": [
    "os.environ['MLFLOW_VERBOSE'] = 'True'\n",
    "os.environ['MLFLOW_EXPERIMENT_NAME'] = os.path.basename(os.getcwd())"
   ]
  },
  {
   "cell_type": "code",
   "execution_count": null,
   "id": "7ceb96eb-016b-489a-9960-3bb44f3cca3b",
   "metadata": {},
   "outputs": [],
   "source": [
    "n_iters=200, n_peers=11, problem=Logistic, n_samples=4500, h_ratio=0.6, batch_size=35, lr=0.01, md_n_iters=(None, 50), md_lr=(None, 0.05)"
   ]
  },
  {
   "cell_type": "code",
   "execution_count": null,
   "id": "f283add8-80f1-42d1-8876-648f9bd911da",
   "metadata": {},
   "outputs": [],
   "source": [
    "md_n_iters=(None, 50), md_lr=(None, 0.05)"
   ]
  },
  {
   "cell_type": "code",
   "execution_count": 89,
   "id": "5fe1472e-477c-42e3-b90c-de97e9c34bf5",
   "metadata": {},
   "outputs": [],
   "source": [
    "@dataclass\n",
    "class Config():\n",
    "    n_iters: int = 200\n",
    "    n_peers: int = 11\n",
    "    seed: int = 0\n",
    "\n",
    "    # game: Game = Game.Quadratic\n",
    "    problem: Problem = field(default_factory=lambda: Problem.Logistic)\n",
    "    n_samples: int = 4500\n",
    "    h_ratio: float = 0.6\n",
    "    \n",
    "    optimizer: Optimizer = field(default_factory=lambda: Optimizer.SGD)\n",
    "    batch_size: int = 35\n",
    "    lr: float = 1e-2\n",
    "    \n",
    "    true_weights: bool = None\n",
    "    \n",
    "    md_n_iters_: int = None\n",
    "    md_full_: bool = None\n",
    "    md_lr_: int = None"
   ]
  },
  {
   "cell_type": "code",
   "execution_count": 90,
   "id": "63de4534-878d-48c6-9100-a42f76c00127",
   "metadata": {},
   "outputs": [
    {
     "name": "stdout",
     "output_type": "stream",
     "text": [
      "Trying port 9920\n",
      "2\n",
      "skdjf 2962\n",
      "rank 0: n_samples 4500\n",
      "rank 1: n_samples 4500       \n",
      "rank 2: n_samples 4500\n",
      "rank 4: n_samples 4500\n",
      "rank 3: n_samples 4500\n",
      "rank 5: n_samples 4500\n",
      "rank 6: n_samples 4500\n",
      "rank 7: n_samples 4500\n",
      "rank 8: n_samples 4500\n",
      "rank 9: n_samples 4500\n",
      "2\n",
      "skdjf 2960\n",
      "rank 10: n_samples 4500\n"
     ]
    }
   ],
   "source": [
    "config = Config()\n",
    "config.optimizer = Optimizer.SGD\n",
    "config.true_weights = False\n",
    "os.environ['MLFLOW_RUN_NAME'] = config.optimizer.name\n",
    "train(config)"
   ]
  },
  {
   "cell_type": "code",
   "execution_count": null,
   "id": "85c250ae-b0a4-4580-a9b3-e84bbf049ed4",
   "metadata": {},
   "outputs": [
    {
     "name": "stdout",
     "output_type": "stream",
     "text": [
      "Trying port 23760\n",
      "2\n",
      "skdjf 2962\n",
      "rank 0: n_samples 4500\n",
      "Iterations left: 45          \r"
     ]
    }
   ],
   "source": [
    "config = Config()\n",
    "config.optimizer = Optimizer.SGD\n",
    "config.true_weights = True\n",
    "os.environ['MLFLOW_RUN_NAME'] = config.optimizer.name\n",
    "train(config)"
   ]
  },
  {
   "cell_type": "code",
   "execution_count": null,
   "id": "89e3591b-3007-45e3-9426-407740cddf50",
   "metadata": {},
   "outputs": [],
   "source": [
    "config = Config()\n",
    "config.optimizer = Optimizer.SGDMD\n",
    "config.md_full_ = False\n",
    "config.md_n_iters_ = 50\n",
    "config.md_lr_ = 0.05\n",
    "os.environ['MLFLOW_RUN_NAME'] = config.optimizer.name\n",
    "train(config)"
   ]
  },
  {
   "cell_type": "code",
   "execution_count": null,
   "id": "468a1261-19c0-4d37-9769-42c9763944fe",
   "metadata": {},
   "outputs": [],
   "source": [
    "config = Config()\n",
    "config.optimizer = Optimizer.SGDMD\n",
    "config.md_full_ = True\n",
    "config.md_n_iters_ = 50\n",
    "config.md_lr_ = 0.05\n",
    "os.environ['MLFLOW_RUN_NAME'] = config.optimizer.name\n",
    "train(config)"
   ]
  },
  {
   "cell_type": "code",
   "execution_count": null,
   "id": "dce7f407-a9cc-4485-9e6d-2f1edcf777f5",
   "metadata": {},
   "outputs": [],
   "source": []
  },
  {
   "cell_type": "code",
   "execution_count": null,
   "id": "7af99b08-703d-43f5-a39a-83d962215828",
   "metadata": {},
   "outputs": [],
   "source": []
  }
 ],
 "metadata": {
  "kernelspec": {
   "display_name": "Python 3 (ipykernel)",
   "language": "python",
   "name": "python3"
  },
  "language_info": {
   "codemirror_mode": {
    "name": "ipython",
    "version": 3
   },
   "file_extension": ".py",
   "mimetype": "text/x-python",
   "name": "python",
   "nbconvert_exporter": "python",
   "pygments_lexer": "ipython3",
   "version": "3.9.15"
  },
  "toc-autonumbering": true,
  "toc-showcode": true,
  "vscode": {
   "interpreter": {
    "hash": "18f7a5ae47153a9b42c5447ccb1bbe68959e117ab7750209e163c7c253c9e013"
   }
  },
  "widgets": {
   "application/vnd.jupyter.widget-state+json": {
    "state": {},
    "version_major": 2,
    "version_minor": 0
   }
  }
 },
 "nbformat": 4,
 "nbformat_minor": 5
}
