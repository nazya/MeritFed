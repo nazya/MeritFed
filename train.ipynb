{
 "cells": [
  {
   "cell_type": "code",
   "execution_count": 1,
   "id": "3ea397aa",
   "metadata": {},
   "outputs": [],
   "source": [
    "import os\n",
    "import math\n",
    "import torch\n",
    "from dataclasses import dataclass, field\n",
    "\n",
    "from code.train import train\n",
    "from code.optimizers import Optimizer\n",
    "from code.problems import Problem\n",
    "\n",
    "%matplotlib widget\n",
    "%load_ext autoreload\n",
    "%autoreload 1"
   ]
  },
  {
   "cell_type": "code",
   "execution_count": 2,
   "id": "d8d681b5-96b4-41e2-86af-563b88775df7",
   "metadata": {},
   "outputs": [],
   "source": [
    "os.environ['MLFLOW_VERBOSE'] = 'True'\n",
    "os.environ['MLFLOW_EXPERIMENT_NAME'] = os.path.basename(os.getcwd())"
   ]
  },
  {
   "cell_type": "code",
   "execution_count": null,
   "id": "7ceb96eb-016b-489a-9960-3bb44f3cca3b",
   "metadata": {},
   "outputs": [],
   "source": [
    "n_iters=200, n_peers=11, problem=Logistic, n_samples=4500, h_ratio=0.6, batch_size=35, lr=0.01, md_n_iters=(None, 50), md_lr=(None, 0.05)"
   ]
  },
  {
   "cell_type": "code",
   "execution_count": null,
   "id": "f283add8-80f1-42d1-8876-648f9bd911da",
   "metadata": {},
   "outputs": [],
   "source": [
    "md_n_iters=(None, 50), md_lr=(None, 0.05)"
   ]
  },
  {
   "cell_type": "code",
   "execution_count": 84,
   "id": "5fe1472e-477c-42e3-b90c-de97e9c34bf5",
   "metadata": {},
   "outputs": [],
   "source": [
    "@dataclass\n",
    "class Config():\n",
    "    n_iters: int = 200\n",
    "    n_peers: int = 11\n",
    "    seed: int = 0\n",
    "\n",
    "    # game: Game = Game.Quadratic\n",
    "    problem: Problem = field(default_factory=lambda: Problem.Logistic)\n",
    "    n_samples: int = 4500\n",
    "    h_ratio: float = 0.6\n",
    "    \n",
    "    optimizer: Optimizer = field(default_factory=lambda: Optimizer.SGD)\n",
    "    batch_size: int = 35\n",
    "    lr: float = 1e-2\n",
    "    \n",
    "    true_weights: bool = None\n",
    "    \n",
    "    md_n_iters_: int = None\n",
    "    md_full_: bool = None\n",
    "    md_lr_: int = None"
   ]
  },
  {
   "cell_type": "code",
   "execution_count": 85,
   "id": "63de4534-878d-48c6-9100-a42f76c00127",
   "metadata": {},
   "outputs": [
    {
     "name": "stdout",
     "output_type": "stream",
     "text": [
      "Trying port 10578\n",
      "2\n",
      "skdjf 2962\n",
      "rank 0: n_samples 3500\n",
      "rank 1: n_samples 3500       \n",
      "rank 2: n_samples 3500\n",
      "rank 3: n_samples 3500\n",
      "rank 4: n_samples 3500\n",
      "rank 5: n_samples 3500\n",
      "rank 6: n_samples 3500\n",
      "rank 7: n_samples 3500\n",
      "rank 9: n_samples 3500\n",
      "rank 8: n_samples 3500\n",
      "2\n",
      "skdjf 2960\n",
      "rank 10: n_samples 3500\n"
     ]
    }
   ],
   "source": [
    "config = Config()\n",
    "config.optimizer = Optimizer.SGD\n",
    "config.true_weights = False\n",
    "os.environ['MLFLOW_RUN_NAME'] = config.optimizer.name\n",
    "train(config)"
   ]
  },
  {
   "cell_type": "code",
   "execution_count": 86,
   "id": "85c250ae-b0a4-4580-a9b3-e84bbf049ed4",
   "metadata": {},
   "outputs": [
    {
     "name": "stdout",
     "output_type": "stream",
     "text": [
      "Trying port 25058\n",
      "2\n",
      "skdjf 2962\n",
      "rank 0: n_samples 3500\n",
      "rank 1: n_samples 3500       \n",
      "rank 2: n_samples 3500\n",
      "rank 3: n_samples 3500\n",
      "rank 4: n_samples 3500\n",
      "rank 5: n_samples 3500\n",
      "rank 6: n_samples 3500\n",
      "rank 7: n_samples 3500\n",
      "rank 8: n_samples 3500\n",
      "2\n",
      "skdjf 2960\n",
      "rank 10: n_samples 3500\n",
      "rank 9: n_samples 3500\n"
     ]
    }
   ],
   "source": [
    "config = Config()\n",
    "config.optimizer = Optimizer.SGD\n",
    "config.true_weights = True\n",
    "os.environ['MLFLOW_RUN_NAME'] = config.optimizer.name\n",
    "train(config)"
   ]
  },
  {
   "cell_type": "code",
   "execution_count": 87,
   "id": "89e3591b-3007-45e3-9426-407740cddf50",
   "metadata": {},
   "outputs": [
    {
     "name": "stdout",
     "output_type": "stream",
     "text": [
      "Trying port 24275\n",
      "2\n",
      "skdjf 2962\n",
      "rank 0: n_samples 3500\n",
      "rank 1: n_samples 3500       \n",
      "rank 2: n_samples 3500\n",
      "rank 3: n_samples 3500\n",
      "rank 4: n_samples 3500\n",
      "rank 5: n_samples 3500\n",
      "rank 6: n_samples 3500\n",
      "rank 7: n_samples 3500\n",
      "rank 9: n_samples 3500\n",
      "rank 8: n_samples 3500\n",
      "2\n",
      "skdjf 2960\n",
      "rank 10: n_samples 3500\n"
     ]
    }
   ],
   "source": [
    "config = Config()\n",
    "config.optimizer = Optimizer.SGDMD\n",
    "config.md_full_ = False\n",
    "config.md_n_iters_ = 50\n",
    "config.md_lr_ = 0.05\n",
    "os.environ['MLFLOW_RUN_NAME'] = config.optimizer.name\n",
    "train(config)"
   ]
  },
  {
   "cell_type": "code",
   "execution_count": null,
   "id": "468a1261-19c0-4d37-9769-42c9763944fe",
   "metadata": {},
   "outputs": [
    {
     "name": "stdout",
     "output_type": "stream",
     "text": [
      "Trying port 30780\n",
      "2\n",
      "skdjf 2962\n",
      "rank 0: n_samples 3500\n",
      "Iterations left: 4           \r"
     ]
    }
   ],
   "source": [
    "config = Config()\n",
    "config.optimizer = Optimizer.SGDMD\n",
    "config.md_full_ = True\n",
    "config.md_n_iters_ = 50\n",
    "config.md_lr_ = 0.05\n",
    "os.environ['MLFLOW_RUN_NAME'] = config.optimizer.name\n",
    "train(config)"
   ]
  },
  {
   "cell_type": "code",
   "execution_count": null,
   "id": "dce7f407-a9cc-4485-9e6d-2f1edcf777f5",
   "metadata": {},
   "outputs": [],
   "source": []
  },
  {
   "cell_type": "code",
   "execution_count": null,
   "id": "7af99b08-703d-43f5-a39a-83d962215828",
   "metadata": {},
   "outputs": [],
   "source": []
  },
  {
   "cell_type": "code",
   "execution_count": null,
   "id": "504d0011-f5dc-4db2-8802-ffe19244c6b4",
   "metadata": {},
   "outputs": [],
   "source": [
    "import torchvision.datasets as dsets\n",
    "train_dataset = dsets.MNIST(root='/tmp',\n",
    "                                    train=True,\n",
    "                                    # transform=transforms.ToTensor(),\n",
    "                                    # target_transform=transforms.ToTensor(),\n",
    "                                    download=True)\n",
    "\n",
    "        # self.input_dim = 28*28\n",
    "output_dim = 10\n",
    "        # self.model = LogisticRegressionModel(self.input_dim, output_dim)\n",
    "\n",
    "#         per_worker = int(math.ceil(len(train_dataset) / float(config.n_peers)))\n",
    "#         if per_worker < config.n_samples:\n",
    "#             # print(\"n_samples set to \", per_worker)\n",
    "#             self.per_worker = per_worker\n",
    "#         else:\n",
    "#             self.per_worker = config.n_samples\n",
    "\n",
    "#         beg = rank * per_worker\n",
    "#         end = min(beg + per_worker, len(train_dataset)-1)\n",
    "#         train_dataset.targets = train_dataset.targets[beg:end]\n",
    "#         train_dataset.data = train_dataset.data[beg:end]\n",
    "\n",
    "#         train_dataset.targets = train_dataset.targets.clone()\n",
    "#         mask = train_dataset.targets == rank % output_dim\n",
    "\n",
    "#         ratio = config.h_ratio\n",
    "#         # cond = int(mask.sum()/len(mask) > ratio)\n",
    "#         # n_switch = round((1-2*cond)*(len(mask)*ratio - int(mask.sum())))\n",
    "#         # idx = torch.where(mask == cond)[0]\n",
    "#         # idx_switch = np.random.choice(idx, size=n_switch, replace=False)\n",
    "#         # mask[idx_switch] = not cond\n",
    "#         n_switch = round(ratio*(len(mask) - int(mask.sum())))\n",
    "#         idx = torch.where(mask == False)[0]\n",
    "#         idx_switch = np.random.choice(idx, size=n_switch, replace=False)\n",
    "#         mask[idx_switch] = True\n",
    "\n",
    "#         train_dataset.targets = train_dataset.targets[mask]\n",
    "#         train_dataset.data = train_dataset.data[mask]\n",
    "#         print('rank %i: n_samples %i' % (rank, len(train_dataset.targets)))\n",
    "\n",
    "g_mask1 = train_dataset.targets == 0 \n",
    "m = train_dataset.targets == 0 \n",
    "\n",
    "_, indices = torch.topk(g_mask1.to(torch.int8), int(count/2))\n",
    "g_mask2 = torch.zeros_like(g_mask1).scatter_(0, indices, 1)\n",
    "g_mask1[indices] = 0\n",
    "\n",
    "m_ = torch.logical_or(mask1, mask2)\n",
    "print((m_ == m).all())\n",
    "\n",
    "b_mask = train_dataset.targets != 0\n",
    "\n",
    "b_dataset = train_dataset\n",
    "b_dataset.targets = train_dataset.targets[b_mask]\n",
    "b_dataset.data = train_dataset.data[b_mask]\n",
    "\n",
    "\n",
    "len(b_dataset)\n",
    "\n",
    "# per_worker = int(math.ceil(len(b_dataset) / float(config.n_peers)))\n",
    "# if per_worker < config.n_samples:\n",
    "#     # print(\"n_samples set to \", per_worker)\n",
    "#     self.per_worker = per_worker\n",
    "# else:\n",
    "#     self.per_worker = config.n_samples"
   ]
  },
  {
   "cell_type": "code",
   "execution_count": null,
   "id": "fba09848-9fff-4ea4-ab37-03a721223824",
   "metadata": {},
   "outputs": [],
   "source": [
    "_, indices = torch.topk(m.to(torch.int8), int(count/2))"
   ]
  },
  {
   "cell_type": "code",
   "execution_count": 187,
   "id": "b93d18f9-7d9f-473e-b95a-f722cac9a9f2",
   "metadata": {},
   "outputs": [
    {
     "data": {
      "text/plain": [
       "5923"
      ]
     },
     "execution_count": 187,
     "metadata": {},
     "output_type": "execute_result"
    }
   ],
   "source": [
    "indices = torch.nonzero(m).squeeze()\n",
    "\n",
    "len(indices)\n",
    "\n",
    "# g_mask2 = torch.zeros_like(m).scatter_(0, indices.squeeze(), 1)"
   ]
  },
  {
   "cell_type": "code",
   "execution_count": 182,
   "id": "c84c45b5-bb26-44bb-a61a-683221ad5c74",
   "metadata": {},
   "outputs": [
    {
     "data": {
      "text/plain": [
       "tensor(5923)"
      ]
     },
     "execution_count": 182,
     "metadata": {},
     "output_type": "execute_result"
    }
   ],
   "source": [
    "g_mask2.sum()"
   ]
  },
  {
   "cell_type": "code",
   "execution_count": null,
   "id": "e67e457e-dd1e-461b-a7d5-0b806d600b00",
   "metadata": {},
   "outputs": [],
   "source": []
  }
 ],
 "metadata": {
  "kernelspec": {
   "display_name": "Python 3 (ipykernel)",
   "language": "python",
   "name": "python3"
  },
  "language_info": {
   "codemirror_mode": {
    "name": "ipython",
    "version": 3
   },
   "file_extension": ".py",
   "mimetype": "text/x-python",
   "name": "python",
   "nbconvert_exporter": "python",
   "pygments_lexer": "ipython3",
   "version": "3.9.15"
  },
  "toc-autonumbering": true,
  "toc-showcode": true,
  "vscode": {
   "interpreter": {
    "hash": "18f7a5ae47153a9b42c5447ccb1bbe68959e117ab7750209e163c7c253c9e013"
   }
  },
  "widgets": {
   "application/vnd.jupyter.widget-state+json": {
    "state": {},
    "version_major": 2,
    "version_minor": 0
   }
  }
 },
 "nbformat": 4,
 "nbformat_minor": 5
}
