{
 "cells": [
  {
   "cell_type": "code",
   "execution_count": 2,
   "id": "3ea397aa",
   "metadata": {
    "tags": []
   },
   "outputs": [],
   "source": [
    "import os\n",
    "import itertools\n",
    "from dataclasses import dataclass, field\n",
    "from code.train import train\n",
    "from code.optimizers import Optimizer\n",
    "# from code.problems import Problem\n",
    "from code.problem import Loss\n",
    "from code.datasets import Dataset\n",
    "from code.models import Model\n",
    "\n",
    "# %matplotlib widget\n",
    "%load_ext autoreload\n",
    "%autoreload 1"
   ]
  },
  {
   "cell_type": "code",
   "execution_count": 3,
   "id": "e9b5d8cd-078e-4292-97c9-0c7a02c57fbd",
   "metadata": {
    "tags": []
   },
   "outputs": [],
   "source": [
    "def zip_dict(**kwargs):\n",
    "    keys = kwargs.keys()\n",
    "    for instance in zip(*kwargs.values()):\n",
    "        yield dict(zip(keys, instance))\n",
    "\n",
    "\n",
    "def product_dict(**kwargs):\n",
    "    keys = kwargs.keys()\n",
    "    for instance in itertools.product(*kwargs.values()):\n",
    "        yield dict(zip(keys, instance))"
   ]
  },
  {
   "cell_type": "code",
   "execution_count": 4,
   "id": "fbb69728-dca1-4d11-a498-69874930542c",
   "metadata": {
    "tags": []
   },
   "outputs": [],
   "source": [
    "# os.environ[\"OMP_NUM_THREADS\"] = \"1\"\n",
    "# os.environ[\"MKL_NUM_THREADS\"] = \"1\"\n",
    "os.environ[\"MKL_THREADING_LAYER\"] = \"AMD\"\n",
    "os.environ[\"CUDA_DEVICE_ORDER\"]=\"PCI_BUS_ID\"\n",
    "os.environ[\"CUDA_DEVICE\"] = \"cuda:2\""
   ]
  },
  {
   "cell_type": "code",
   "execution_count": 5,
   "id": "d8d681b5-96b4-41e2-86af-563b88775df7",
   "metadata": {
    "tags": []
   },
   "outputs": [],
   "source": [
    "os.environ['MLFLOW_VERBOSE'] = 'True'\n",
    "os.environ['MLFLOW_CHECK_EXIST'] = 'True'\n",
    "os.environ['MLFLOW_EXPERIMENT_NAME'] = os.path.basename(os.getcwd())"
   ]
  },
  {
   "cell_type": "markdown",
   "id": "792c2f3e-c54b-4945-94cb-b860a8d6bcf6",
   "metadata": {
    "tags": []
   },
   "source": [
    "# Mean Estimation"
   ]
  },
  {
   "cell_type": "code",
   "execution_count": null,
   "id": "5fe1472e-477c-42e3-b90c-de97e9c34bf5",
   "metadata": {
    "tags": []
   },
   "outputs": [],
   "source": [
    "os.environ[\"CUDA_DEVICE\"] = \"cpu\"\n",
    "@dataclass\n",
    "class BaseConfig():\n",
    "    n_iters: int = 5000\n",
    "    n_peers: int = 150\n",
    "    seed: int = 2\n",
    "\n",
    "    model: Model = field(default_factory=lambda: Model.Mean)\n",
    "    loss: Loss = field(default_factory=lambda: Loss.MSE)\n",
    "    dataset: Dataset = field(default_factory=lambda: Dataset.Normal)\n",
    "\n",
    "    n_samples: int = 1000\n",
    "    mu_normal: float = None\n",
    "\n",
    "    optimizer: Optimizer = field(default_factory=lambda: Optimizer.SGD)\n",
    "    batch_size: int = 100\n",
    "    lr: float = 1e-2\n",
    "\n",
    "    true_weights: bool = None\n",
    "\n",
    "    md_n_iters_: int = None\n",
    "    md_full_: bool = None\n",
    "    md_lr_: int = None"
   ]
  },
  {
   "cell_type": "code",
   "execution_count": null,
   "id": "4b41d5f2-7960-41e0-ab34-9e29facf5a56",
   "metadata": {
    "tags": []
   },
   "outputs": [],
   "source": [
    "parameters = {\n",
    "    'mu_normal': [0.001, 0.01, 0.1],\n",
    "    'md_lr_': [0.2, 0.9, 3.5]\n",
    "    # 'seed': [0],\n",
    "    }\n",
    "\n",
    "parameters = {\n",
    "    'mu_normal': [0.001],\n",
    "    'md_lr_': [0.5],\n",
    "    # 'seed': [0],\n",
    "    }"
   ]
  },
  {
   "cell_type": "code",
   "execution_count": null,
   "id": "de8e3bde-e2e1-46a0-ba16-5ec1d032fb20",
   "metadata": {
    "tags": []
   },
   "outputs": [],
   "source": [
    "for cfg in product_dict(**parameters):\n",
    "\n",
    "    os.environ['MLFLOW_RUN_NAME'] = 'MeritFed MD'\n",
    "    config = BaseConfig(**cfg)\n",
    "    config.optimizer = Optimizer.MeritFed\n",
    "    config.md_full_ = True\n",
    "    config.md_n_iters_ = 20\n",
    "    %time train(config)\n",
    "\n",
    "#     os.environ['MLFLOW_RUN_NAME'] = 'MeritFed SMD'\n",
    "#     config = BaseConfig(**cfg)\n",
    "#     config.optimizer = Optimizer.MeritFed\n",
    "#     config.md_full_ = False\n",
    "#     config.md_n_iters_ = 20\n",
    "#     %time train(config)\n",
    "\n",
    "    cfg['md_lr_'] = None\n",
    "\n",
    "#     os.environ['MLFLOW_RUN_NAME'] = 'SGD Full'\n",
    "#     config = BaseConfig(**cfg)\n",
    "#     config.optimizer = Optimizer.SGD\n",
    "#     config.true_weights = False\n",
    "#     %time train(config)\n",
    "\n",
    "    os.environ['MLFLOW_RUN_NAME'] = 'SGD Ideal'\n",
    "    config = BaseConfig(**cfg)\n",
    "    config.optimizer = Optimizer.SGD\n",
    "    config.true_weights = True\n",
    "    %time train(config)"
   ]
  },
  {
   "cell_type": "markdown",
   "id": "6563a0e6-5394-4956-ac72-fef9058294cf",
   "metadata": {},
   "source": [
    "# 4 classes MNIST"
   ]
  },
  {
   "cell_type": "code",
   "execution_count": 6,
   "id": "cf37d84f-9e8c-4022-85d5-3727b399a211",
   "metadata": {
    "tags": []
   },
   "outputs": [],
   "source": [
    "@dataclass\n",
    "class BaseConfig():\n",
    "    n_iters: int = 6000\n",
    "    n_peers: int = 20\n",
    "    seed: int = 0\n",
    "\n",
    "    model: Model = field(default_factory=lambda: Model.MNISTNet)\n",
    "    loss: Loss = field(default_factory=lambda: Loss.CrossEntropy)\n",
    "    dataset: Dataset = field(default_factory=lambda: Dataset.MNIST)\n",
    "\n",
    "    n_samples: int = 1000\n",
    "    h_ratio: float = None\n",
    "\n",
    "    optimizer: Optimizer = field(default_factory=lambda: Optimizer.SGD)\n",
    "    batch_size: int = 200\n",
    "    lr: float = 1e-2\n",
    "\n",
    "    true_weights: bool = None\n",
    "\n",
    "    md_n_iters_: int = None\n",
    "    md_full_: bool = None\n",
    "    md_lr_: int = None"
   ]
  },
  {
   "cell_type": "code",
   "execution_count": 7,
   "id": "213358de-0f5d-4c0a-ad27-2dd9ee98f564",
   "metadata": {
    "tags": []
   },
   "outputs": [],
   "source": [
    "parameters = {\n",
    "    'h_ratio': [0.99],\n",
    "    # 'h_ratio': [0.99, 0.8, 0.9, 0.7, 0.5, 0.3, 0.1, 0.01, 0.05, 0.02],\n",
    "    # 'h_ratio': [0.7, 0.5],\n",
    "    'md_lr_': [0.9],\n",
    "    # 'seed': [0],\n",
    "    }"
   ]
  },
  {
   "cell_type": "code",
   "execution_count": 8,
   "id": "3d9dc90b-20b3-4dfd-a614-e8fa221dd048",
   "metadata": {
    "tags": []
   },
   "outputs": [
    {
     "name": "stdout",
     "output_type": "stream",
     "text": [
      "Downloading http://yann.lecun.com/exdb/mnist/train-images-idx3-ubyte.gz\n",
      "Downloading http://yann.lecun.com/exdb/mnist/train-images-idx3-ubyte.gz to /tmp/MNIST/raw/train-images-idx3-ubyte.gz\n"
     ]
    },
    {
     "name": "stderr",
     "output_type": "stream",
     "text": [
      "100%|██████████| 9912422/9912422 [00:00<00:00, 20116672.89it/s]\n"
     ]
    },
    {
     "name": "stdout",
     "output_type": "stream",
     "text": [
      "Extracting /tmp/MNIST/raw/train-images-idx3-ubyte.gz to /tmp/MNIST/raw\n",
      "\n",
      "Downloading http://yann.lecun.com/exdb/mnist/train-labels-idx1-ubyte.gz\n",
      "Downloading http://yann.lecun.com/exdb/mnist/train-labels-idx1-ubyte.gz to /tmp/MNIST/raw/train-labels-idx1-ubyte.gz\n"
     ]
    },
    {
     "name": "stderr",
     "output_type": "stream",
     "text": [
      "100%|██████████| 28881/28881 [00:00<00:00, 4602769.73it/s]\n"
     ]
    },
    {
     "name": "stdout",
     "output_type": "stream",
     "text": [
      "Extracting /tmp/MNIST/raw/train-labels-idx1-ubyte.gz to /tmp/MNIST/raw\n",
      "\n",
      "Downloading http://yann.lecun.com/exdb/mnist/t10k-images-idx3-ubyte.gz\n",
      "Downloading http://yann.lecun.com/exdb/mnist/t10k-images-idx3-ubyte.gz to /tmp/MNIST/raw/t10k-images-idx3-ubyte.gz\n"
     ]
    },
    {
     "name": "stderr",
     "output_type": "stream",
     "text": [
      "100%|██████████| 1648877/1648877 [00:00<00:00, 5644128.21it/s]\n"
     ]
    },
    {
     "name": "stdout",
     "output_type": "stream",
     "text": [
      "Extracting /tmp/MNIST/raw/t10k-images-idx3-ubyte.gz to /tmp/MNIST/raw\n",
      "\n",
      "Downloading http://yann.lecun.com/exdb/mnist/t10k-labels-idx1-ubyte.gz\n",
      "Downloading http://yann.lecun.com/exdb/mnist/t10k-labels-idx1-ubyte.gz to /tmp/MNIST/raw/t10k-labels-idx1-ubyte.gz\n"
     ]
    },
    {
     "name": "stderr",
     "output_type": "stream",
     "text": [
      "100%|██████████| 4542/4542 [00:00<00:00, 21550371.91it/s]\n"
     ]
    },
    {
     "name": "stdout",
     "output_type": "stream",
     "text": [
      "Extracting /tmp/MNIST/raw/t10k-labels-idx1-ubyte.gz to /tmp/MNIST/raw\n",
      "\n",
      "Iterations left: 4775         \r"
     ]
    },
    {
     "ename": "KeyboardInterrupt",
     "evalue": "",
     "output_type": "error",
     "traceback": [
      "\u001b[0;31m---------------------------------------------------------------------------\u001b[0m",
      "\u001b[0;31mKeyboardInterrupt\u001b[0m                         Traceback (most recent call last)",
      "File \u001b[0;32m<timed eval>:1\u001b[0m\n",
      "File \u001b[0;32m~/MeritFed/code/train.py:125\u001b[0m, in \u001b[0;36mtrain\u001b[0;34m(config)\u001b[0m\n\u001b[1;32m    123\u001b[0m master_addr \u001b[38;5;241m=\u001b[39m \u001b[38;5;124m'\u001b[39m\u001b[38;5;124m127.0.0.1\u001b[39m\u001b[38;5;124m'\u001b[39m\n\u001b[1;32m    124\u001b[0m master_port \u001b[38;5;241m=\u001b[39m find_free_port()\n\u001b[0;32m--> 125\u001b[0m mp\u001b[38;5;241m.\u001b[39mspawn(_train,\n\u001b[1;32m    126\u001b[0m          args\u001b[38;5;241m=\u001b[39m(master_addr, master_port, config,),\n\u001b[1;32m    127\u001b[0m          nprocs\u001b[38;5;241m=\u001b[39mnprocs)\n",
      "File \u001b[0;32m~/anaconda3/lib/python3.11/site-packages/torch/multiprocessing/spawn.py:239\u001b[0m, in \u001b[0;36mspawn\u001b[0;34m(fn, args, nprocs, join, daemon, start_method)\u001b[0m\n\u001b[1;32m    235\u001b[0m     msg \u001b[38;5;241m=\u001b[39m (\u001b[38;5;124m'\u001b[39m\u001b[38;5;124mThis method only supports start_method=spawn (got: \u001b[39m\u001b[38;5;132;01m%s\u001b[39;00m\u001b[38;5;124m).\u001b[39m\u001b[38;5;130;01m\\n\u001b[39;00m\u001b[38;5;124m'\u001b[39m\n\u001b[1;32m    236\u001b[0m            \u001b[38;5;124m'\u001b[39m\u001b[38;5;124mTo use a different start_method use:\u001b[39m\u001b[38;5;130;01m\\n\u001b[39;00m\u001b[38;5;130;01m\\t\u001b[39;00m\u001b[38;5;130;01m\\t\u001b[39;00m\u001b[38;5;124m'\u001b[39m\n\u001b[1;32m    237\u001b[0m            \u001b[38;5;124m'\u001b[39m\u001b[38;5;124m torch.multiprocessing.start_processes(...)\u001b[39m\u001b[38;5;124m'\u001b[39m \u001b[38;5;241m%\u001b[39m start_method)\n\u001b[1;32m    238\u001b[0m     warnings\u001b[38;5;241m.\u001b[39mwarn(msg)\n\u001b[0;32m--> 239\u001b[0m \u001b[38;5;28;01mreturn\u001b[39;00m start_processes(fn, args, nprocs, join, daemon, start_method\u001b[38;5;241m=\u001b[39m\u001b[38;5;124m'\u001b[39m\u001b[38;5;124mspawn\u001b[39m\u001b[38;5;124m'\u001b[39m)\n",
      "File \u001b[0;32m~/anaconda3/lib/python3.11/site-packages/torch/multiprocessing/spawn.py:197\u001b[0m, in \u001b[0;36mstart_processes\u001b[0;34m(fn, args, nprocs, join, daemon, start_method)\u001b[0m\n\u001b[1;32m    194\u001b[0m     \u001b[38;5;28;01mreturn\u001b[39;00m context\n\u001b[1;32m    196\u001b[0m \u001b[38;5;66;03m# Loop on join until it returns True or raises an exception.\u001b[39;00m\n\u001b[0;32m--> 197\u001b[0m \u001b[38;5;28;01mwhile\u001b[39;00m \u001b[38;5;129;01mnot\u001b[39;00m context\u001b[38;5;241m.\u001b[39mjoin():\n\u001b[1;32m    198\u001b[0m     \u001b[38;5;28;01mpass\u001b[39;00m\n",
      "File \u001b[0;32m~/anaconda3/lib/python3.11/site-packages/torch/multiprocessing/spawn.py:109\u001b[0m, in \u001b[0;36mProcessContext.join\u001b[0;34m(self, timeout)\u001b[0m\n\u001b[1;32m    106\u001b[0m     \u001b[38;5;28;01mreturn\u001b[39;00m \u001b[38;5;28;01mTrue\u001b[39;00m\n\u001b[1;32m    108\u001b[0m \u001b[38;5;66;03m# Wait for any process to fail or all of them to succeed.\u001b[39;00m\n\u001b[0;32m--> 109\u001b[0m ready \u001b[38;5;241m=\u001b[39m multiprocessing\u001b[38;5;241m.\u001b[39mconnection\u001b[38;5;241m.\u001b[39mwait(\n\u001b[1;32m    110\u001b[0m     \u001b[38;5;28mself\u001b[39m\u001b[38;5;241m.\u001b[39msentinels\u001b[38;5;241m.\u001b[39mkeys(),\n\u001b[1;32m    111\u001b[0m     timeout\u001b[38;5;241m=\u001b[39mtimeout,\n\u001b[1;32m    112\u001b[0m )\n\u001b[1;32m    114\u001b[0m error_index \u001b[38;5;241m=\u001b[39m \u001b[38;5;28;01mNone\u001b[39;00m\n\u001b[1;32m    115\u001b[0m \u001b[38;5;28;01mfor\u001b[39;00m sentinel \u001b[38;5;129;01min\u001b[39;00m ready:\n",
      "File \u001b[0;32m~/anaconda3/lib/python3.11/multiprocessing/connection.py:930\u001b[0m, in \u001b[0;36mwait\u001b[0;34m(object_list, timeout)\u001b[0m\n\u001b[1;32m    927\u001b[0m     deadline \u001b[38;5;241m=\u001b[39m time\u001b[38;5;241m.\u001b[39mmonotonic() \u001b[38;5;241m+\u001b[39m timeout\n\u001b[1;32m    929\u001b[0m \u001b[38;5;28;01mwhile\u001b[39;00m \u001b[38;5;28;01mTrue\u001b[39;00m:\n\u001b[0;32m--> 930\u001b[0m     ready \u001b[38;5;241m=\u001b[39m selector\u001b[38;5;241m.\u001b[39mselect(timeout)\n\u001b[1;32m    931\u001b[0m     \u001b[38;5;28;01mif\u001b[39;00m ready:\n\u001b[1;32m    932\u001b[0m         \u001b[38;5;28;01mreturn\u001b[39;00m [key\u001b[38;5;241m.\u001b[39mfileobj \u001b[38;5;28;01mfor\u001b[39;00m (key, events) \u001b[38;5;129;01min\u001b[39;00m ready]\n",
      "File \u001b[0;32m~/anaconda3/lib/python3.11/selectors.py:415\u001b[0m, in \u001b[0;36m_PollLikeSelector.select\u001b[0;34m(self, timeout)\u001b[0m\n\u001b[1;32m    413\u001b[0m ready \u001b[38;5;241m=\u001b[39m []\n\u001b[1;32m    414\u001b[0m \u001b[38;5;28;01mtry\u001b[39;00m:\n\u001b[0;32m--> 415\u001b[0m     fd_event_list \u001b[38;5;241m=\u001b[39m \u001b[38;5;28mself\u001b[39m\u001b[38;5;241m.\u001b[39m_selector\u001b[38;5;241m.\u001b[39mpoll(timeout)\n\u001b[1;32m    416\u001b[0m \u001b[38;5;28;01mexcept\u001b[39;00m \u001b[38;5;167;01mInterruptedError\u001b[39;00m:\n\u001b[1;32m    417\u001b[0m     \u001b[38;5;28;01mreturn\u001b[39;00m ready\n",
      "\u001b[0;31mKeyboardInterrupt\u001b[0m: "
     ]
    }
   ],
   "source": [
    "for cfg in product_dict(**parameters):\n",
    "\n",
    "    os.environ['MLFLOW_RUN_NAME'] = 'MeritFed MD'\n",
    "    config = BaseConfig(**cfg)\n",
    "    config.optimizer = Optimizer.MeritFed\n",
    "    config.md_full_ = True\n",
    "    config.md_n_iters_ = 21\n",
    "    # config.md_lr_ = 0.05\n",
    "    %time train(config)\n",
    "\n",
    "#     os.environ['MLFLOW_RUN_NAME'] = 'MeritFed SMD'\n",
    "#     config = BaseConfig(**cfg)\n",
    "#     config.optimizer = Optimizer.MeritFed\n",
    "#     config.md_full_ = False\n",
    "#     config.md_n_iters_ = 20\n",
    "#     # config.md_lr_ = 0.05\n",
    "#     %time train(config)\n",
    "\n",
    "#     cfg['md_lr_'] = None\n",
    "\n",
    "#     os.environ['MLFLOW_RUN_NAME'] = 'SGD Full'\n",
    "#     config = BaseConfig(**cfg)\n",
    "#     config.optimizer = Optimizer.SGD\n",
    "#     config.true_weights = False\n",
    "#     %time train(config)\n",
    "\n",
    "#     cfg['h_ratio'] = None\n",
    "\n",
    "#     os.environ['MLFLOW_RUN_NAME'] = 'SGD Ideal'\n",
    "#     config = BaseConfig(**cfg)\n",
    "#     config.optimizer = Optimizer.SGD\n",
    "#     config.true_weights = True\n",
    "#     %time train(config)"
   ]
  },
  {
   "cell_type": "code",
   "execution_count": null,
   "id": "990dc677-95b2-4206-ac94-b74df18f1478",
   "metadata": {},
   "outputs": [],
   "source": []
  }
 ],
 "metadata": {
  "kernelspec": {
   "display_name": "Python 3 (ipykernel)",
   "language": "python",
   "name": "python3"
  },
  "language_info": {
   "codemirror_mode": {
    "name": "ipython",
    "version": 3
   },
   "file_extension": ".py",
   "mimetype": "text/x-python",
   "name": "python",
   "nbconvert_exporter": "python",
   "pygments_lexer": "ipython3",
   "version": "3.11.5"
  },
  "toc-autonumbering": true,
  "toc-showcode": true,
  "vscode": {
   "interpreter": {
    "hash": "18f7a5ae47153a9b42c5447ccb1bbe68959e117ab7750209e163c7c253c9e013"
   }
  },
  "widgets": {
   "application/vnd.jupyter.widget-state+json": {
    "state": {},
    "version_major": 2,
    "version_minor": 0
   }
  }
 },
 "nbformat": 4,
 "nbformat_minor": 5
}
