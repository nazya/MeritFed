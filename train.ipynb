{
 "cells": [
  {
   "cell_type": "code",
   "execution_count": 1,
   "id": "3ea397aa",
   "metadata": {},
   "outputs": [],
   "source": [
    "import os\n",
    "import math\n",
    "import torch\n",
    "from dataclasses import dataclass, field\n",
    "\n",
    "from code.train import train\n",
    "from code.optimizers import Optimizer\n",
    "from code.problems import Problem\n",
    "\n",
    "%matplotlib widget\n",
    "%load_ext autoreload\n",
    "%autoreload 1"
   ]
  },
  {
   "cell_type": "code",
   "execution_count": 2,
   "id": "d8d681b5-96b4-41e2-86af-563b88775df7",
   "metadata": {},
   "outputs": [],
   "source": [
    "os.environ['MLFLOW_VERBOSE'] = 'True'\n",
    "os.environ['MLFLOW_EXPERIMENT_NAME'] = os.path.basename(os.getcwd())"
   ]
  },
  {
   "cell_type": "code",
   "execution_count": 38,
   "id": "5fe1472e-477c-42e3-b90c-de97e9c34bf5",
   "metadata": {},
   "outputs": [],
   "source": [
    "os.environ['MLFLOW_RUN_TAG'] = 'mnist'\n",
    "@dataclass\n",
    "class Config():\n",
    "    n_iters: int = 50\n",
    "    n_peers: int = 6\n",
    "    # dim: int = 5\n",
    "\n",
    "    # game: Game = Game.Quadratic\n",
    "    problem: Problem = field(default_factory=lambda: Problem.Logistic)\n",
    "    n_samples: int = 10000\n",
    "\n",
    "    optimizer: Optimizer = field(default_factory=lambda: Optimizer.SGD)\n",
    "    batch_size: int = 5\n",
    "    lr: float = 1e-1\n",
    "    md_full: bool = False\n",
    "    md_iter: int = 10\n",
    "    md_lr: int = 0.5"
   ]
  },
  {
   "cell_type": "code",
   "execution_count": 39,
   "id": "63de4534-878d-48c6-9100-a42f76c00127",
   "metadata": {},
   "outputs": [
    {
     "name": "stdout",
     "output_type": "stream",
     "text": [
      "Trying port 42877\n",
      "2.35066294670105\n",
      "1.57207441329956059         \n",
      "1.23934555053710949         \n",
      "1.02208113670349129         \n",
      "0.88269519805908219         \n",
      "Iterations left: 9         \r"
     ]
    }
   ],
   "source": [
    "config = Config()\n",
    "config.optimizer = Optimizer.SGD\n",
    "os.environ['MLFLOW_RUN_NAME'] = config.optimizer.name\n",
    "os.environ['MLFLOW_RUN_TITLE'] = ''\n",
    "train(config)"
   ]
  },
  {
   "cell_type": "code",
   "execution_count": 40,
   "id": "89e3591b-3007-45e3-9426-407740cddf50",
   "metadata": {},
   "outputs": [
    {
     "name": "stdout",
     "output_type": "stream",
     "text": [
      "Trying port 44623\n",
      "2.35066294670105\n",
      "1.26050353050231939         \n",
      "0.99479562044143689         \n",
      "0.78933721780776989         \n",
      "0.71362560987472539         \n",
      "Iterations left: 9         \r"
     ]
    }
   ],
   "source": [
    "config = Config()\n",
    "config.optimizer = Optimizer.SGDMD\n",
    "os.environ['MLFLOW_RUN_NAME'] = config.optimizer.name\n",
    "os.environ['MLFLOW_RUN_TITLE'] = 'MDFullBatch=' + str(config.md_full)\n",
    "train(config)"
   ]
  },
  {
   "cell_type": "code",
   "execution_count": 41,
   "id": "468a1261-19c0-4d37-9769-42c9763944fe",
   "metadata": {},
   "outputs": [
    {
     "name": "stdout",
     "output_type": "stream",
     "text": [
      "Trying port 4947\n",
      "2.35066294670105\n",
      "1.21898686885833749         \n",
      "0.94506067037582439         \n",
      "0.76429927349090589         \n",
      "0.67738258838653569         \n",
      "Iterations left: 9         \r"
     ]
    }
   ],
   "source": [
    "config = Config()\n",
    "config.optimizer = Optimizer.SGDMD\n",
    "config.md_full = True\n",
    "os.environ['MLFLOW_RUN_NAME'] = config.optimizer.name\n",
    "os.environ['MLFLOW_RUN_TITLE'] = 'MDFullBatch=' + str(config.md_full)\n",
    "train(config)"
   ]
  },
  {
   "cell_type": "code",
   "execution_count": null,
   "id": "1a9d11ab-f787-461d-96db-e628b6f58089",
   "metadata": {},
   "outputs": [],
   "source": []
  },
  {
   "cell_type": "code",
   "execution_count": null,
   "id": "f1f8e577-91cd-4193-b78e-7b4aa1174b3a",
   "metadata": {},
   "outputs": [],
   "source": []
  },
  {
   "cell_type": "code",
   "execution_count": null,
   "id": "8a5a6887-76ab-4db2-adc1-0bde50c97999",
   "metadata": {},
   "outputs": [],
   "source": []
  },
  {
   "cell_type": "code",
   "execution_count": null,
   "id": "d36fbdd8-6fd8-4b08-87ab-28f5785dab45",
   "metadata": {},
   "outputs": [],
   "source": []
  },
  {
   "cell_type": "code",
   "execution_count": null,
   "id": "3a64b6e0-44b0-4337-9828-d8c0534bbbc4",
   "metadata": {},
   "outputs": [],
   "source": []
  },
  {
   "cell_type": "code",
   "execution_count": null,
   "id": "130d8bf6-4fea-4dea-93a0-3529ccfcfabc",
   "metadata": {},
   "outputs": [],
   "source": []
  },
  {
   "cell_type": "code",
   "execution_count": 101,
   "id": "aac19380-4f1b-446b-ad2c-03e2d95a1b31",
   "metadata": {},
   "outputs": [],
   "source": [
    "from PIL import Image\n",
    "class MyIterableDataset(dsets.MNIST):\n",
    "    def __init__(self, **args):\n",
    "        super().__init__(**args)\n",
    "\n",
    "    def __getitem__(self, index: int):# -> Tuple[Any, Any]:\n",
    "        \"\"\"\n",
    "        Args:\n",
    "            index (int): Index\n",
    "\n",
    "        Returns:\n",
    "            tuple: (image, target) where target is index of the target class.\n",
    "        \"\"\"\n",
    "        print(index)\n",
    "        # index = 0\n",
    "        img, target = self.data[index], int(self.targets[index])\n",
    "\n",
    "        # doing this so that it is consistent with all other datasets\n",
    "        # to return a PIL Image\n",
    "        img = Image.fromarray(img.numpy(), mode=\"L\")\n",
    "\n",
    "        if self.transform is not None:\n",
    "            img = self.transform(img)\n",
    "\n",
    "        if self.target_transform is not None:\n",
    "            target = self.target_transform(target)\n",
    "\n",
    "        return img, target"
   ]
  },
  {
   "cell_type": "code",
   "execution_count": 115,
   "id": "89f46aad-bca2-40b0-9354-933ccd08235e",
   "metadata": {},
   "outputs": [],
   "source": [
    "dataset = MyIterableDataset(root='/tmp', \n",
    "                            # train=Tr, \n",
    "                            transform=transforms.ToTensor(),\n",
    "                            download=True)\n",
    "\n",
    "per_worker = int(math.ceil(len(dataset) / float(config.n_peers)))\n",
    "worker_id = 1\n",
    "beg = worker_id * per_worker\n",
    "end = min(beg + per_worker, len(dataset)-1)\n",
    "dataset.targets= dataset.targets[beg:end]\n",
    "dataset.data = dataset.data[beg:end]\n",
    "\n",
    "dataset.targets = dataset.targets.clone().detach()\n",
    "idx = dataset.targets==2\n",
    "dataset.targets= dataset.targets[idx]\n",
    "dataset.data = dataset.data[idx]\n",
    "\n",
    "\n",
    "train_loader = torch.utils.data.DataLoader(dataset=dataset, \n",
    "                                           batch_size=1, \n",
    "                                           shuffle=True)\n"
   ]
  },
  {
   "cell_type": "code",
   "execution_count": 122,
   "id": "de9c266b-1bf8-4231-a49d-1ed8439af733",
   "metadata": {},
   "outputs": [
    {
     "name": "stdout",
     "output_type": "stream",
     "text": [
      "2383\n"
     ]
    },
    {
     "data": {
      "application/vnd.jupyter.widget-view+json": {
       "model_id": "1a6f1029d81c4d4d9ac8dd1d23f54b17",
       "version_major": 2,
       "version_minor": 0
      },
      "image/png": "[encoded data removed]",
      "text/html": [
       "\n",
       "            <div style=\"display: inline-block;\">\n",
       "                <div class=\"jupyter-widgets widget-label\" style=\"text-align: center;\">\n",
       "                    Figure 1\n",
       "                </div>\n",
       "                <img src='data:image/png;base64,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' width=640.0/>\n",
       "            </div>\n",
       "        "
      ],
      "text/plain": [
       "Canvas(toolbar=Toolbar(toolitems=[('Home', 'Reset original view', 'home', 'home'), ('Back', 'Back to previous …"
      ]
     },
     "metadata": {},
     "output_type": "display_data"
    }
   ],
   "source": [
    "import matplotlib.pyplot as plt\n",
    "# %matplotlib inline  \n",
    "import numpy as np\n",
    "# torch.manual_seed(0)\n",
    "show_img = next(iter(train_loader))[0].numpy().reshape(28, 28)\n",
    "plt.imshow(show_img, cmap='gray')\n",
    "plt.show()"
   ]
  },
  {
   "cell_type": "code",
   "execution_count": 117,
   "id": "710d1377-3ea1-4ed3-a50d-402bc28153c7",
   "metadata": {},
   "outputs": [
    {
     "ename": "ValueError",
     "evalue": "DataLoader with IterableDataset: expected unspecified shuffle option, but got shuffle=True",
     "output_type": "error",
     "traceback": [
      "\u001b[0;31m---------------------------------------------------------------------------\u001b[0m",
      "\u001b[0;31mValueError\u001b[0m                                Traceback (most recent call last)",
      "Cell \u001b[0;32mIn [117], line 33\u001b[0m\n\u001b[1;32m     27\u001b[0m     dataset\u001b[38;5;241m.\u001b[39mend \u001b[38;5;241m=\u001b[39m \u001b[38;5;28mmin\u001b[39m(dataset\u001b[38;5;241m.\u001b[39mstart \u001b[38;5;241m+\u001b[39m per_worker, overall_end)\n\u001b[1;32m     31\u001b[0m ds \u001b[38;5;241m=\u001b[39m MyIterableDataset(start\u001b[38;5;241m=\u001b[39m\u001b[38;5;241m0\u001b[39m, end\u001b[38;5;241m=\u001b[39m\u001b[38;5;241m500\u001b[39m)\n\u001b[0;32m---> 33\u001b[0m dl \u001b[38;5;241m=\u001b[39m \u001b[43mDataLoader\u001b[49m\u001b[43m(\u001b[49m\n\u001b[1;32m     34\u001b[0m \u001b[43m    \u001b[49m\u001b[43mdataset\u001b[49m\u001b[38;5;241;43m=\u001b[39;49m\u001b[43mds\u001b[49m\u001b[43m,\u001b[49m\u001b[43m \u001b[49m\u001b[43mbatch_size\u001b[49m\u001b[38;5;241;43m=\u001b[39;49m\u001b[38;5;241;43m100\u001b[39;49m\u001b[43m,\u001b[49m\u001b[43m \u001b[49m\u001b[43mshuffle\u001b[49m\u001b[38;5;241;43m=\u001b[39;49m\u001b[38;5;28;43;01mTrue\u001b[39;49;00m\u001b[43m,\u001b[49m\u001b[43m \u001b[49m\u001b[43mnum_workers\u001b[49m\u001b[38;5;241;43m=\u001b[39;49m\u001b[38;5;241;43m2\u001b[39;49m\u001b[43m,\u001b[49m\u001b[43m \u001b[49m\u001b[43mworker_init_fn\u001b[49m\u001b[38;5;241;43m=\u001b[39;49m\u001b[43mworker_init_fn\u001b[49m\u001b[43m,\u001b[49m\n\u001b[1;32m     35\u001b[0m \u001b[43m)\u001b[49m\n\u001b[1;32m     37\u001b[0m \u001b[38;5;28;01mfor\u001b[39;00m e \u001b[38;5;129;01min\u001b[39;00m dl:\n\u001b[1;32m     38\u001b[0m     \u001b[38;5;28mprint\u001b[39m(e)\n",
      "File \u001b[0;32m~/miniconda3/lib/python3.9/site-packages/torch/utils/data/dataloader.py:228\u001b[0m, in \u001b[0;36mDataLoader.__init__\u001b[0;34m(self, dataset, batch_size, shuffle, sampler, batch_sampler, num_workers, collate_fn, pin_memory, drop_last, timeout, worker_init_fn, multiprocessing_context, generator, prefetch_factor, persistent_workers)\u001b[0m\n\u001b[1;32m    202\u001b[0m \u001b[38;5;66;03m# NOTE [ Custom Samplers and IterableDataset ]\u001b[39;00m\n\u001b[1;32m    203\u001b[0m \u001b[38;5;66;03m#\u001b[39;00m\n\u001b[1;32m    204\u001b[0m \u001b[38;5;66;03m# `IterableDataset` does not support custom `batch_sampler` or\u001b[39;00m\n\u001b[0;32m   (...)\u001b[0m\n\u001b[1;32m    225\u001b[0m \u001b[38;5;66;03m# this, and support custom samplers that specify the assignments to\u001b[39;00m\n\u001b[1;32m    226\u001b[0m \u001b[38;5;66;03m# specific workers.\u001b[39;00m\n\u001b[1;32m    227\u001b[0m \u001b[38;5;28;01mif\u001b[39;00m shuffle \u001b[38;5;129;01mis\u001b[39;00m \u001b[38;5;129;01mnot\u001b[39;00m \u001b[38;5;28;01mFalse\u001b[39;00m:\n\u001b[0;32m--> 228\u001b[0m     \u001b[38;5;28;01mraise\u001b[39;00m \u001b[38;5;167;01mValueError\u001b[39;00m(\n\u001b[1;32m    229\u001b[0m         \u001b[38;5;124m\"\u001b[39m\u001b[38;5;124mDataLoader with IterableDataset: expected unspecified \u001b[39m\u001b[38;5;124m\"\u001b[39m\n\u001b[1;32m    230\u001b[0m         \u001b[38;5;124m\"\u001b[39m\u001b[38;5;124mshuffle option, but got shuffle=\u001b[39m\u001b[38;5;132;01m{}\u001b[39;00m\u001b[38;5;124m\"\u001b[39m\u001b[38;5;241m.\u001b[39mformat(shuffle))\n\u001b[1;32m    231\u001b[0m \u001b[38;5;28;01melif\u001b[39;00m sampler \u001b[38;5;129;01mis\u001b[39;00m \u001b[38;5;129;01mnot\u001b[39;00m \u001b[38;5;28;01mNone\u001b[39;00m:\n\u001b[1;32m    232\u001b[0m     \u001b[38;5;66;03m# See NOTE [ Custom Samplers and IterableDataset ]\u001b[39;00m\n\u001b[1;32m    233\u001b[0m     \u001b[38;5;28;01mraise\u001b[39;00m \u001b[38;5;167;01mValueError\u001b[39;00m(\n\u001b[1;32m    234\u001b[0m         \u001b[38;5;124m\"\u001b[39m\u001b[38;5;124mDataLoader with IterableDataset: expected unspecified \u001b[39m\u001b[38;5;124m\"\u001b[39m\n\u001b[1;32m    235\u001b[0m         \u001b[38;5;124m\"\u001b[39m\u001b[38;5;124msampler option, but got sampler=\u001b[39m\u001b[38;5;132;01m{}\u001b[39;00m\u001b[38;5;124m\"\u001b[39m\u001b[38;5;241m.\u001b[39mformat(sampler))\n",
      "\u001b[0;31mValueError\u001b[0m: DataLoader with IterableDataset: expected unspecified shuffle option, but got shuffle=True"
     ]
    }
   ],
   "source": [
    "import torch\n",
    "import math\n",
    "from torch.utils.data import DataLoader\n",
    "\n",
    "\n",
    "class MyIterableDataset(torch.utils.data.IterableDataset):\n",
    "    def __init__(self, start, end):\n",
    "        super(MyIterableDataset).__init__()\n",
    "        assert end > start, \"this example code only works with end >= start\"\n",
    "        self.start = start\n",
    "        self.end = end\n",
    "\n",
    "    def __iter__(self):\n",
    "        return iter(range(self.start, self.end))\n",
    "\n",
    "\n",
    "# Define a `worker_init_fn` that configures each dataset copy differently\n",
    "def worker_init_fn(worker_id):\n",
    "    worker_info = torch.utils.data.get_worker_info()\n",
    "    dataset = worker_info.dataset  # the dataset copy in this worker process\n",
    "    overall_start = dataset.start\n",
    "    overall_end = dataset.end\n",
    "    # configure the dataset to only process the split workload\n",
    "    per_worker = int(math.ceil((overall_end - overall_start) / float(worker_info.num_workers)))\n",
    "    worker_id = 0\n",
    "    dataset.start = overall_start + worker_id * per_worker\n",
    "    dataset.end = min(dataset.start + per_worker, overall_end)\n",
    "\n",
    "\n",
    "\n",
    "ds = MyIterableDataset(start=0, end=500)\n",
    "\n",
    "dl = DataLoader(\n",
    "    dataset=ds, batch_size=100, shuffle=True, num_workers=2, worker_init_fn=worker_init_fn,\n",
    ")\n",
    "\n",
    "for e in dl:\n",
    "    print(e)\n",
    "        "
   ]
  },
  {
   "cell_type": "code",
   "execution_count": null,
   "id": "80e4e91e-6319-49a3-a67d-f8fc05e659ce",
   "metadata": {},
   "outputs": [],
   "source": []
  },
  {
   "cell_type": "code",
   "execution_count": null,
   "id": "1bafe92b-9cc9-44f8-84fe-cb6b17a7ed04",
   "metadata": {},
   "outputs": [],
   "source": []
  },
  {
   "cell_type": "code",
   "execution_count": null,
   "id": "6717bcf4-0819-47ab-a63f-a1b3c98dfd03",
   "metadata": {},
   "outputs": [],
   "source": []
  },
  {
   "cell_type": "code",
   "execution_count": null,
   "id": "d7a50914-119f-40d6-8483-a2757e216d19",
   "metadata": {},
   "outputs": [],
   "source": []
  },
  {
   "cell_type": "code",
   "execution_count": null,
   "id": "d7bd6c0b-362b-4099-9281-dd0ba90f29f5",
   "metadata": {},
   "outputs": [],
   "source": []
  },
  {
   "cell_type": "code",
   "execution_count": null,
   "id": "5d68f9aa-3db3-465b-9787-398d08156bf6",
   "metadata": {},
   "outputs": [],
   "source": []
  },
  {
   "cell_type": "code",
   "execution_count": null,
   "id": "24868b03-f361-4519-b60d-7b6e026b604c",
   "metadata": {},
   "outputs": [],
   "source": []
  },
  {
   "cell_type": "code",
   "execution_count": null,
   "id": "08165fe9-fc1c-40d3-be6a-916027d7d800",
   "metadata": {},
   "outputs": [],
   "source": []
  },
  {
   "cell_type": "code",
   "execution_count": null,
   "id": "8227eeeb-2037-40fb-a90d-a5216d72643a",
   "metadata": {},
   "outputs": [],
   "source": []
  },
  {
   "cell_type": "code",
   "execution_count": null,
   "id": "dce7f407-a9cc-4485-9e6d-2f1edcf777f5",
   "metadata": {},
   "outputs": [],
   "source": []
  },
  {
   "cell_type": "code",
   "execution_count": null,
   "id": "7af99b08-703d-43f5-a39a-83d962215828",
   "metadata": {},
   "outputs": [],
   "source": []
  },
  {
   "cell_type": "code",
   "execution_count": null,
   "id": "48e99bd1-4a19-43a9-9df5-b1b818b3b722",
   "metadata": {},
   "outputs": [],
   "source": []
  }
 ],
 "metadata": {
  "kernelspec": {
   "display_name": "Python 3 (ipykernel)",
   "language": "python",
   "name": "python3"
  },
  "language_info": {
   "codemirror_mode": {
    "name": "ipython",
    "version": 3
   },
   "file_extension": ".py",
   "mimetype": "text/x-python",
   "name": "python",
   "nbconvert_exporter": "python",
   "pygments_lexer": "ipython3",
   "version": "3.9.15"
  },
  "vscode": {
   "interpreter": {
    "hash": "18f7a5ae47153a9b42c5447ccb1bbe68959e117ab7750209e163c7c253c9e013"
   }
  },
  "widgets": {
   "application/vnd.jupyter.widget-state+json": {
    "state": {},
    "version_major": 2,
    "version_minor": 0
   }
  }
 },
 "nbformat": 4,
 "nbformat_minor": 5
}
