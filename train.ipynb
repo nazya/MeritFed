{
 "cells": [
  {
   "cell_type": "code",
   "execution_count": 1,
   "id": "3ea397aa",
   "metadata": {},
   "outputs": [],
   "source": [
    "import os\n",
    "import math\n",
    "import torch\n",
    "from dataclasses import dataclass, field\n",
    "\n",
    "from code.train import train\n",
    "from code.optimizers import Optimizer\n",
    "from code.problems import Problem\n",
    "\n",
    "%matplotlib widget\n",
    "%load_ext autoreload\n",
    "%autoreload 1"
   ]
  },
  {
   "cell_type": "code",
   "execution_count": 2,
   "id": "d8d681b5-96b4-41e2-86af-563b88775df7",
   "metadata": {},
   "outputs": [],
   "source": [
    "os.environ['MLFLOW_VERBOSE'] = 'True'\n",
    "os.environ['MLFLOW_EXPERIMENT_NAME'] = os.path.basename(os.getcwd())"
   ]
  },
  {
   "cell_type": "code",
   "execution_count": 38,
   "id": "5fe1472e-477c-42e3-b90c-de97e9c34bf5",
   "metadata": {},
   "outputs": [],
   "source": [
    "os.environ['MLFLOW_RUN_TAG'] = 'mnist'\n",
    "@dataclass\n",
    "class Config():\n",
    "    n_iters: int = 50\n",
    "    n_peers: int = 6\n",
    "    # dim: int = 5\n",
    "\n",
    "    # game: Game = Game.Quadratic\n",
    "    problem: Problem = field(default_factory=lambda: Problem.Logistic)\n",
    "    n_samples: int = 10000\n",
    "\n",
    "    optimizer: Optimizer = field(default_factory=lambda: Optimizer.SGD)\n",
    "    batch_size: int = 5\n",
    "    lr: float = 1e-1\n",
    "    md_full: bool = False\n",
    "    md_iter: int = 10\n",
    "    md_lr: int = 0.5"
   ]
  },
  {
   "cell_type": "code",
   "execution_count": 39,
   "id": "63de4534-878d-48c6-9100-a42f76c00127",
   "metadata": {},
   "outputs": [
    {
     "name": "stdout",
     "output_type": "stream",
     "text": [
      "Trying port 42877\n",
      "2.35066294670105\n",
      "1.57207441329956059         \n",
      "1.23934555053710949         \n",
      "1.02208113670349129         \n",
      "0.88269519805908219         \n",
      "Iterations left: 9         \r"
     ]
    }
   ],
   "source": [
    "config = Config()\n",
    "config.optimizer = Optimizer.SGD\n",
    "os.environ['MLFLOW_RUN_NAME'] = config.optimizer.name\n",
    "os.environ['MLFLOW_RUN_TITLE'] = ''\n",
    "train(config)"
   ]
  },
  {
   "cell_type": "code",
   "execution_count": 40,
   "id": "89e3591b-3007-45e3-9426-407740cddf50",
   "metadata": {},
   "outputs": [
    {
     "name": "stdout",
     "output_type": "stream",
     "text": [
      "Trying port 44623\n",
      "2.35066294670105\n",
      "1.26050353050231939         \n",
      "0.99479562044143689         \n",
      "0.78933721780776989         \n",
      "0.71362560987472539         \n",
      "Iterations left: 9         \r"
     ]
    }
   ],
   "source": [
    "config = Config()\n",
    "config.optimizer = Optimizer.SGDMD\n",
    "os.environ['MLFLOW_RUN_NAME'] = config.optimizer.name\n",
    "os.environ['MLFLOW_RUN_TITLE'] = 'MDFullBatch=' + str(config.md_full)\n",
    "train(config)"
   ]
  },
  {
   "cell_type": "code",
   "execution_count": 41,
   "id": "468a1261-19c0-4d37-9769-42c9763944fe",
   "metadata": {},
   "outputs": [
    {
     "name": "stdout",
     "output_type": "stream",
     "text": [
      "Trying port 4947\n",
      "2.35066294670105\n",
      "1.21898686885833749         \n",
      "0.94506067037582439         \n",
      "0.76429927349090589         \n",
      "0.67738258838653569         \n",
      "Iterations left: 9         \r"
     ]
    }
   ],
   "source": [
    "config = Config()\n",
    "config.optimizer = Optimizer.SGDMD\n",
    "config.md_full = True\n",
    "os.environ['MLFLOW_RUN_NAME'] = config.optimizer.name\n",
    "os.environ['MLFLOW_RUN_TITLE'] = 'MDFullBatch=' + str(config.md_full)\n",
    "train(config)"
   ]
  },
  {
   "cell_type": "code",
   "execution_count": null,
   "id": "1a9d11ab-f787-461d-96db-e628b6f58089",
   "metadata": {},
   "outputs": [],
   "source": []
  },
  {
   "cell_type": "code",
   "execution_count": null,
   "id": "f1f8e577-91cd-4193-b78e-7b4aa1174b3a",
   "metadata": {},
   "outputs": [],
   "source": []
  },
  {
   "cell_type": "code",
   "execution_count": null,
   "id": "8a5a6887-76ab-4db2-adc1-0bde50c97999",
   "metadata": {},
   "outputs": [],
   "source": []
  },
  {
   "cell_type": "code",
   "execution_count": null,
   "id": "d36fbdd8-6fd8-4b08-87ab-28f5785dab45",
   "metadata": {},
   "outputs": [],
   "source": []
  },
  {
   "cell_type": "code",
   "execution_count": null,
   "id": "3a64b6e0-44b0-4337-9828-d8c0534bbbc4",
   "metadata": {},
   "outputs": [],
   "source": []
  },
  {
   "cell_type": "code",
   "execution_count": null,
   "id": "130d8bf6-4fea-4dea-93a0-3529ccfcfabc",
   "metadata": {},
   "outputs": [],
   "source": []
  },
  {
   "cell_type": "code",
   "execution_count": 101,
   "id": "aac19380-4f1b-446b-ad2c-03e2d95a1b31",
   "metadata": {},
   "outputs": [],
   "source": [
    "from PIL import Image\n",
    "class MyIterableDataset(dsets.MNIST):\n",
    "    def __init__(self, **args):\n",
    "        super().__init__(**args)\n",
    "\n",
    "    def __getitem__(self, index: int):# -> Tuple[Any, Any]:\n",
    "        \"\"\"\n",
    "        Args:\n",
    "            index (int): Index\n",
    "\n",
    "        Returns:\n",
    "            tuple: (image, target) where target is index of the target class.\n",
    "        \"\"\"\n",
    "        print(index)\n",
    "        # index = 0\n",
    "        img, target = self.data[index], int(self.targets[index])\n",
    "\n",
    "        # doing this so that it is consistent with all other datasets\n",
    "        # to return a PIL Image\n",
    "        img = Image.fromarray(img.numpy(), mode=\"L\")\n",
    "\n",
    "        if self.transform is not None:\n",
    "            img = self.transform(img)\n",
    "\n",
    "        if self.target_transform is not None:\n",
    "            target = self.target_transform(target)\n",
    "\n",
    "        return img, target"
   ]
  },
  {
   "cell_type": "code",
   "execution_count": null,
   "id": "dce7f407-a9cc-4485-9e6d-2f1edcf777f5",
   "metadata": {},
   "outputs": [],
   "source": []
  },
  {
   "cell_type": "code",
   "execution_count": null,
   "id": "7af99b08-703d-43f5-a39a-83d962215828",
   "metadata": {},
   "outputs": [],
   "source": []
  },
  {
   "cell_type": "code",
   "execution_count": null,
   "id": "48e99bd1-4a19-43a9-9df5-b1b818b3b722",
   "metadata": {},
   "outputs": [],
   "source": []
  }
 ],
 "metadata": {
  "kernelspec": {
   "display_name": "Python 3 (ipykernel)",
   "language": "python",
   "name": "python3"
  },
  "language_info": {
   "codemirror_mode": {
    "name": "ipython",
    "version": 3
   },
   "file_extension": ".py",
   "mimetype": "text/x-python",
   "name": "python",
   "nbconvert_exporter": "python",
   "pygments_lexer": "ipython3",
   "version": "3.9.15"
  },
  "vscode": {
   "interpreter": {
    "hash": "18f7a5ae47153a9b42c5447ccb1bbe68959e117ab7750209e163c7c253c9e013"
   }
  },
  "widgets": {
   "application/vnd.jupyter.widget-state+json": {
    "state": {},
    "version_major": 2,
    "version_minor": 0
   }
  }
 },
 "nbformat": 4,
 "nbformat_minor": 5
}
