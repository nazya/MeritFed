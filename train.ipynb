{
 "cells": [
  {
   "cell_type": "code",
   "execution_count": 1,
   "id": "3ea397aa",
   "metadata": {},
   "outputs": [],
   "source": [
    "import os\n",
    "import math\n",
    "import torch\n",
    "from dataclasses import dataclass, field\n",
    "\n",
    "from code.train import train\n",
    "from code.optimizers import Optimizer\n",
    "# from code.problems import Problem\n",
    "from code.problem import Loss\n",
    "from code.datasets import Dataset\n",
    "from code.models import Model\n",
    "\n",
    "# %matplotlib widget\n",
    "%load_ext autoreload\n",
    "%autoreload 1"
   ]
  },
  {
   "cell_type": "code",
   "execution_count": 2,
   "id": "fbb69728-dca1-4d11-a498-69874930542c",
   "metadata": {},
   "outputs": [],
   "source": [
    "os.environ[\"OMP_NUM_THREADS\"] = \"1\"\n",
    "os.environ[\"MKL_NUM_THREADS\"] = \"1\""
   ]
  },
  {
   "cell_type": "code",
   "execution_count": 3,
   "id": "d8d681b5-96b4-41e2-86af-563b88775df7",
   "metadata": {},
   "outputs": [],
   "source": [
    "os.environ['MLFLOW_VERBOSE'] = 'True'\n",
    "os.environ['MLFLOW_EXPERIMENT_NAME'] = os.path.basename(os.getcwd())"
   ]
  },
  {
   "cell_type": "code",
   "execution_count": 4,
   "id": "429b528b-c7d7-4343-b38f-28fac1783fc6",
   "metadata": {},
   "outputs": [
    {
     "data": {
      "text/plain": [
       "'MeritFed-N'"
      ]
     },
     "execution_count": 4,
     "metadata": {},
     "output_type": "execute_result"
    }
   ],
   "source": [
    "os.path.basename(os.getcwd())"
   ]
  },
  {
   "cell_type": "code",
   "execution_count": null,
   "id": "7ac8c7bb-daa7-487a-a344-f1f18daf2202",
   "metadata": {},
   "outputs": [],
   "source": [
    "m = torch.nn.Dropout1d(p=0.2)\n",
    "input = torch.randn(2, 2, 5, 5)\n",
    "input.shape\n",
    "\n",
    "\n",
    "(*input.shape[:2], -1)\n",
    "\n",
    "output = m(input.reshape((*input.shape[:2], -1)))\n",
    "output"
   ]
  },
  {
   "cell_type": "code",
   "execution_count": 36,
   "id": "5fe1472e-477c-42e3-b90c-de97e9c34bf5",
   "metadata": {},
   "outputs": [],
   "source": [
    "@dataclass\n",
    "class Config():\n",
    "    n_iters: int = 2000\n",
    "    n_peers: int = 20\n",
    "    seed: int = 0\n",
    "\n",
    "    model: Model = field(default_factory=lambda: Model.Net)\n",
    "    loss: Loss = field(default_factory=lambda: Loss.CrossEntropy)\n",
    "\n",
    "    dataset: Dataset = field(default_factory=lambda: Dataset.MNIST)\n",
    "\n",
    "#     model: Model = field(default_factory=lambda: Model.Mean)\n",
    "#     loss: Loss = field(default_factory=lambda: Loss.MSE)\n",
    "\n",
    "#     dataset: Dataset = field(default_factory=lambda: Dataset.Normal)\n",
    "    n_samples: int = 200\n",
    "    h_ratio: float = 0.99\n",
    "    mu_normal: float = None\n",
    "\n",
    "    optimizer: Optimizer = field(default_factory=lambda: Optimizer.SGD)\n",
    "    batch_size: int = 20\n",
    "    lr: float = 1e-2\n",
    "\n",
    "    true_weights: bool = None\n",
    "\n",
    "    md_n_iters_: int = None\n",
    "    md_full_: bool = None\n",
    "    md_lr_: int = None"
   ]
  },
  {
   "cell_type": "code",
   "execution_count": null,
   "id": "85c250ae-b0a4-4580-a9b3-e84bbf049ed4",
   "metadata": {},
   "outputs": [
    {
     "name": "stdout",
     "output_type": "stream",
     "text": [
      "Trying port 5317\n",
      "test len  200\n",
      "3957\n",
      "full test len  3957\n",
      "full test len  20\n",
      "calc1 200\n",
      "actual3 18\n",
      "calc3 18\n",
      "actual1 200\n",
      "Iterations left: 1836         \r"
     ]
    }
   ],
   "source": [
    "config = Config()\n",
    "config.optimizer = Optimizer.SGD\n",
    "config.true_weights = True\n",
    "os.environ['MLFLOW_RUN_NAME'] = config.optimizer.name\n",
    "%time train(config)"
   ]
  },
  {
   "cell_type": "code",
   "execution_count": null,
   "id": "468a1261-19c0-4d37-9769-42c9763944fe",
   "metadata": {},
   "outputs": [],
   "source": [
    "config = Config()\n",
    "config.optimizer = Optimizer.MeritFed\n",
    "config.md_full_ = True\n",
    "config.md_n_iters_ = 20\n",
    "config.md_lr_ = 0.01\n",
    "os.environ['MLFLOW_RUN_NAME'] = config.optimizer.name\n",
    "%time train(config)"
   ]
  },
  {
   "cell_type": "code",
   "execution_count": null,
   "id": "ad97a582-47d2-485b-92f5-da04d66e9359",
   "metadata": {
    "tags": []
   },
   "outputs": [],
   "source": [
    "config = Config()\n",
    "config.optimizer = Optimizer.SGD\n",
    "config.true_weights = False\n",
    "os.environ['MLFLOW_RUN_NAME'] = config.optimizer.name\n",
    "%time train(config)"
   ]
  },
  {
   "cell_type": "code",
   "execution_count": null,
   "id": "89e3591b-3007-45e3-9426-407740cddf50",
   "metadata": {},
   "outputs": [],
   "source": [
    "config = Config()\n",
    "config.optimizer = Optimizer.MeritFed\n",
    "config.md_full_ = False\n",
    "config.md_n_iters_ = 20\n",
    "config.md_lr_ = 0.01\n",
    "os.environ['MLFLOW_RUN_NAME'] = config.optimizer.name\n",
    "%time train(config)"
   ]
  },
  {
   "cell_type": "code",
   "execution_count": null,
   "id": "6fc8cc16-e687-405f-a150-c7b56315cf2f",
   "metadata": {},
   "outputs": [],
   "source": []
  },
  {
   "cell_type": "code",
   "execution_count": null,
   "id": "3d9dc90b-20b3-4dfd-a614-e8fa221dd048",
   "metadata": {},
   "outputs": [],
   "source": []
  },
  {
   "cell_type": "code",
   "execution_count": null,
   "id": "7add773e-b43c-4447-ae4d-17dc4578ca44",
   "metadata": {},
   "outputs": [],
   "source": []
  }
 ],
 "metadata": {
  "kernelspec": {
   "display_name": "Python 3 (ipykernel)",
   "language": "python",
   "name": "python3"
  },
  "language_info": {
   "codemirror_mode": {
    "name": "ipython",
    "version": 3
   },
   "file_extension": ".py",
   "mimetype": "text/x-python",
   "name": "python",
   "nbconvert_exporter": "python",
   "pygments_lexer": "ipython3",
   "version": "3.11.5"
  },
  "toc-autonumbering": true,
  "toc-showcode": true,
  "vscode": {
   "interpreter": {
    "hash": "18f7a5ae47153a9b42c5447ccb1bbe68959e117ab7750209e163c7c253c9e013"
   }
  },
  "widgets": {
   "application/vnd.jupyter.widget-state+json": {
    "state": {},
    "version_major": 2,
    "version_minor": 0
   }
  }
 },
 "nbformat": 4,
 "nbformat_minor": 5
}
